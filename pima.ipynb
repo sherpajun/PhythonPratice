{
 "cells": [
  {
   "cell_type": "code",
   "execution_count": 1,
   "id": "6ccf6f68-1d94-45d5-a094-1071e2f857b3",
   "metadata": {},
   "outputs": [],
   "source": [
    "import  pandas as pd"
   ]
  },
  {
   "cell_type": "code",
   "execution_count": 2,
   "id": "cec1a4da-5029-4a3a-bbbc-7e43804dae30",
   "metadata": {},
   "outputs": [],
   "source": [
    "from sklearn.model_selection import train_test_split"
   ]
  },
  {
   "cell_type": "code",
   "execution_count": 3,
   "id": "37a742c0-ef31-432f-a943-51a184a75740",
   "metadata": {},
   "outputs": [],
   "source": [
    "import warnings\n",
    "warnings.filterwarnings('ignore')"
   ]
  },
  {
   "cell_type": "code",
   "execution_count": 4,
   "id": "22fd06cc-e02d-4007-9a47-0c9c1de896cf",
   "metadata": {
    "tags": []
   },
   "outputs": [
    {
     "data": {
      "text/html": [
       "<div>\n",
       "<style scoped>\n",
       "    .dataframe tbody tr th:only-of-type {\n",
       "        vertical-align: middle;\n",
       "    }\n",
       "\n",
       "    .dataframe tbody tr th {\n",
       "        vertical-align: top;\n",
       "    }\n",
       "\n",
       "    .dataframe thead th {\n",
       "        text-align: right;\n",
       "    }\n",
       "</style>\n",
       "<table border=\"1\" class=\"dataframe\">\n",
       "  <thead>\n",
       "    <tr style=\"text-align: right;\">\n",
       "      <th></th>\n",
       "      <th>Pregnancies</th>\n",
       "      <th>Glucose</th>\n",
       "      <th>BloodPressure</th>\n",
       "      <th>SkinThickness</th>\n",
       "      <th>Insulin</th>\n",
       "      <th>BMI</th>\n",
       "      <th>DiabetesPedigreeFunction</th>\n",
       "      <th>Age</th>\n",
       "      <th>Outcome</th>\n",
       "    </tr>\n",
       "  </thead>\n",
       "  <tbody>\n",
       "    <tr>\n",
       "      <th>0</th>\n",
       "      <td>6</td>\n",
       "      <td>148</td>\n",
       "      <td>72</td>\n",
       "      <td>35</td>\n",
       "      <td>0</td>\n",
       "      <td>33.6</td>\n",
       "      <td>0.627</td>\n",
       "      <td>50</td>\n",
       "      <td>1</td>\n",
       "    </tr>\n",
       "    <tr>\n",
       "      <th>1</th>\n",
       "      <td>1</td>\n",
       "      <td>85</td>\n",
       "      <td>66</td>\n",
       "      <td>29</td>\n",
       "      <td>0</td>\n",
       "      <td>26.6</td>\n",
       "      <td>0.351</td>\n",
       "      <td>31</td>\n",
       "      <td>0</td>\n",
       "    </tr>\n",
       "  </tbody>\n",
       "</table>\n",
       "</div>"
      ],
      "text/plain": [
       "   Pregnancies  Glucose  BloodPressure  SkinThickness  Insulin   BMI  \\\n",
       "0            6      148             72             35        0  33.6   \n",
       "1            1       85             66             29        0  26.6   \n",
       "\n",
       "   DiabetesPedigreeFunction  Age  Outcome  \n",
       "0                     0.627   50        1  \n",
       "1                     0.351   31        0  "
      ]
     },
     "execution_count": 4,
     "metadata": {},
     "output_type": "execute_result"
    }
   ],
   "source": [
    "df = pd.read_csv('diabetes.csv')\n",
    "df.head(2)"
   ]
  },
  {
   "cell_type": "code",
   "execution_count": 5,
   "id": "9cbcc634-9fc8-47b0-b6bc-a16038ea2762",
   "metadata": {
    "tags": []
   },
   "outputs": [
    {
     "name": "stdout",
     "output_type": "stream",
     "text": [
      "<class 'pandas.core.frame.DataFrame'>\n",
      "RangeIndex: 768 entries, 0 to 767\n",
      "Data columns (total 9 columns):\n",
      " #   Column                    Non-Null Count  Dtype  \n",
      "---  ------                    --------------  -----  \n",
      " 0   Pregnancies               768 non-null    int64  \n",
      " 1   Glucose                   768 non-null    int64  \n",
      " 2   BloodPressure             768 non-null    int64  \n",
      " 3   SkinThickness             768 non-null    int64  \n",
      " 4   Insulin                   768 non-null    int64  \n",
      " 5   BMI                       768 non-null    float64\n",
      " 6   DiabetesPedigreeFunction  768 non-null    float64\n",
      " 7   Age                       768 non-null    int64  \n",
      " 8   Outcome                   768 non-null    int64  \n",
      "dtypes: float64(2), int64(7)\n",
      "memory usage: 54.1 KB\n"
     ]
    }
   ],
   "source": [
    "df.info()"
   ]
  },
  {
   "cell_type": "code",
   "execution_count": 6,
   "id": "79df14a1-7493-4558-a61d-9b57b745233e",
   "metadata": {},
   "outputs": [],
   "source": [
    "X = df.iloc[:,:-1]\n",
    "\n",
    "y = df.iloc[:,-1] \n",
    "\n",
    "X_train,X_test,y_train,y_test = train_test_split(X,y,test_size=0.2,random_state=156,stratify=y)"
   ]
  },
  {
   "cell_type": "code",
   "execution_count": 7,
   "id": "0dc71f44-5bc6-42a3-8f30-b97652e130f4",
   "metadata": {},
   "outputs": [],
   "source": [
    "from sklearn.linear_model import LogisticRegression"
   ]
  },
  {
   "cell_type": "code",
   "execution_count": 23,
   "id": "23abd65b-fe55-4a72-992c-79061da684bc",
   "metadata": {},
   "outputs": [],
   "source": [
    "from sklearn.metrics import confusion_matrix,accuracy_score,precision_score,recall_score,f1_score,precision_recall_curve,roc_auc_score\n",
    "\n",
    "def get_clf_eval(y_test,pred):\n",
    "        confusion = confusion_matrix(y_test,pred)\n",
    "        accuracy = accuracy_score(y_test,pred)\n",
    "        precision = precision_score(y_test,pred)\n",
    "        recall = recall_score(y_test,pred)\n",
    "        f1 = f1_score(y_test,pred)\n",
    "        roc_auc = roc_auc_score(y_test,pred)\n",
    "        print('오차행렬')\n",
    "        print(confusion)\n",
    "        print(f'정확도:{accuracy:.4f} 정밀도:{precision:.4f} 재현율:{recall:.4f} F1:{f1:.4f} AUC:{roc_auc:.4f}')"
   ]
  },
  {
   "cell_type": "code",
   "execution_count": 9,
   "id": "31008eee-60f8-410b-a1a9-adce278ab21d",
   "metadata": {},
   "outputs": [
    {
     "name": "stdout",
     "output_type": "stream",
     "text": [
      "오차행렬\n",
      "[[88 12]\n",
      " [23 31]]\n",
      "정확도:0.7727 정밀도:0.7209 재현율:0.5741 F1:0.6392\n"
     ]
    }
   ],
   "source": [
    "lr_clf = LogisticRegression()\n",
    "lr_clf.fit(X_train,y_train)\n",
    "pred= lr_clf.predict(X_test)\n",
    "get_clf_eval(y_test,pred)"
   ]
  },
  {
   "cell_type": "code",
   "execution_count": 10,
   "id": "6161c3ac-4aeb-40b2-8d34-f4222955402d",
   "metadata": {},
   "outputs": [],
   "source": [
    "def precision_recall_curve_plot(y_test , pred_proba_c1):\n",
    "    # threshold ndarray와 이 threshold에 따른 정밀도, 재현율 ndarray 추출. \n",
    "    precisions, recalls, thresholds = precision_recall_curve( y_test, pred_proba_c1)\n",
    "    \n",
    "    # X축을 threshold값으로, Y축은 정밀도, 재현율 값으로 각각 Plot 수행. 정밀도는 점선으로 표시\n",
    "    plt.figure(figsize=(8,6))\n",
    "    threshold_boundary = thresholds.shape[0]\n",
    "    plt.plot(thresholds, precisions[0:threshold_boundary], linestyle='--', label='precision')\n",
    "    plt.plot(thresholds, recalls[0:threshold_boundary],label='recall')\n",
    "    \n",
    "    # threshold 값 X 축의 Scale을 0.1 단위로 변경\n",
    "    start, end = plt.xlim()\n",
    "    plt.xticks(np.round(np.arange(start, end, 0.1),2))\n",
    "    \n",
    "    # x축, y축 label과 legend, 그리고 grid 설정\n",
    "    plt.xlabel('Threshold value'); plt.ylabel('Precision and Recall value')\n",
    "    plt.legend(); plt.grid()\n",
    "    plt.show()"
   ]
  },
  {
   "cell_type": "code",
   "execution_count": 12,
   "id": "225f046a-9413-40a8-854a-a6c3db1064c1",
   "metadata": {},
   "outputs": [],
   "source": [
    "pred_proba_c1 = lr_clf.predict_proba(X_test)[:,1]"
   ]
  },
  {
   "cell_type": "code",
   "execution_count": 13,
   "id": "9815c10c-d903-4510-b6bd-86657fb63a7d",
   "metadata": {
    "tags": []
   },
   "outputs": [
    {
     "data": {
      "image/png": "[encoded data removed]",
      "text/plain": [
       "<Figure size 576x432 with 1 Axes>"
      ]
     },
     "metadata": {
      "needs_background": "light"
     },
     "output_type": "display_data"
    }
   ],
   "source": [
    "import matplotlib.pyplot as plt\n",
    "import numpy as np\n",
    "precision_recall_curve_plot(y_test,pred_proba_c1)"
   ]
  },
  {
   "cell_type": "code",
   "execution_count": 14,
   "id": "6cfcad12-86be-4eff-b798-3c80a750e98c",
   "metadata": {
    "collapsed": true,
    "jupyter": {
     "outputs_hidden": true
    },
    "tags": []
   },
   "outputs": [
    {
     "data": {
      "text/plain": [
       "(array([0.35064935, 0.34640523, 0.34868421, 0.34437086, 0.34666667,\n",
       "        0.34228188, 0.34459459, 0.34693878, 0.34931507, 0.35172414,\n",
       "        0.35416667, 0.35664336, 0.35915493, 0.36170213, 0.36428571,\n",
       "        0.36690647, 0.36956522, 0.37226277, 0.375     , 0.37777778,\n",
       "        0.38059701, 0.38345865, 0.38636364, 0.38931298, 0.39230769,\n",
       "        0.39534884, 0.3984375 , 0.4015748 , 0.4047619 , 0.4       ,\n",
       "        0.40322581, 0.40650407, 0.40983607, 0.41322314, 0.41666667,\n",
       "        0.42016807, 0.42372881, 0.42735043, 0.43103448, 0.43478261,\n",
       "        0.43859649, 0.44247788, 0.44642857, 0.45045045, 0.45454545,\n",
       "        0.4587156 , 0.46296296, 0.46728972, 0.47169811, 0.46666667,\n",
       "        0.47115385, 0.46601942, 0.47058824, 0.47524752, 0.48      ,\n",
       "        0.48484848, 0.48979592, 0.48453608, 0.48958333, 0.49473684,\n",
       "        0.4893617 , 0.49462366, 0.5       , 0.49450549, 0.5       ,\n",
       "        0.50561798, 0.51136364, 0.51724138, 0.51162791, 0.50588235,\n",
       "        0.5       , 0.5060241 , 0.51219512, 0.51851852, 0.525     ,\n",
       "        0.51898734, 0.52564103, 0.53246753, 0.53947368, 0.54666667,\n",
       "        0.54054054, 0.54794521, 0.55555556, 0.56338028, 0.57142857,\n",
       "        0.57971014, 0.58823529, 0.58208955, 0.57575758, 0.58461538,\n",
       "        0.578125  , 0.58730159, 0.59677419, 0.60655738, 0.61666667,\n",
       "        0.61016949, 0.62068966, 0.63157895, 0.64285714, 0.65454545,\n",
       "        0.64814815, 0.66037736, 0.67307692, 0.66666667, 0.68      ,\n",
       "        0.69387755, 0.6875    , 0.70212766, 0.69565217, 0.71111111,\n",
       "        0.70454545, 0.72093023, 0.73809524, 0.73170732, 0.725     ,\n",
       "        0.71794872, 0.71052632, 0.7027027 , 0.72222222, 0.74285714,\n",
       "        0.73529412, 0.75757576, 0.78125   , 0.77419355, 0.76666667,\n",
       "        0.79310345, 0.82142857, 0.85185185, 0.84615385, 0.84      ,\n",
       "        0.875     , 0.91304348, 0.90909091, 0.9047619 , 0.9       ,\n",
       "        0.89473684, 0.88888889, 0.88235294, 0.875     , 0.86666667,\n",
       "        0.92857143, 0.92307692, 0.91666667, 0.90909091, 0.9       ,\n",
       "        0.88888889, 0.875     , 0.85714286, 0.83333333, 0.8       ,\n",
       "        0.75      , 0.66666667, 0.5       , 0.        , 1.        ]),\n",
       " array([1.        , 0.98148148, 0.98148148, 0.96296296, 0.96296296,\n",
       "        0.94444444, 0.94444444, 0.94444444, 0.94444444, 0.94444444,\n",
       "        0.94444444, 0.94444444, 0.94444444, 0.94444444, 0.94444444,\n",
       "        0.94444444, 0.94444444, 0.94444444, 0.94444444, 0.94444444,\n",
       "        0.94444444, 0.94444444, 0.94444444, 0.94444444, 0.94444444,\n",
       "        0.94444444, 0.94444444, 0.94444444, 0.94444444, 0.92592593,\n",
       "        0.92592593, 0.92592593, 0.92592593, 0.92592593, 0.92592593,\n",
       "        0.92592593, 0.92592593, 0.92592593, 0.92592593, 0.92592593,\n",
       "        0.92592593, 0.92592593, 0.92592593, 0.92592593, 0.92592593,\n",
       "        0.92592593, 0.92592593, 0.92592593, 0.92592593, 0.90740741,\n",
       "        0.90740741, 0.88888889, 0.88888889, 0.88888889, 0.88888889,\n",
       "        0.88888889, 0.88888889, 0.87037037, 0.87037037, 0.87037037,\n",
       "        0.85185185, 0.85185185, 0.85185185, 0.83333333, 0.83333333,\n",
       "        0.83333333, 0.83333333, 0.83333333, 0.81481481, 0.7962963 ,\n",
       "        0.77777778, 0.77777778, 0.77777778, 0.77777778, 0.77777778,\n",
       "        0.75925926, 0.75925926, 0.75925926, 0.75925926, 0.75925926,\n",
       "        0.74074074, 0.74074074, 0.74074074, 0.74074074, 0.74074074,\n",
       "        0.74074074, 0.74074074, 0.72222222, 0.7037037 , 0.7037037 ,\n",
       "        0.68518519, 0.68518519, 0.68518519, 0.68518519, 0.68518519,\n",
       "        0.66666667, 0.66666667, 0.66666667, 0.66666667, 0.66666667,\n",
       "        0.64814815, 0.64814815, 0.64814815, 0.62962963, 0.62962963,\n",
       "        0.62962963, 0.61111111, 0.61111111, 0.59259259, 0.59259259,\n",
       "        0.57407407, 0.57407407, 0.57407407, 0.55555556, 0.53703704,\n",
       "        0.51851852, 0.5       , 0.48148148, 0.48148148, 0.48148148,\n",
       "        0.46296296, 0.46296296, 0.46296296, 0.44444444, 0.42592593,\n",
       "        0.42592593, 0.42592593, 0.42592593, 0.40740741, 0.38888889,\n",
       "        0.38888889, 0.38888889, 0.37037037, 0.35185185, 0.33333333,\n",
       "        0.31481481, 0.2962963 , 0.27777778, 0.25925926, 0.24074074,\n",
       "        0.24074074, 0.22222222, 0.2037037 , 0.18518519, 0.16666667,\n",
       "        0.14814815, 0.12962963, 0.11111111, 0.09259259, 0.07407407,\n",
       "        0.05555556, 0.03703704, 0.01851852, 0.        , 0.        ]),\n",
       " array([0.0167285 , 0.02178214, 0.03585027, 0.04204049, 0.04521698,\n",
       "        0.05198164, 0.05474729, 0.05804221, 0.05810239, 0.0655569 ,\n",
       "        0.06593188, 0.06622945, 0.06751008, 0.06793645, 0.06813671,\n",
       "        0.06946564, 0.07471795, 0.07988555, 0.08303729, 0.08480233,\n",
       "        0.08552772, 0.08959129, 0.09015303, 0.09202088, 0.09686093,\n",
       "        0.09990808, 0.10162487, 0.10229215, 0.10243076, 0.10300152,\n",
       "        0.10482327, 0.1078073 , 0.11167787, 0.1127796 , 0.12144515,\n",
       "        0.12718254, 0.13033759, 0.13506958, 0.13718219, 0.13985469,\n",
       "        0.14005275, 0.1421091 , 0.14394851, 0.15101746, 0.15171784,\n",
       "        0.15492168, 0.15557747, 0.15877324, 0.16079599, 0.16301056,\n",
       "        0.16520316, 0.17033182, 0.18052503, 0.19511436, 0.19730283,\n",
       "        0.1994114 , 0.20075838, 0.20383647, 0.20552694, 0.20671256,\n",
       "        0.20836093, 0.21077944, 0.21430465, 0.22738956, 0.23133205,\n",
       "        0.23901057, 0.25119335, 0.2528993 , 0.25505379, 0.26219769,\n",
       "        0.26721772, 0.27293697, 0.27898557, 0.28101991, 0.28335347,\n",
       "        0.29484774, 0.30150891, 0.31265093, 0.31504436, 0.3155846 ,\n",
       "        0.32403595, 0.33026346, 0.33908973, 0.33974721, 0.34285433,\n",
       "        0.34347859, 0.34911017, 0.35053931, 0.35226387, 0.35794983,\n",
       "        0.36651506, 0.36856287, 0.37738075, 0.3785264 , 0.3940279 ,\n",
       "        0.40576867, 0.40662419, 0.40684504, 0.40814071, 0.40908079,\n",
       "        0.41044463, 0.42972018, 0.44649379, 0.4623321 , 0.46238927,\n",
       "        0.47087043, 0.47183822, 0.47856643, 0.4897887 , 0.49417299,\n",
       "        0.49892147, 0.50469642, 0.52233426, 0.53109653, 0.53284018,\n",
       "        0.53480562, 0.55664969, 0.5601517 , 0.57082401, 0.58829172,\n",
       "        0.60809873, 0.64481988, 0.65039715, 0.65563357, 0.65749171,\n",
       "        0.65916859, 0.6744583 , 0.67827923, 0.67851919, 0.68447037,\n",
       "        0.69626729, 0.70464652, 0.71101376, 0.71799853, 0.72077548,\n",
       "        0.73446591, 0.73925791, 0.74407402, 0.75384395, 0.76035863,\n",
       "        0.76161262, 0.76244561, 0.76695512, 0.77352553, 0.78509888,\n",
       "        0.80784299, 0.81181405, 0.82623548, 0.8334531 , 0.84769462,\n",
       "        0.85505541, 0.87845024, 0.917702  , 0.98964175]))"
      ]
     },
     "execution_count": 14,
     "metadata": {},
     "output_type": "execute_result"
    }
   ],
   "source": [
    "precision_recall_curve( y_test, pred_proba_c1)"
   ]
  },
  {
   "cell_type": "code",
   "execution_count": 15,
   "id": "833992ba-4dc1-4d1b-8593-37485b0da2da",
   "metadata": {
    "tags": []
   },
   "outputs": [
    {
     "data": {
      "text/html": [
       "<div>\n",
       "<style scoped>\n",
       "    .dataframe tbody tr th:only-of-type {\n",
       "        vertical-align: middle;\n",
       "    }\n",
       "\n",
       "    .dataframe tbody tr th {\n",
       "        vertical-align: top;\n",
       "    }\n",
       "\n",
       "    .dataframe thead th {\n",
       "        text-align: right;\n",
       "    }\n",
       "</style>\n",
       "<table border=\"1\" class=\"dataframe\">\n",
       "  <thead>\n",
       "    <tr style=\"text-align: right;\">\n",
       "      <th></th>\n",
       "      <th>Pregnancies</th>\n",
       "      <th>Glucose</th>\n",
       "      <th>BloodPressure</th>\n",
       "      <th>SkinThickness</th>\n",
       "      <th>Insulin</th>\n",
       "      <th>BMI</th>\n",
       "      <th>DiabetesPedigreeFunction</th>\n",
       "      <th>Age</th>\n",
       "      <th>Outcome</th>\n",
       "    </tr>\n",
       "  </thead>\n",
       "  <tbody>\n",
       "    <tr>\n",
       "      <th>count</th>\n",
       "      <td>768.000000</td>\n",
       "      <td>768.000000</td>\n",
       "      <td>768.000000</td>\n",
       "      <td>768.000000</td>\n",
       "      <td>768.000000</td>\n",
       "      <td>768.000000</td>\n",
       "      <td>768.000000</td>\n",
       "      <td>768.000000</td>\n",
       "      <td>768.000000</td>\n",
       "    </tr>\n",
       "    <tr>\n",
       "      <th>mean</th>\n",
       "      <td>3.845052</td>\n",
       "      <td>120.894531</td>\n",
       "      <td>69.105469</td>\n",
       "      <td>20.536458</td>\n",
       "      <td>79.799479</td>\n",
       "      <td>31.992578</td>\n",
       "      <td>0.471876</td>\n",
       "      <td>33.240885</td>\n",
       "      <td>0.348958</td>\n",
       "    </tr>\n",
       "    <tr>\n",
       "      <th>std</th>\n",
       "      <td>3.369578</td>\n",
       "      <td>31.972618</td>\n",
       "      <td>19.355807</td>\n",
       "      <td>15.952218</td>\n",
       "      <td>115.244002</td>\n",
       "      <td>7.884160</td>\n",
       "      <td>0.331329</td>\n",
       "      <td>11.760232</td>\n",
       "      <td>0.476951</td>\n",
       "    </tr>\n",
       "    <tr>\n",
       "      <th>min</th>\n",
       "      <td>0.000000</td>\n",
       "      <td>0.000000</td>\n",
       "      <td>0.000000</td>\n",
       "      <td>0.000000</td>\n",
       "      <td>0.000000</td>\n",
       "      <td>0.000000</td>\n",
       "      <td>0.078000</td>\n",
       "      <td>21.000000</td>\n",
       "      <td>0.000000</td>\n",
       "    </tr>\n",
       "    <tr>\n",
       "      <th>25%</th>\n",
       "      <td>1.000000</td>\n",
       "      <td>99.000000</td>\n",
       "      <td>62.000000</td>\n",
       "      <td>0.000000</td>\n",
       "      <td>0.000000</td>\n",
       "      <td>27.300000</td>\n",
       "      <td>0.243750</td>\n",
       "      <td>24.000000</td>\n",
       "      <td>0.000000</td>\n",
       "    </tr>\n",
       "    <tr>\n",
       "      <th>50%</th>\n",
       "      <td>3.000000</td>\n",
       "      <td>117.000000</td>\n",
       "      <td>72.000000</td>\n",
       "      <td>23.000000</td>\n",
       "      <td>30.500000</td>\n",
       "      <td>32.000000</td>\n",
       "      <td>0.372500</td>\n",
       "      <td>29.000000</td>\n",
       "      <td>0.000000</td>\n",
       "    </tr>\n",
       "    <tr>\n",
       "      <th>75%</th>\n",
       "      <td>6.000000</td>\n",
       "      <td>140.250000</td>\n",
       "      <td>80.000000</td>\n",
       "      <td>32.000000</td>\n",
       "      <td>127.250000</td>\n",
       "      <td>36.600000</td>\n",
       "      <td>0.626250</td>\n",
       "      <td>41.000000</td>\n",
       "      <td>1.000000</td>\n",
       "    </tr>\n",
       "    <tr>\n",
       "      <th>max</th>\n",
       "      <td>17.000000</td>\n",
       "      <td>199.000000</td>\n",
       "      <td>122.000000</td>\n",
       "      <td>99.000000</td>\n",
       "      <td>846.000000</td>\n",
       "      <td>67.100000</td>\n",
       "      <td>2.420000</td>\n",
       "      <td>81.000000</td>\n",
       "      <td>1.000000</td>\n",
       "    </tr>\n",
       "  </tbody>\n",
       "</table>\n",
       "</div>"
      ],
      "text/plain": [
       "       Pregnancies     Glucose  BloodPressure  SkinThickness     Insulin  \\\n",
       "count   768.000000  768.000000     768.000000     768.000000  768.000000   \n",
       "mean      3.845052  120.894531      69.105469      20.536458   79.799479   \n",
       "std       3.369578   31.972618      19.355807      15.952218  115.244002   \n",
       "min       0.000000    0.000000       0.000000       0.000000    0.000000   \n",
       "25%       1.000000   99.000000      62.000000       0.000000    0.000000   \n",
       "50%       3.000000  117.000000      72.000000      23.000000   30.500000   \n",
       "75%       6.000000  140.250000      80.000000      32.000000  127.250000   \n",
       "max      17.000000  199.000000     122.000000      99.000000  846.000000   \n",
       "\n",
       "              BMI  DiabetesPedigreeFunction         Age     Outcome  \n",
       "count  768.000000                768.000000  768.000000  768.000000  \n",
       "mean    31.992578                  0.471876   33.240885    0.348958  \n",
       "std      7.884160                  0.331329   11.760232    0.476951  \n",
       "min      0.000000                  0.078000   21.000000    0.000000  \n",
       "25%     27.300000                  0.243750   24.000000    0.000000  \n",
       "50%     32.000000                  0.372500   29.000000    0.000000  \n",
       "75%     36.600000                  0.626250   41.000000    1.000000  \n",
       "max     67.100000                  2.420000   81.000000    1.000000  "
      ]
     },
     "execution_count": 15,
     "metadata": {},
     "output_type": "execute_result"
    }
   ],
   "source": [
    "df.describe()"
   ]
  },
  {
   "cell_type": "code",
   "execution_count": 16,
   "id": "59683516-e6ee-4925-b206-1bcf2054d619",
   "metadata": {
    "tags": []
   },
   "outputs": [
    {
     "data": {
      "text/plain": [
       "(array([  5.,   0.,   4.,  32., 156., 211., 163.,  95.,  56.,  46.]),\n",
       " array([  0. ,  19.9,  39.8,  59.7,  79.6,  99.5, 119.4, 139.3, 159.2,\n",
       "        179.1, 199. ]),\n",
       " <BarContainer object of 10 artists>)"
      ]
     },
     "execution_count": 16,
     "metadata": {},
     "output_type": "execute_result"
    },
    {
     "data": {
      "image/png": "[encoded data removed]",
      "text/plain": [
       "<Figure size 432x288 with 1 Axes>"
      ]
     },
     "metadata": {
      "needs_background": "light"
     },
     "output_type": "display_data"
    }
   ],
   "source": [
    "plt.hist(df['Glucose'])"
   ]
  },
  {
   "cell_type": "code",
   "execution_count": 17,
   "id": "3ed0e1c0-1e35-4d4c-b81f-3c46e372a223",
   "metadata": {},
   "outputs": [
    {
     "data": {
      "text/plain": [
       "Index(['Pregnancies', 'Glucose', 'BloodPressure', 'SkinThickness', 'Insulin',\n",
       "       'BMI', 'DiabetesPedigreeFunction', 'Age', 'Outcome'],\n",
       "      dtype='object')"
      ]
     },
     "execution_count": 17,
     "metadata": {},
     "output_type": "execute_result"
    }
   ],
   "source": [
    "df.columns"
   ]
  },
  {
   "cell_type": "code",
   "execution_count": 18,
   "id": "faa746b6-3364-4038-849e-e74c27709c11",
   "metadata": {
    "tags": []
   },
   "outputs": [
    {
     "name": "stdout",
     "output_type": "stream",
     "text": [
      "Glucose 0건수:5 퍼센트 0.65%\n",
      "BloodPressure 0건수:35 퍼센트 4.56%\n",
      "SkinThickness 0건수:227 퍼센트 29.56%\n",
      "Insulin 0건수:374 퍼센트 48.70%\n",
      "BMI 0건수:11 퍼센트 1.43%\n"
     ]
    }
   ],
   "source": [
    "zero_features = ['Glucose', 'BloodPressure','SkinThickness', 'Insulin','BMI']\n",
    "total_count = df['Glucose'].count()\n",
    "for feature in zero_features:\n",
    "    zero_count = df[df[feature]==0][feature].count()\n",
    "#     print(feature)\n",
    "#     print(zero_count)\n",
    "    print('{} 0건수:{} 퍼센트 {:.2f}%'.format(feature,zero_count,(100*zero_count/total_count)))"
   ]
  },
  {
   "cell_type": "code",
   "execution_count": 19,
   "id": "669bd32f-b518-4cbc-9cc3-a84473fc2c8d",
   "metadata": {},
   "outputs": [],
   "source": [
    "mean_zero_features = df[zero_features].mean()"
   ]
  },
  {
   "cell_type": "code",
   "execution_count": 20,
   "id": "4f745211-010e-4705-8df7-580defa05ef4",
   "metadata": {},
   "outputs": [],
   "source": [
    "df[zero_features] = df[zero_features].replace(0,mean_zero_features)"
   ]
  },
  {
   "cell_type": "code",
   "execution_count": 21,
   "id": "844b55bc-77f3-49bc-8c9a-2983899f0a0e",
   "metadata": {},
   "outputs": [
    {
     "name": "stdout",
     "output_type": "stream",
     "text": [
      "Glucose 0건수:0 퍼센트 0.00%\n",
      "BloodPressure 0건수:0 퍼센트 0.00%\n",
      "SkinThickness 0건수:0 퍼센트 0.00%\n",
      "Insulin 0건수:0 퍼센트 0.00%\n",
      "BMI 0건수:0 퍼센트 0.00%\n"
     ]
    }
   ],
   "source": [
    "zero_features = ['Glucose', 'BloodPressure','SkinThickness', 'Insulin','BMI']\n",
    "total_count = df['Glucose'].count()\n",
    "for feature in zero_features:\n",
    "    zero_count = df[df[feature]==0][feature].count()\n",
    "#     print(feature)\n",
    "#     print(zero_count)\n",
    "    print('{} 0건수:{} 퍼센트 {:.2f}%'.format(feature,zero_count,(100*zero_count/total_count)))"
   ]
  },
  {
   "cell_type": "code",
   "execution_count": 24,
   "id": "a652d198-d226-4176-82d4-b539066589bf",
   "metadata": {},
   "outputs": [
    {
     "name": "stdout",
     "output_type": "stream",
     "text": [
      "오차행렬\n",
      "[[89 11]\n",
      " [20 34]]\n",
      "정확도:0.7987 정밀도:0.7556 재현율:0.6296 F1:0.6869 AUC:0.7598\n"
     ]
    }
   ],
   "source": [
    "X = df.iloc[:,:-1]\n",
    "y = df.iloc[:,-1] \n",
    "X_train,X_test,y_train,y_test = train_test_split(X,y,test_size=0.2,random_state=156,stratify=y)\n",
    "lr_clf = LogisticRegression()\n",
    "lr_clf.fit(X_train,y_train)\n",
    "pred= lr_clf.predict(X_test)\n",
    "get_clf_eval(y_test,pred)\n",
    "# 오차행렬\n",
    "# [[88 12]\n",
    "#  [23 31]]\n",
    "# 정확도:0.7727 정밀도:0.7209 재현율:0.5741 F1:0.6392"
   ]
  },
  {
   "cell_type": "code",
   "execution_count": 25,
   "id": "85832766-0296-408d-a59b-0b5c8ed9c95f",
   "metadata": {},
   "outputs": [],
   "source": [
    "from sklearn.metrics import roc_curve"
   ]
  },
  {
   "cell_type": "code",
   "execution_count": 26,
   "id": "a9112c04-b7ec-454d-a734-56cbc59c1b49",
   "metadata": {
    "collapsed": true,
    "jupyter": {
     "outputs_hidden": true
    },
    "tags": []
   },
   "outputs": [
    {
     "data": {
      "text/plain": [
       "array([0.04002233, 0.21086233, 0.17351643, 0.52873446, 0.4355929 ,\n",
       "       0.73127582, 0.84541271, 0.15263243, 0.18515182, 0.0992185 ,\n",
       "       0.67684372, 0.43156236, 0.04758446, 0.40574903, 0.25656991,\n",
       "       0.09417772, 0.76330412, 0.09088043, 0.5664212 , 0.77703965,\n",
       "       0.46950548, 0.35614287, 0.06878212, 0.32011032, 0.28335338,\n",
       "       0.10020083, 0.91239527, 0.77036577, 0.16377626, 0.89975559,\n",
       "       0.25322097, 0.25883973, 0.10198574, 0.16306135, 0.10176898,\n",
       "       0.72937366, 0.2234362 , 0.22750541, 0.82239828, 0.65491201,\n",
       "       0.3964757 , 0.22203573, 0.7027232 , 0.13000163, 0.35325918,\n",
       "       0.01489721, 0.51341835, 0.08710016, 0.48459231, 0.3268088 ,\n",
       "       0.30309002, 0.92784697, 0.87998138, 0.06125277, 0.12960398,\n",
       "       0.45017299, 0.07707262, 0.36683432, 0.33297136, 0.38264164,\n",
       "       0.20319357, 0.8337169 , 0.32155597, 0.63933666, 0.30131367,\n",
       "       0.10962857, 0.26678606, 0.7170841 , 0.16133247, 0.7720939 ,\n",
       "       0.06571305, 0.32977675, 0.12982967, 0.44715059, 0.80859414,\n",
       "       0.32273788, 0.03971256, 0.06258328, 0.12043159, 0.23919632,\n",
       "       0.11292535, 0.07873598, 0.81869821, 0.16836094, 0.27575345,\n",
       "       0.32266409, 0.53565351, 0.78677332, 0.05700744, 0.02262485,\n",
       "       0.04403064, 0.6583896 , 0.84884946, 0.21741401, 0.29647011,\n",
       "       0.70824957, 0.20999619, 0.19635195, 0.03683185, 0.83036071,\n",
       "       0.86818492, 0.44888039, 0.41664195, 0.33898   , 0.10982446,\n",
       "       0.16424812, 0.3166255 , 0.44371629, 0.04471108, 0.12253114,\n",
       "       0.78757746, 0.55572707, 0.15686575, 0.19694407, 0.4016708 ,\n",
       "       0.51165273, 0.87007204, 0.11375108, 0.27154386, 0.96994181,\n",
       "       0.54076003, 0.49817544, 0.71388087, 0.6268109 , 0.2186575 ,\n",
       "       0.23507638, 0.11589934, 0.06938193, 0.28192267, 0.12058476,\n",
       "       0.02795557, 0.08617975, 0.35865148, 0.08497388, 0.04528447,\n",
       "       0.61080981, 0.75815127, 0.74278411, 0.03769751, 0.13343783,\n",
       "       0.20957744, 0.4690832 , 0.732864  , 0.15375589, 0.81154369,\n",
       "       0.065147  , 0.14294624, 0.01985365, 0.82312328, 0.43240634,\n",
       "       0.41945048, 0.03794616, 0.57113231, 0.13311197])"
      ]
     },
     "execution_count": 26,
     "metadata": {},
     "output_type": "execute_result"
    }
   ],
   "source": [
    "pred_proba_class1 = lr_clf.predict_proba(X_test)[:,1]\n",
    "pred_proba_class1"
   ]
  },
  {
   "cell_type": "code",
   "execution_count": 27,
   "id": "f10a603e-941a-46c9-8712-6335bbc93785",
   "metadata": {
    "collapsed": true,
    "jupyter": {
     "outputs_hidden": true
    },
    "tags": []
   },
   "outputs": [
    {
     "data": {
      "text/plain": [
       "(array([0.  , 0.01, 0.01, 0.02, 0.02, 0.04, 0.04, 0.05, 0.05, 0.07, 0.07,\n",
       "        0.09, 0.09, 0.11, 0.11, 0.18, 0.18, 0.24, 0.24, 0.25, 0.25, 0.27,\n",
       "        0.27, 0.29, 0.29, 0.36, 0.36, 0.4 , 0.4 , 0.41, 0.41, 0.44, 0.44,\n",
       "        0.45, 0.45, 0.52, 0.52, 0.54, 0.54, 0.55, 0.55, 0.62, 0.62, 1.  ]),\n",
       " array([0.        , 0.        , 0.16666667, 0.16666667, 0.22222222,\n",
       "        0.22222222, 0.46296296, 0.46296296, 0.5       , 0.5       ,\n",
       "        0.51851852, 0.51851852, 0.62962963, 0.62962963, 0.64814815,\n",
       "        0.64814815, 0.68518519, 0.68518519, 0.7037037 , 0.7037037 ,\n",
       "        0.72222222, 0.72222222, 0.77777778, 0.77777778, 0.7962963 ,\n",
       "        0.7962963 , 0.83333333, 0.83333333, 0.85185185, 0.85185185,\n",
       "        0.87037037, 0.87037037, 0.90740741, 0.90740741, 0.92592593,\n",
       "        0.92592593, 0.94444444, 0.94444444, 0.96296296, 0.96296296,\n",
       "        0.98148148, 0.98148148, 1.        , 1.        ]),\n",
       " array([1.96994181, 0.96994181, 0.8337169 , 0.83036071, 0.81869821,\n",
       "        0.80859414, 0.71388087, 0.70824957, 0.67684372, 0.65491201,\n",
       "        0.63933666, 0.61080981, 0.52873446, 0.51165273, 0.49817544,\n",
       "        0.44371629, 0.43240634, 0.3964757 , 0.38264164, 0.36683432,\n",
       "        0.35865148, 0.35325918, 0.32977675, 0.32273788, 0.32266409,\n",
       "        0.28335338, 0.27575345, 0.25656991, 0.25322097, 0.23919632,\n",
       "        0.23507638, 0.22203573, 0.21741401, 0.21086233, 0.20999619,\n",
       "        0.16836094, 0.16424812, 0.16306135, 0.16133247, 0.15686575,\n",
       "        0.15375589, 0.12960398, 0.12253114, 0.01489721]))"
      ]
     },
     "execution_count": 27,
     "metadata": {},
     "output_type": "execute_result"
    }
   ],
   "source": [
    "roc_curve(y_test,pred_proba_class1)"
   ]
  },
  {
   "cell_type": "code",
   "execution_count": 28,
   "id": "f9e9405a-a517-4e17-a4f9-2fd8dd7603bf",
   "metadata": {
    "jupyter": {
     "source_hidden": true
    },
    "tags": []
   },
   "outputs": [],
   "source": [
    "def roc_curve_plot(y_test , pred_proba_c1):\n",
    "    # 임곗값에 따른 FPR, TPR 값을 반환 받음. \n",
    "    fprs , tprs , thresholds = roc_curve(y_test ,pred_proba_c1)\n",
    "\n",
    "    # ROC Curve를 plot 곡선으로 그림. \n",
    "    plt.plot(fprs , tprs, label='ROC')\n",
    "    # 가운데 대각선 직선을 그림. \n",
    "    plt.plot([0, 1], [0, 1], 'k--', label='Random')\n",
    "    \n",
    "    # FPR X 축의 Scale을 0.1 단위로 변경, X,Y 축명 설정등   \n",
    "    start, end = plt.xlim()\n",
    "    plt.xticks(np.round(np.arange(start, end, 0.1),2))\n",
    "    plt.xlim(0,1); plt.ylim(0,1)\n",
    "    plt.xlabel('FPR( 1 - Sensitivity )'); plt.ylabel('TPR( Recall )')\n",
    "    plt.legend()\n",
    "    plt.show()"
   ]
  },
  {
   "cell_type": "code",
   "execution_count": 29,
   "id": "cb50595b-b414-4237-8ac8-a01488b5a10a",
   "metadata": {},
   "outputs": [
    {
     "data": {
      "image/png": "[encoded data removed]",
      "text/plain": [
       "<Figure size 432x288 with 1 Axes>"
      ]
     },
     "metadata": {
      "needs_background": "light"
     },
     "output_type": "display_data"
    }
   ],
   "source": [
    "roc_curve_plot(y_test,pred_proba_class1)"
   ]
  },
  {
   "cell_type": "code",
   "execution_count": 33,
   "id": "46c70423-28fa-4024-8682-bb6b01e19c34",
   "metadata": {},
   "outputs": [],
   "source": [
    "def get_eval_by_threshold(y_test , pred_proba_c1, thresholds):\n",
    "    from sklearn.preprocessing import Binarizer\n",
    "    # thresholds list객체내의 값을 차례로 iteration하면서 Evaluation 수행.\n",
    "    for custom_threshold in thresholds:\n",
    "        binarizer = Binarizer(threshold=custom_threshold).fit(pred_proba_c1) \n",
    "        custom_predict = binarizer.transform(pred_proba_c1)\n",
    "        print('임곗값:',custom_threshold)\n",
    "        get_clf_eval(y_test , custom_predict)"
   ]
  },
  {
   "cell_type": "code",
   "execution_count": 32,
   "id": "d4d79b92-37bb-4eb5-ad07-fd37701f18a9",
   "metadata": {
    "tags": []
   },
   "outputs": [
    {
     "name": "stdout",
     "output_type": "stream",
     "text": [
      "임곗값: 0.3\n",
      "오차행렬\n",
      "[[66 34]\n",
      " [11 43]]\n",
      "정확도:0.7078 정밀도:0.5584 재현율:0.7963 F1:0.6565 AUC:0.7281\n",
      "임곗값: 0.33\n",
      "오차행렬\n",
      "[[73 27]\n",
      " [13 41]]\n",
      "정확도:0.7403 정밀도:0.6029 재현율:0.7593 F1:0.6721 AUC:0.7446\n",
      "임곗값: 0.36\n",
      "오차행렬\n",
      "[[75 25]\n",
      " [16 38]]\n",
      "정확도:0.7338 정밀도:0.6032 재현율:0.7037 F1:0.6496 AUC:0.7269\n",
      "임곗값: 0.39\n",
      "오차행렬\n",
      "[[76 24]\n",
      " [17 37]]\n",
      "정확도:0.7338 정밀도:0.6066 재현율:0.6852 F1:0.6435 AUC:0.7226\n",
      "임곗값: 0.42\n",
      "오차행렬\n",
      "[[81 19]\n",
      " [17 37]]\n",
      "정확도:0.7662 정밀도:0.6607 재현율:0.6852 F1:0.6727 AUC:0.7476\n",
      "임곗값: 0.45\n",
      "오차행렬\n",
      "[[85 15]\n",
      " [19 35]]\n",
      "정확도:0.7792 정밀도:0.7000 재현율:0.6481 F1:0.6731 AUC:0.7491\n",
      "임곗값: 0.48\n",
      "오차행렬\n",
      "[[88 12]\n",
      " [19 35]]\n",
      "정확도:0.7987 정밀도:0.7447 재현율:0.6481 F1:0.6931 AUC:0.7641\n",
      "임곗값: 0.5\n",
      "오차행렬\n",
      "[[89 11]\n",
      " [20 34]]\n",
      "정확도:0.7987 정밀도:0.7556 재현율:0.6296 F1:0.6869 AUC:0.7598\n"
     ]
    }
   ],
   "source": [
    "thresholds = [0.3,0.33,0.36,0.39,0.42,0.45,0.48,0.5]\n",
    "pred_proba = lr_clf.predict_proba(X_test)\n",
    "get_eval_by_threshold(y_test,pred_proba[:,1].reshape(-1,1),thresholds)"
   ]
  },
  {
   "cell_type": "code",
   "execution_count": null,
   "id": "c06ca100-9a27-47d4-9a09-d65ee387eebb",
   "metadata": {},
   "outputs": [],
   "source": []
  }
 ],
 "metadata": {
  "kernelspec": {
   "display_name": "Python 3",
   "language": "python",
   "name": "python3"
  },
  "language_info": {
   "codemirror_mode": {
    "name": "ipython",
    "version": 3
   },
   "file_extension": ".py",
   "mimetype": "text/x-python",
   "name": "python",
   "nbconvert_exporter": "python",
   "pygments_lexer": "ipython3",
   "version": "3.8.8"
  }
 },
 "nbformat": 4,
 "nbformat_minor": 5
}
