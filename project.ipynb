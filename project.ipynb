{
 "cells": [
  {
   "cell_type": "code",
   "execution_count": 1,
   "id": "1a799776-eddc-4bd1-b835-7d15966db9f2",
   "metadata": {},
   "outputs": [],
   "source": [
    "import pandas as pd # 데이터\n",
    "import numpy as np # 기본적인 기능\n",
    "import matplotlib as mpl\n",
    "import matplotlib.pyplot as plt # 시각화\n",
    "import matplotlib.font_manager as fm # 한글폰트 적용\n",
    "import seaborn as sns # 시각화\n",
    "\n",
    "font_path = 'NanumGothic.ttf'\n",
    "fontprop = fm.FontProperties(fname=font_path,size=18)"
   ]
  },
  {
   "cell_type": "code",
   "execution_count": 2,
   "id": "875c9682-21fd-4c6f-a313-35dc47180f0d",
   "metadata": {},
   "outputs": [],
   "source": [
    "import warnings\n",
    "warnings.filterwarnings('ignore')\n",
    "#오류 뜨는거 보기싫어서 삭제"
   ]
  },
  {
   "cell_type": "code",
   "execution_count": 3,
   "id": "b9977a43-0e31-469e-ba10-caf0f7249f62",
   "metadata": {
    "tags": []
   },
   "outputs": [
    {
     "data": {
      "text/html": [
       "<div>\n",
       "<style scoped>\n",
       "    .dataframe tbody tr th:only-of-type {\n",
       "        vertical-align: middle;\n",
       "    }\n",
       "\n",
       "    .dataframe tbody tr th {\n",
       "        vertical-align: top;\n",
       "    }\n",
       "\n",
       "    .dataframe thead th {\n",
       "        text-align: right;\n",
       "    }\n",
       "</style>\n",
       "<table border=\"1\" class=\"dataframe\">\n",
       "  <thead>\n",
       "    <tr style=\"text-align: right;\">\n",
       "      <th></th>\n",
       "      <th>index</th>\n",
       "      <th>gender</th>\n",
       "      <th>car</th>\n",
       "      <th>reality</th>\n",
       "      <th>child_num</th>\n",
       "      <th>income_total</th>\n",
       "      <th>income_type</th>\n",
       "      <th>edu_type</th>\n",
       "      <th>family_type</th>\n",
       "      <th>house_type</th>\n",
       "      <th>DAYS_BIRTH</th>\n",
       "      <th>DAYS_EMPLOYED</th>\n",
       "      <th>FLAG_MOBIL</th>\n",
       "      <th>work_phone</th>\n",
       "      <th>phone</th>\n",
       "      <th>email</th>\n",
       "      <th>occyp_type</th>\n",
       "      <th>family_size</th>\n",
       "      <th>begin_month</th>\n",
       "      <th>credit</th>\n",
       "    </tr>\n",
       "  </thead>\n",
       "  <tbody>\n",
       "    <tr>\n",
       "      <th>0</th>\n",
       "      <td>0</td>\n",
       "      <td>F</td>\n",
       "      <td>N</td>\n",
       "      <td>N</td>\n",
       "      <td>0</td>\n",
       "      <td>202500.0</td>\n",
       "      <td>Commercial associate</td>\n",
       "      <td>Higher education</td>\n",
       "      <td>Married</td>\n",
       "      <td>Municipal apartment</td>\n",
       "      <td>-13899</td>\n",
       "      <td>-4709</td>\n",
       "      <td>1</td>\n",
       "      <td>0</td>\n",
       "      <td>0</td>\n",
       "      <td>0</td>\n",
       "      <td>NaN</td>\n",
       "      <td>2.0</td>\n",
       "      <td>-6.0</td>\n",
       "      <td>1.0</td>\n",
       "    </tr>\n",
       "    <tr>\n",
       "      <th>1</th>\n",
       "      <td>1</td>\n",
       "      <td>F</td>\n",
       "      <td>N</td>\n",
       "      <td>Y</td>\n",
       "      <td>1</td>\n",
       "      <td>247500.0</td>\n",
       "      <td>Commercial associate</td>\n",
       "      <td>Secondary / secondary special</td>\n",
       "      <td>Civil marriage</td>\n",
       "      <td>House / apartment</td>\n",
       "      <td>-11380</td>\n",
       "      <td>-1540</td>\n",
       "      <td>1</td>\n",
       "      <td>0</td>\n",
       "      <td>0</td>\n",
       "      <td>1</td>\n",
       "      <td>Laborers</td>\n",
       "      <td>3.0</td>\n",
       "      <td>-5.0</td>\n",
       "      <td>1.0</td>\n",
       "    </tr>\n",
       "  </tbody>\n",
       "</table>\n",
       "</div>"
      ],
      "text/plain": [
       "   index gender car reality  child_num  income_total           income_type  \\\n",
       "0      0      F   N       N          0      202500.0  Commercial associate   \n",
       "1      1      F   N       Y          1      247500.0  Commercial associate   \n",
       "\n",
       "                        edu_type     family_type           house_type  \\\n",
       "0               Higher education         Married  Municipal apartment   \n",
       "1  Secondary / secondary special  Civil marriage    House / apartment   \n",
       "\n",
       "   DAYS_BIRTH  DAYS_EMPLOYED  FLAG_MOBIL  work_phone  phone  email occyp_type  \\\n",
       "0      -13899          -4709           1           0      0      0        NaN   \n",
       "1      -11380          -1540           1           0      0      1   Laborers   \n",
       "\n",
       "   family_size  begin_month  credit  \n",
       "0          2.0         -6.0     1.0  \n",
       "1          3.0         -5.0     1.0  "
      ]
     },
     "execution_count": 3,
     "metadata": {},
     "output_type": "execute_result"
    }
   ],
   "source": [
    "card_df = pd.read_csv('train.csv') # 데이터 저장\n",
    "card_df.head(2) # 데이터 상단 2개보기"
   ]
  },
  {
   "cell_type": "code",
   "execution_count": 4,
   "id": "b00fa49b-c0f1-4763-8387-1decdd6aa1bc",
   "metadata": {
    "tags": []
   },
   "outputs": [
    {
     "name": "stdout",
     "output_type": "stream",
     "text": [
      "<class 'pandas.core.frame.DataFrame'>\n",
      "RangeIndex: 26457 entries, 0 to 26456\n",
      "Data columns (total 20 columns):\n",
      " #   Column         Non-Null Count  Dtype  \n",
      "---  ------         --------------  -----  \n",
      " 0   index          26457 non-null  int64  \n",
      " 1   gender         26457 non-null  object \n",
      " 2   car            26457 non-null  object \n",
      " 3   reality        26457 non-null  object \n",
      " 4   child_num      26457 non-null  int64  \n",
      " 5   income_total   26457 non-null  float64\n",
      " 6   income_type    26457 non-null  object \n",
      " 7   edu_type       26457 non-null  object \n",
      " 8   family_type    26457 non-null  object \n",
      " 9   house_type     26457 non-null  object \n",
      " 10  DAYS_BIRTH     26457 non-null  int64  \n",
      " 11  DAYS_EMPLOYED  26457 non-null  int64  \n",
      " 12  FLAG_MOBIL     26457 non-null  int64  \n",
      " 13  work_phone     26457 non-null  int64  \n",
      " 14  phone          26457 non-null  int64  \n",
      " 15  email          26457 non-null  int64  \n",
      " 16  occyp_type     18286 non-null  object \n",
      " 17  family_size    26457 non-null  float64\n",
      " 18  begin_month    26457 non-null  float64\n",
      " 19  credit         26457 non-null  float64\n",
      "dtypes: float64(4), int64(8), object(8)\n",
      "memory usage: 4.0+ MB\n"
     ]
    }
   ],
   "source": [
    "card_df.info() # 데이터 정보\n",
    "# Nan 값이 있을 경우 오류가 발생할 수 있을거같아서 Nan값을 채워야함 "
   ]
  },
  {
   "cell_type": "raw",
   "id": "43849c02-cd56-4fd3-b2ed-d26b9dabe00b",
   "metadata": {
    "jupyter": {
     "source_hidden": true
    },
    "tags": []
   },
   "source": [
    "gender: 성별\n",
    "\n",
    "car: 차량 소유 여부\n",
    "\n",
    "reality: 부동산 소유 여부\n",
    "\n",
    "child_num: 자녀 수\n",
    "\n",
    "income_total: 연간 소득\n",
    "\n",
    "income_type: 소득 분류\n",
    "\t\t\t\t\t\t\t['Commercial associate', 'Working', 'State servant', 'Pensioner', 'Student']\n",
    "\n",
    "edu_type: 교육 수준\n",
    "\t\t\t\t\t\t\t['Higher education' ,'Secondary / secondary special', 'Incomplete higher', 'Lower secondary', 'Academic degree']\n",
    "\n",
    "family_type: 결혼 여부\n",
    "\t\t\t\t\t\t\t['Married', 'Civil marriage', 'Separated', 'Single / not married', 'Widow']\n",
    "\n",
    "house_type: 생활 방식\n",
    "\t\t\t\t\t\t\t['Municipal apartment', 'House / apartment', 'With parents',\n",
    "\t\t\t\t\t\t\t 'Co-op apartment', 'Rented apartment', 'Office apartment']\n",
    "\n",
    "DAYS_BIRTH: 출생일\n",
    "\t\t\t\t\t\t\t데이터 수집 당시 (0)부터 역으로 셈, 즉, -1은 데이터 수집일 하루 전에 태어났음을 의미\n",
    "\n",
    "DAYS_EMPLOYED: 업무 시작일\n",
    "\t\t\t\t\t\t\t데이터 수집 당시 (0)부터 역으로 셈, 즉, -1은 데이터 수집일 하루 전부터 일을 시작함을 의미\n",
    "\n",
    "\t\t\t\t\t\t\t\t\t\t\t\t\t\n",
    "\n",
    "\t\t\t\t\t\t\t양수 값은 고용되지 않은 상태를 의미함\n",
    "\n",
    "FLAG_MOBIL: 핸드폰 소유 여부\n",
    "\n",
    "work_phone: 업무용 전화 소유 여부\n",
    "\n",
    "phone: 전화 소유 여부\n",
    "\n",
    "\n",
    "email: 이메일 소유 여부\n",
    "\n",
    "\n",
    "occyp_type: 직업 유형\t\t\t\t\t\t\t\t\t\t\t\t\t\n",
    "\n",
    "\n",
    "family_size: 가족 규모\n",
    "\n",
    "\n",
    "begin_month: 신용카드 발급 월"
   ]
  },
  {
   "cell_type": "code",
   "execution_count": 5,
   "id": "39473a9b-c98f-42dd-8497-bdd569ca3cc8",
   "metadata": {},
   "outputs": [
    {
     "data": {
      "text/plain": [
       "(26457, 20)"
      ]
     },
     "execution_count": 5,
     "metadata": {},
     "output_type": "execute_result"
    }
   ],
   "source": [
    "card_df.shape # 행 열 갯수 파악"
   ]
  },
  {
   "cell_type": "code",
   "execution_count": 6,
   "id": "37c68789-b8f9-495a-b28f-c82fc726aaa3",
   "metadata": {
    "tags": []
   },
   "outputs": [
    {
     "data": {
      "text/html": [
       "<div>\n",
       "<style scoped>\n",
       "    .dataframe tbody tr th:only-of-type {\n",
       "        vertical-align: middle;\n",
       "    }\n",
       "\n",
       "    .dataframe tbody tr th {\n",
       "        vertical-align: top;\n",
       "    }\n",
       "\n",
       "    .dataframe thead th {\n",
       "        text-align: right;\n",
       "    }\n",
       "</style>\n",
       "<table border=\"1\" class=\"dataframe\">\n",
       "  <thead>\n",
       "    <tr style=\"text-align: right;\">\n",
       "      <th></th>\n",
       "      <th>index</th>\n",
       "      <th>gender</th>\n",
       "      <th>car</th>\n",
       "      <th>reality</th>\n",
       "      <th>child_num</th>\n",
       "      <th>income_total</th>\n",
       "      <th>income_type</th>\n",
       "      <th>edu_type</th>\n",
       "      <th>family_type</th>\n",
       "      <th>house_type</th>\n",
       "      <th>DAYS_BIRTH</th>\n",
       "      <th>DAYS_EMPLOYED</th>\n",
       "      <th>FLAG_MOBIL</th>\n",
       "      <th>work_phone</th>\n",
       "      <th>phone</th>\n",
       "      <th>email</th>\n",
       "      <th>occyp_type</th>\n",
       "      <th>family_size</th>\n",
       "      <th>begin_month</th>\n",
       "      <th>credit</th>\n",
       "    </tr>\n",
       "  </thead>\n",
       "  <tbody>\n",
       "    <tr>\n",
       "      <th>0</th>\n",
       "      <td>0</td>\n",
       "      <td>F</td>\n",
       "      <td>N</td>\n",
       "      <td>N</td>\n",
       "      <td>0</td>\n",
       "      <td>202500.0</td>\n",
       "      <td>Commercial associate</td>\n",
       "      <td>Higher education</td>\n",
       "      <td>Married</td>\n",
       "      <td>Municipal apartment</td>\n",
       "      <td>-13899</td>\n",
       "      <td>-4709</td>\n",
       "      <td>1</td>\n",
       "      <td>0</td>\n",
       "      <td>0</td>\n",
       "      <td>0</td>\n",
       "      <td>unemployed</td>\n",
       "      <td>2.0</td>\n",
       "      <td>-6.0</td>\n",
       "      <td>1.0</td>\n",
       "    </tr>\n",
       "    <tr>\n",
       "      <th>1</th>\n",
       "      <td>1</td>\n",
       "      <td>F</td>\n",
       "      <td>N</td>\n",
       "      <td>Y</td>\n",
       "      <td>1</td>\n",
       "      <td>247500.0</td>\n",
       "      <td>Commercial associate</td>\n",
       "      <td>Secondary / secondary special</td>\n",
       "      <td>Civil marriage</td>\n",
       "      <td>House / apartment</td>\n",
       "      <td>-11380</td>\n",
       "      <td>-1540</td>\n",
       "      <td>1</td>\n",
       "      <td>0</td>\n",
       "      <td>0</td>\n",
       "      <td>1</td>\n",
       "      <td>Laborers</td>\n",
       "      <td>3.0</td>\n",
       "      <td>-5.0</td>\n",
       "      <td>1.0</td>\n",
       "    </tr>\n",
       "  </tbody>\n",
       "</table>\n",
       "</div>"
      ],
      "text/plain": [
       "   index gender car reality  child_num  income_total           income_type  \\\n",
       "0      0      F   N       N          0      202500.0  Commercial associate   \n",
       "1      1      F   N       Y          1      247500.0  Commercial associate   \n",
       "\n",
       "                        edu_type     family_type           house_type  \\\n",
       "0               Higher education         Married  Municipal apartment   \n",
       "1  Secondary / secondary special  Civil marriage    House / apartment   \n",
       "\n",
       "   DAYS_BIRTH  DAYS_EMPLOYED  FLAG_MOBIL  work_phone  phone  email  \\\n",
       "0      -13899          -4709           1           0      0      0   \n",
       "1      -11380          -1540           1           0      0      1   \n",
       "\n",
       "   occyp_type  family_size  begin_month  credit  \n",
       "0  unemployed          2.0         -6.0     1.0  \n",
       "1    Laborers          3.0         -5.0     1.0  "
      ]
     },
     "execution_count": 6,
     "metadata": {},
     "output_type": "execute_result"
    }
   ],
   "source": [
    "# fillna 함수로\n",
    "cardfull_df = card_df.fillna(value='unemployed') # occyp_type의 Nan 값을  비고용자로 변경\n",
    "cardfull_df.head(2)"
   ]
  },
  {
   "cell_type": "code",
   "execution_count": 7,
   "id": "6808feae-0175-4e00-94bd-024fb0fbd751",
   "metadata": {
    "collapsed": true,
    "jupyter": {
     "outputs_hidden": true
    },
    "tags": []
   },
   "outputs": [
    {
     "name": "stdout",
     "output_type": "stream",
     "text": [
      "<class 'pandas.core.frame.DataFrame'>\n",
      "RangeIndex: 26457 entries, 0 to 26456\n",
      "Data columns (total 20 columns):\n",
      " #   Column         Non-Null Count  Dtype  \n",
      "---  ------         --------------  -----  \n",
      " 0   index          26457 non-null  int64  \n",
      " 1   gender         26457 non-null  object \n",
      " 2   car            26457 non-null  object \n",
      " 3   reality        26457 non-null  object \n",
      " 4   child_num      26457 non-null  int64  \n",
      " 5   income_total   26457 non-null  float64\n",
      " 6   income_type    26457 non-null  object \n",
      " 7   edu_type       26457 non-null  object \n",
      " 8   family_type    26457 non-null  object \n",
      " 9   house_type     26457 non-null  object \n",
      " 10  DAYS_BIRTH     26457 non-null  int64  \n",
      " 11  DAYS_EMPLOYED  26457 non-null  int64  \n",
      " 12  FLAG_MOBIL     26457 non-null  int64  \n",
      " 13  work_phone     26457 non-null  int64  \n",
      " 14  phone          26457 non-null  int64  \n",
      " 15  email          26457 non-null  int64  \n",
      " 16  occyp_type     26457 non-null  object \n",
      " 17  family_size    26457 non-null  float64\n",
      " 18  begin_month    26457 non-null  float64\n",
      " 19  credit         26457 non-null  float64\n",
      "dtypes: float64(4), int64(8), object(8)\n",
      "memory usage: 4.0+ MB\n"
     ]
    }
   ],
   "source": [
    "cardfull_df.info()"
   ]
  },
  {
   "cell_type": "code",
   "execution_count": 8,
   "id": "40fb8a01-5a48-4c04-9598-fb7d67fa4870",
   "metadata": {
    "tags": []
   },
   "outputs": [
    {
     "data": {
      "text/plain": [
       "Index(['index', 'gender', 'car', 'reality', 'child_num', 'income_total',\n",
       "       'income_type', 'edu_type', 'family_type', 'house_type', 'DAYS_BIRTH',\n",
       "       'DAYS_EMPLOYED', 'FLAG_MOBIL', 'work_phone', 'phone', 'email',\n",
       "       'occyp_type', 'family_size', 'begin_month', 'credit'],\n",
       "      dtype='object')"
      ]
     },
     "execution_count": 8,
     "metadata": {},
     "output_type": "execute_result"
    }
   ],
   "source": [
    "cardfull_df.columns  # 칼럼"
   ]
  },
  {
   "cell_type": "code",
   "execution_count": 9,
   "id": "95847c17-bb12-4fab-bd08-709361d3223b",
   "metadata": {},
   "outputs": [],
   "source": [
    "cardhangul = cardfull_df.rename(columns={'gender' : '성별',   # 이해하기 쉽게 칼럼을 한글로 변경\n",
    "                      'car' : '차',\n",
    "                      'reality' : '집',\n",
    "                      'child_num' : '자녀 수',\n",
    "                      'income_total' : '연간소득',\n",
    "                      'income_type' : '소득분류',\n",
    "                      'edu_type':'교육수준',\n",
    "                      'family_type':'결혼여부',\n",
    "                      'house_type':'생활방식',\n",
    "                      'DAYS_BIRTH':'출생일',\n",
    "                      'DAYS_EMPLOYED':'취직일',\n",
    "                      'FLAG_MOBIL':'폰',\n",
    "                      'work_phone':'업무용 폰',\n",
    "                      'phone':'전화',\n",
    "                      'email':'이메일',\n",
    "                      'occyp_type' : '직업' ,\n",
    "                      'family_size' : '가족규모',\n",
    "                      'begin_month' : '카드발급일',\n",
    "                      'credit':'신용등급'                        \n",
    "                           })"
   ]
  },
  {
   "cell_type": "code",
   "execution_count": 10,
   "id": "8ba7fc78-8513-495e-bccf-3c0212a468f3",
   "metadata": {},
   "outputs": [
    {
     "data": {
      "text/html": [
       "<div>\n",
       "<style scoped>\n",
       "    .dataframe tbody tr th:only-of-type {\n",
       "        vertical-align: middle;\n",
       "    }\n",
       "\n",
       "    .dataframe tbody tr th {\n",
       "        vertical-align: top;\n",
       "    }\n",
       "\n",
       "    .dataframe thead th {\n",
       "        text-align: right;\n",
       "    }\n",
       "</style>\n",
       "<table border=\"1\" class=\"dataframe\">\n",
       "  <thead>\n",
       "    <tr style=\"text-align: right;\">\n",
       "      <th></th>\n",
       "      <th>index</th>\n",
       "      <th>성별</th>\n",
       "      <th>차</th>\n",
       "      <th>집</th>\n",
       "      <th>자녀 수</th>\n",
       "      <th>연간소득</th>\n",
       "      <th>소득분류</th>\n",
       "      <th>교육수준</th>\n",
       "      <th>결혼여부</th>\n",
       "      <th>생활방식</th>\n",
       "      <th>출생일</th>\n",
       "      <th>취직일</th>\n",
       "      <th>폰</th>\n",
       "      <th>업무용 폰</th>\n",
       "      <th>전화</th>\n",
       "      <th>이메일</th>\n",
       "      <th>직업</th>\n",
       "      <th>가족규모</th>\n",
       "      <th>카드발급일</th>\n",
       "      <th>신용등급</th>\n",
       "    </tr>\n",
       "  </thead>\n",
       "  <tbody>\n",
       "    <tr>\n",
       "      <th>0</th>\n",
       "      <td>0</td>\n",
       "      <td>F</td>\n",
       "      <td>N</td>\n",
       "      <td>N</td>\n",
       "      <td>0</td>\n",
       "      <td>202500.0</td>\n",
       "      <td>Commercial associate</td>\n",
       "      <td>Higher education</td>\n",
       "      <td>Married</td>\n",
       "      <td>Municipal apartment</td>\n",
       "      <td>-13899</td>\n",
       "      <td>-4709</td>\n",
       "      <td>1</td>\n",
       "      <td>0</td>\n",
       "      <td>0</td>\n",
       "      <td>0</td>\n",
       "      <td>unemployed</td>\n",
       "      <td>2.0</td>\n",
       "      <td>-6.0</td>\n",
       "      <td>1.0</td>\n",
       "    </tr>\n",
       "    <tr>\n",
       "      <th>1</th>\n",
       "      <td>1</td>\n",
       "      <td>F</td>\n",
       "      <td>N</td>\n",
       "      <td>Y</td>\n",
       "      <td>1</td>\n",
       "      <td>247500.0</td>\n",
       "      <td>Commercial associate</td>\n",
       "      <td>Secondary / secondary special</td>\n",
       "      <td>Civil marriage</td>\n",
       "      <td>House / apartment</td>\n",
       "      <td>-11380</td>\n",
       "      <td>-1540</td>\n",
       "      <td>1</td>\n",
       "      <td>0</td>\n",
       "      <td>0</td>\n",
       "      <td>1</td>\n",
       "      <td>Laborers</td>\n",
       "      <td>3.0</td>\n",
       "      <td>-5.0</td>\n",
       "      <td>1.0</td>\n",
       "    </tr>\n",
       "  </tbody>\n",
       "</table>\n",
       "</div>"
      ],
      "text/plain": [
       "   index 성별  차  집  자녀 수      연간소득                  소득분류  \\\n",
       "0      0  F  N  N     0  202500.0  Commercial associate   \n",
       "1      1  F  N  Y     1  247500.0  Commercial associate   \n",
       "\n",
       "                            교육수준            결혼여부                 생활방식    출생일  \\\n",
       "0               Higher education         Married  Municipal apartment -13899   \n",
       "1  Secondary / secondary special  Civil marriage    House / apartment -11380   \n",
       "\n",
       "    취직일  폰  업무용 폰  전화  이메일          직업  가족규모  카드발급일  신용등급  \n",
       "0 -4709  1      0   0    0  unemployed   2.0   -6.0   1.0  \n",
       "1 -1540  1      0   0    1    Laborers   3.0   -5.0   1.0  "
      ]
     },
     "execution_count": 10,
     "metadata": {},
     "output_type": "execute_result"
    }
   ],
   "source": [
    "cardhangul.head(2)"
   ]
  },
  {
   "cell_type": "code",
   "execution_count": 74,
   "id": "6d8b9a8f-25a8-4bd0-b05f-453ace20b701",
   "metadata": {
    "tags": []
   },
   "outputs": [
    {
     "data": {
      "image/png": "[encoded data removed]",
      "text/plain": [
       "<Figure size 720x360 with 1 Axes>"
      ]
     },
     "metadata": {
      "needs_background": "light"
     },
     "output_type": "display_data"
    }
   ],
   "source": [
    "plt.rcParams['font.family']='HYsnrL'\n",
    "gender_df = cardhangul.groupby('성별')['신용등급'].mean() # 성벌에 따른 신용등급 #sort_values 할 경우 값순서대로 출력가능 \n",
    "gender_df = gender_df.reset_index() \n",
    "gender_df\n",
    "plt.figure(figsize=(10,5)) \n",
    "sns.barplot(data=gender_df,x='성별',y='신용등급') \n",
    "plt.ylim(1.515,1.524)\n",
    "plt.yticks(np.arange(1.515 ,1.524,0.005))\n",
    "plt.show()\n"
   ]
  },
  {
   "cell_type": "code",
   "execution_count": 12,
   "id": "12344d19-5c47-4eae-996b-1b4a1e215b42",
   "metadata": {
    "collapsed": true,
    "jupyter": {
     "outputs_hidden": true
    },
    "tags": []
   },
   "outputs": [
    {
     "data": {
      "text/plain": [
       "['C:\\\\WINDOWS\\\\Fonts\\\\ENGDOSBI.TTF',\n",
       " 'C:\\\\WINDOWS\\\\Fonts\\\\ENGARMBI.TTF',\n",
       " 'C:\\\\WINDOWS\\\\Fonts\\\\HYSUPB.TTF',\n",
       " 'C:\\\\Windows\\\\Fonts\\\\corbell.ttf',\n",
       " 'C:\\\\WINDOWS\\\\Fonts\\\\wingding.ttf',\n",
       " 'C:\\\\Windows\\\\Fonts\\\\mvboli.ttf',\n",
       " 'C:\\\\WINDOWS\\\\Fonts\\\\SitkaB.ttc',\n",
       " 'C:\\\\Windows\\\\Fonts\\\\ENORBITB.TTF',\n",
       " 'C:\\\\Windows\\\\Fonts\\\\MT.TTF',\n",
       " 'C:\\\\Windows\\\\Fonts\\\\MM.TTF',\n",
       " 'C:\\\\WINDOWS\\\\Fonts\\\\ENORAT10.TTF',\n",
       " 'C:\\\\Windows\\\\Fonts\\\\UNI_HSR.TTF',\n",
       " 'C:\\\\Windows\\\\Fonts\\\\SitkaB.ttc',\n",
       " 'C:\\\\WINDOWS\\\\Fonts\\\\HMKMA.TTF',\n",
       " 'C:\\\\Windows\\\\Fonts\\\\malgunbd.ttf',\n",
       " 'C:\\\\Windows\\\\Fonts\\\\seguihis.ttf',\n",
       " 'C:\\\\Windows\\\\Fonts\\\\YGBI08.TTF',\n",
       " 'C:\\\\WINDOWS\\\\Fonts\\\\HANYheadL.ttf',\n",
       " 'C:\\\\WINDOWS\\\\Fonts\\\\YNCH05.TTF',\n",
       " 'C:\\\\Windows\\\\Fonts\\\\ENFUTUBK.TTF',\n",
       " 'C:\\\\Windows\\\\Fonts\\\\segoescb.ttf',\n",
       " 'C:\\\\WINDOWS\\\\Fonts\\\\Gabriola.ttf',\n",
       " 'C:\\\\WINDOWS\\\\Fonts\\\\msyhl.ttc',\n",
       " 'C:\\\\WINDOWS\\\\Fonts\\\\SitkaZ.ttc',\n",
       " 'C:\\\\WINDOWS\\\\Fonts\\\\calibril.ttf',\n",
       " 'C:\\\\WINDOWS\\\\Fonts\\\\HANSolB.ttf',\n",
       " 'C:\\\\WINDOWS\\\\Fonts\\\\pala.ttf',\n",
       " 'C:\\\\Windows\\\\Fonts\\\\palabi.ttf',\n",
       " 'C:\\\\Windows\\\\Fonts\\\\HYNAMB.TTF',\n",
       " 'C:\\\\WINDOWS\\\\Fonts\\\\HMKLP.TTF',\n",
       " 'C:\\\\Windows\\\\Fonts\\\\YDUG05.TTF',\n",
       " 'C:\\\\Windows\\\\Fonts\\\\HMKLA.TTF',\n",
       " 'C:\\\\Windows\\\\Fonts\\\\HYGPRM.TTF',\n",
       " 'C:\\\\WINDOWS\\\\Fonts\\\\phagspab.ttf',\n",
       " 'C:\\\\Windows\\\\Fonts\\\\Candarab.ttf',\n",
       " 'C:\\\\Windows\\\\Fonts\\\\YuGothB.ttc',\n",
       " 'C:\\\\WINDOWS\\\\Fonts\\\\himalaya.ttf',\n",
       " 'C:\\\\WINDOWS\\\\Fonts\\\\UNI_HSR.TTF',\n",
       " 'C:\\\\Windows\\\\Fonts\\\\palai.ttf',\n",
       " 'C:\\\\WINDOWS\\\\Fonts\\\\ENGARMB.TTF',\n",
       " 'C:\\\\Windows\\\\Fonts\\\\ENBRUSH.TTF',\n",
       " 'C:\\\\WINDOWS\\\\Fonts\\\\seguibli.ttf',\n",
       " 'C:\\\\Windows\\\\Fonts\\\\timesi.ttf',\n",
       " 'C:\\\\WINDOWS\\\\Fonts\\\\ebrima.ttf',\n",
       " 'C:\\\\Windows\\\\Fonts\\\\constan.ttf',\n",
       " 'C:\\\\Windows\\\\Fonts\\\\HMKLP.TTF',\n",
       " 'C:\\\\Windows\\\\Fonts\\\\msjh.ttc',\n",
       " 'C:\\\\Windows\\\\Fonts\\\\times.ttf',\n",
       " 'C:\\\\Windows\\\\Fonts\\\\HANYGO240.ttf',\n",
       " 'C:\\\\Windows\\\\Fonts\\\\seguisbi.ttf',\n",
       " 'C:\\\\Windows\\\\Fonts\\\\georgiaz.ttf',\n",
       " 'C:\\\\WINDOWS\\\\Fonts\\\\consola.ttf',\n",
       " 'C:\\\\WINDOWS\\\\Fonts\\\\ENBASKVL.TTF',\n",
       " 'C:\\\\Windows\\\\Fonts\\\\HMKMP.TTF',\n",
       " 'C:\\\\WINDOWS\\\\Fonts\\\\ENGDOS.TTF',\n",
       " 'C:\\\\Windows\\\\Fonts\\\\ENCOSCPT.TTF',\n",
       " 'C:\\\\WINDOWS\\\\Fonts\\\\MP.TTF',\n",
       " 'C:\\\\Windows\\\\Fonts\\\\HANDotumB.ttf',\n",
       " 'C:\\\\Windows\\\\Fonts\\\\segmdl2.ttf',\n",
       " 'C:\\\\Windows\\\\Fonts\\\\ENBERNF.TTF',\n",
       " 'C:\\\\WINDOWS\\\\Fonts\\\\sylfaen.ttf',\n",
       " 'C:\\\\WINDOWS\\\\Fonts\\\\taile.ttf',\n",
       " 'C:\\\\Windows\\\\Fonts\\\\ENBRODWY.TTF',\n",
       " 'C:\\\\WINDOWS\\\\Fonts\\\\LeelaUIb.ttf',\n",
       " 'C:\\\\WINDOWS\\\\Fonts\\\\HANCooljazzM.ttf',\n",
       " 'C:\\\\WINDOWS\\\\Fonts\\\\holomdl2.ttf',\n",
       " 'C:\\\\Windows\\\\Fonts\\\\arial.ttf',\n",
       " 'C:\\\\Windows\\\\Fonts\\\\ENOCRA.TTF',\n",
       " 'C:\\\\WINDOWS\\\\Fonts\\\\ENOCRB10.TTF',\n",
       " 'C:\\\\WINDOWS\\\\Fonts\\\\ENFREEHD.TTF',\n",
       " 'C:\\\\WINDOWS\\\\Fonts\\\\calibriz.ttf',\n",
       " 'C:\\\\WINDOWS\\\\Fonts\\\\FZSong_Super.TTF',\n",
       " 'C:\\\\Windows\\\\Fonts\\\\ariblk.ttf',\n",
       " 'C:\\\\Windows\\\\Fonts\\\\ENCSCHBI.TTF',\n",
       " 'C:\\\\Windows\\\\Fonts\\\\ENGARMI.TTF',\n",
       " 'C:\\\\WINDOWS\\\\Fonts\\\\NirmalaB.ttf',\n",
       " 'C:\\\\WINDOWS\\\\Fonts\\\\msjhbd.ttc',\n",
       " 'C:\\\\WINDOWS\\\\Fonts\\\\seguibl.ttf',\n",
       " 'C:\\\\Windows\\\\Fonts\\\\MJ.TTF',\n",
       " 'C:\\\\Windows\\\\Fonts\\\\ebrimabd.ttf',\n",
       " 'C:\\\\WINDOWS\\\\Fonts\\\\segoeuil.ttf',\n",
       " 'C:\\\\Windows\\\\Fonts\\\\ENGDOSBI.TTF',\n",
       " 'C:\\\\Windows\\\\Fonts\\\\verdanai.ttf',\n",
       " 'C:\\\\WINDOWS\\\\Fonts\\\\segoeuiz.ttf',\n",
       " 'C:\\\\Windows\\\\Fonts\\\\msjhl.ttc',\n",
       " 'C:\\\\WINDOWS\\\\Fonts\\\\ahn_m.ttf',\n",
       " 'C:\\\\WINDOWS\\\\Fonts\\\\consolaz.ttf',\n",
       " 'C:\\\\Windows\\\\Fonts\\\\segoeuii.ttf',\n",
       " 'C:\\\\WINDOWS\\\\Fonts\\\\javatext.ttf',\n",
       " 'C:\\\\WINDOWS\\\\Fonts\\\\Inkfree.ttf',\n",
       " 'C:\\\\WINDOWS\\\\Fonts\\\\YuGothM.ttc',\n",
       " 'C:\\\\WINDOWS\\\\Fonts\\\\calibrib.ttf',\n",
       " 'C:\\\\Windows\\\\Fonts\\\\ENBLBK.TTF',\n",
       " 'C:\\\\WINDOWS\\\\Fonts\\\\HYSUPM.TTF',\n",
       " 'C:\\\\Windows\\\\Fonts\\\\ENFREEHD.TTF',\n",
       " 'C:\\\\Windows\\\\Fonts\\\\corbelz.ttf',\n",
       " 'C:\\\\Windows\\\\Fonts\\\\ENGDOSI.TTF',\n",
       " 'C:\\\\Windows\\\\Fonts\\\\comici.ttf',\n",
       " 'C:\\\\Windows\\\\Fonts\\\\ENGDOS.TTF',\n",
       " 'C:\\\\Windows\\\\Fonts\\\\ahn_b.ttf',\n",
       " 'C:\\\\WINDOWS\\\\Fonts\\\\trebucbi.ttf',\n",
       " 'C:\\\\WINDOWS\\\\Fonts\\\\YBMG05.TTF',\n",
       " 'C:\\\\Windows\\\\Fonts\\\\ENCSCH.TTF',\n",
       " 'C:\\\\WINDOWS\\\\Fonts\\\\monbaiti.ttf',\n",
       " 'C:\\\\Windows\\\\Fonts\\\\YBLO05.TTF',\n",
       " 'C:\\\\WINDOWS\\\\Fonts\\\\Art.ttf',\n",
       " 'C:\\\\Windows\\\\Fonts\\\\HANBaekB.ttf',\n",
       " 'C:\\\\Windows\\\\Fonts\\\\Candara.ttf',\n",
       " 'C:\\\\Windows\\\\Fonts\\\\tahoma.ttf',\n",
       " 'C:\\\\WINDOWS\\\\Fonts\\\\Sol.ttf',\n",
       " 'C:\\\\WINDOWS\\\\Fonts\\\\seguisym.ttf',\n",
       " 'C:\\\\Windows\\\\Fonts\\\\HMKMG.TTF',\n",
       " 'C:\\\\Windows\\\\Fonts\\\\HYHWPEQ.TTF',\n",
       " 'C:\\\\WINDOWS\\\\Fonts\\\\bahnschrift.ttf',\n",
       " 'C:\\\\WINDOWS\\\\Fonts\\\\framd.ttf',\n",
       " 'C:\\\\WINDOWS\\\\Fonts\\\\YDOO08.TTF',\n",
       " 'C:\\\\WINDOWS\\\\Fonts\\\\georgiai.ttf',\n",
       " 'C:\\\\WINDOWS\\\\Fonts\\\\timesbd.ttf',\n",
       " 'C:\\\\Users\\\\Changwan\\\\AppData\\\\Local\\\\Microsoft\\\\Windows\\\\Fonts\\\\NanumGothic.ttf',\n",
       " 'C:\\\\Windows\\\\Fonts\\\\seguisli.ttf',\n",
       " 'C:\\\\WINDOWS\\\\Fonts\\\\cambriaz.ttf',\n",
       " 'C:\\\\WINDOWS\\\\Fonts\\\\HANCooljazzL.ttf',\n",
       " 'C:\\\\Windows\\\\Fonts\\\\courbd.ttf',\n",
       " 'C:\\\\WINDOWS\\\\Fonts\\\\seguili.ttf',\n",
       " 'C:\\\\WINDOWS\\\\Fonts\\\\arial.ttf',\n",
       " 'C:\\\\WINDOWS\\\\Fonts\\\\ENORBITB.TTF',\n",
       " 'C:\\\\Windows\\\\Fonts\\\\palab.ttf',\n",
       " 'C:\\\\Windows\\\\Fonts\\\\cour.ttf',\n",
       " 'C:\\\\WINDOWS\\\\Fonts\\\\YGBI08.TTF',\n",
       " 'C:\\\\WINDOWS\\\\Fonts\\\\HANBaekM.ttf',\n",
       " 'C:\\\\Windows\\\\Fonts\\\\LeelaUIb.ttf',\n",
       " 'C:\\\\Windows\\\\Fonts\\\\consola.ttf',\n",
       " 'C:\\\\WINDOWS\\\\Fonts\\\\msjhl.ttc',\n",
       " 'C:\\\\Windows\\\\Fonts\\\\Along.ttf',\n",
       " 'C:\\\\Windows\\\\Fonts\\\\framdit.ttf',\n",
       " 'C:\\\\WINDOWS\\\\Fonts\\\\YGGE05.TTF',\n",
       " 'C:\\\\Windows\\\\Fonts\\\\HMKBS.TTF',\n",
       " 'C:\\\\Windows\\\\Fonts\\\\YTTE08.TTF',\n",
       " 'C:\\\\Windows\\\\Fonts\\\\HMKBA.TTF',\n",
       " 'C:\\\\WINDOWS\\\\Fonts\\\\corbell.ttf',\n",
       " 'C:\\\\WINDOWS\\\\Fonts\\\\HMKBA.TTF',\n",
       " 'C:\\\\Windows\\\\Fonts\\\\ENITCNBK.TTF',\n",
       " 'C:\\\\WINDOWS\\\\Fonts\\\\gulim.ttc',\n",
       " 'C:\\\\Windows\\\\Fonts\\\\arialbi.ttf',\n",
       " 'C:\\\\WINDOWS\\\\Fonts\\\\HYNAMM.TTF',\n",
       " 'C:\\\\WINDOWS\\\\Fonts\\\\MG.TTF',\n",
       " 'C:\\\\Windows\\\\Fonts\\\\holomdl2.ttf',\n",
       " 'C:\\\\Windows\\\\Fonts\\\\constanb.ttf',\n",
       " 'C:\\\\WINDOWS\\\\Fonts\\\\HYDNKM.TTF',\n",
       " 'C:\\\\WINDOWS\\\\Fonts\\\\HYBDAM.TTF',\n",
       " 'C:\\\\Windows\\\\Fonts\\\\seguibl.ttf',\n",
       " 'C:\\\\WINDOWS\\\\Fonts\\\\HYCYSM.TTF',\n",
       " 'C:\\\\Windows\\\\Fonts\\\\YBLA05.TTF',\n",
       " 'C:\\\\WINDOWS\\\\Fonts\\\\SitkaI.ttc',\n",
       " 'C:\\\\WINDOWS\\\\Fonts\\\\ENCSCH.TTF',\n",
       " 'C:\\\\WINDOWS\\\\Fonts\\\\Candara.ttf',\n",
       " 'C:\\\\WINDOWS\\\\Fonts\\\\YINJ05.TTF',\n",
       " 'C:\\\\WINDOWS\\\\Fonts\\\\Candarai.ttf',\n",
       " 'C:\\\\WINDOWS\\\\Fonts\\\\HYKANM.TTF',\n",
       " 'C:\\\\Windows\\\\Fonts\\\\constanz.ttf',\n",
       " 'C:\\\\Windows\\\\Fonts\\\\YDWM05.TTF',\n",
       " 'C:\\\\Windows\\\\Fonts\\\\HANCooljazzL.ttf',\n",
       " 'C:\\\\Windows\\\\Fonts\\\\simsunb.ttf',\n",
       " 'C:\\\\Windows\\\\Fonts\\\\ENGARM.TTF',\n",
       " 'C:\\\\WINDOWS\\\\Fonts\\\\HMKMOLD.TTF',\n",
       " 'C:\\\\Windows\\\\Fonts\\\\monbaiti.ttf',\n",
       " 'C:\\\\Windows\\\\Fonts\\\\HYWULM.TTF',\n",
       " 'C:\\\\WINDOWS\\\\Fonts\\\\YuGothB.ttc',\n",
       " 'C:\\\\WINDOWS\\\\Fonts\\\\trebuc.ttf',\n",
       " 'C:\\\\WINDOWS\\\\Fonts\\\\HYGSRB.TTF',\n",
       " 'C:\\\\Windows\\\\Fonts\\\\Sitka.ttc',\n",
       " 'C:\\\\WINDOWS\\\\Fonts\\\\LeelUIsl.ttf',\n",
       " 'C:\\\\Windows\\\\Fonts\\\\YuGothL.ttc',\n",
       " 'C:\\\\Windows\\\\Fonts\\\\YNCH05.TTF',\n",
       " 'C:\\\\WINDOWS\\\\Fonts\\\\seguiemj.ttf',\n",
       " 'C:\\\\WINDOWS\\\\Fonts\\\\Along.ttf',\n",
       " 'C:\\\\WINDOWS\\\\Fonts\\\\ENOCRA.TTF',\n",
       " 'C:\\\\Windows\\\\Fonts\\\\calibrii.ttf',\n",
       " 'C:\\\\WINDOWS\\\\Fonts\\\\webdings.ttf',\n",
       " 'C:\\\\WINDOWS\\\\Fonts\\\\malgunbd.ttf',\n",
       " 'C:\\\\Windows\\\\Fonts\\\\HMKMA.TTF',\n",
       " 'C:\\\\Windows\\\\Fonts\\\\couri.ttf',\n",
       " 'C:\\\\Windows\\\\Fonts\\\\FZSong_Super.TTF',\n",
       " 'C:\\\\Windows\\\\Fonts\\\\msyi.ttf',\n",
       " 'C:\\\\Windows\\\\Fonts\\\\YMAE07.TTF',\n",
       " 'C:\\\\WINDOWS\\\\Fonts\\\\constan.ttf',\n",
       " 'C:\\\\WINDOWS\\\\Fonts\\\\corbeli.ttf',\n",
       " 'C:\\\\Windows\\\\Fonts\\\\HMKMS.TTF',\n",
       " 'C:\\\\Windows\\\\Fonts\\\\ENBODBI.TTF',\n",
       " 'C:\\\\WINDOWS\\\\Fonts\\\\georgiaz.ttf',\n",
       " 'C:\\\\WINDOWS\\\\Fonts\\\\mvboli.ttf',\n",
       " 'C:\\\\WINDOWS\\\\Fonts\\\\seguisli.ttf',\n",
       " 'C:\\\\WINDOWS\\\\Fonts\\\\HMKMM.TTF',\n",
       " 'C:\\\\WINDOWS\\\\Fonts\\\\ENFUTUBK.TTF',\n",
       " 'C:\\\\Windows\\\\Fonts\\\\timesbd.ttf',\n",
       " 'C:\\\\Windows\\\\Fonts\\\\consolaz.ttf',\n",
       " 'C:\\\\WINDOWS\\\\Fonts\\\\verdanai.ttf',\n",
       " 'C:\\\\WINDOWS\\\\Fonts\\\\ENS721LI.TTF',\n",
       " 'C:\\\\WINDOWS\\\\Fonts\\\\l_10646.ttf',\n",
       " 'C:\\\\Windows\\\\Fonts\\\\ebrima.ttf',\n",
       " 'C:\\\\Windows\\\\Fonts\\\\javatext.ttf',\n",
       " 'C:\\\\WINDOWS\\\\Fonts\\\\msgothic.ttc',\n",
       " 'C:\\\\WINDOWS\\\\Fonts\\\\HMKBS.TTF',\n",
       " 'C:\\\\Windows\\\\Fonts\\\\MG.TTF',\n",
       " 'C:\\\\Windows\\\\Fonts\\\\HMKLS.TTF',\n",
       " 'C:\\\\WINDOWS\\\\Fonts\\\\seguisb.ttf',\n",
       " 'C:\\\\Windows\\\\Fonts\\\\ENGDOSB.TTF',\n",
       " 'C:\\\\Windows\\\\Fonts\\\\webdings.ttf',\n",
       " 'C:\\\\Windows\\\\Fonts\\\\HDOTUM.TTF',\n",
       " 'C:\\\\WINDOWS\\\\Fonts\\\\ENGDOSI.TTF',\n",
       " 'C:\\\\Windows\\\\Fonts\\\\cambria.ttc',\n",
       " 'C:\\\\Windows\\\\Fonts\\\\YWDA05.TTF',\n",
       " 'C:\\\\WINDOWS\\\\Fonts\\\\cambriai.ttf',\n",
       " 'C:\\\\Windows\\\\Fonts\\\\ENBODBK.TTF',\n",
       " 'C:\\\\WINDOWS\\\\Fonts\\\\segoepr.ttf',\n",
       " 'C:\\\\WINDOWS\\\\Fonts\\\\ENMUHB.TTF',\n",
       " 'C:\\\\Windows\\\\Fonts\\\\calibriz.ttf',\n",
       " 'C:\\\\Windows\\\\Fonts\\\\malgunsl.ttf',\n",
       " 'C:\\\\Windows\\\\Fonts\\\\HANBatangExt.ttf',\n",
       " 'C:\\\\WINDOWS\\\\Fonts\\\\tahoma.ttf',\n",
       " 'C:\\\\WINDOWS\\\\Fonts\\\\ENLIBRTY.TTF',\n",
       " 'C:\\\\Windows\\\\Fonts\\\\calibrili.ttf',\n",
       " 'C:\\\\Windows\\\\Fonts\\\\HANSomaB.ttf',\n",
       " 'C:\\\\Windows\\\\Fonts\\\\trebucit.ttf',\n",
       " 'C:\\\\Windows\\\\Fonts\\\\HYNAML.TTF',\n",
       " 'C:\\\\Windows\\\\Fonts\\\\HANYheadL.ttf',\n",
       " 'C:\\\\Windows\\\\Fonts\\\\ENPKAV.TTF',\n",
       " 'C:\\\\WINDOWS\\\\Fonts\\\\HANSomaM.ttf',\n",
       " 'C:\\\\Windows\\\\Fonts\\\\seguiemj.ttf',\n",
       " 'C:\\\\WINDOWS\\\\Fonts\\\\lucon.ttf',\n",
       " 'C:\\\\WINDOWS\\\\Fonts\\\\YTTE08.TTF',\n",
       " 'C:\\\\WINDOWS\\\\Fonts\\\\ENCR10B.TTF',\n",
       " 'C:\\\\WINDOWS\\\\Fonts\\\\HANDotumExt.ttf',\n",
       " 'C:\\\\Windows\\\\Fonts\\\\HYSANB.TTF',\n",
       " 'C:\\\\Windows\\\\Fonts\\\\HMKMOLD.TTF',\n",
       " 'C:\\\\Windows\\\\Fonts\\\\HYBDAM.TTF',\n",
       " 'C:\\\\WINDOWS\\\\Fonts\\\\corbelz.ttf',\n",
       " 'C:\\\\WINDOWS\\\\Fonts\\\\Easop.ttf',\n",
       " 'C:\\\\WINDOWS\\\\Fonts\\\\HMKLA.TTF',\n",
       " 'C:\\\\Windows\\\\Fonts\\\\SitkaZ.ttc',\n",
       " 'C:\\\\Windows\\\\Fonts\\\\symbol.ttf',\n",
       " 'C:\\\\Windows\\\\Fonts\\\\HYSUPM.TTF',\n",
       " 'C:\\\\WINDOWS\\\\Fonts\\\\segoeuisl.ttf',\n",
       " 'C:\\\\Windows\\\\Fonts\\\\HYDNKB.TTF',\n",
       " 'C:\\\\WINDOWS\\\\Fonts\\\\HYGPRM.TTF',\n",
       " 'C:\\\\WINDOWS\\\\Fonts\\\\HANDotum.ttf',\n",
       " 'C:\\\\Windows\\\\Fonts\\\\HANDotum.ttf',\n",
       " 'C:\\\\WINDOWS\\\\Fonts\\\\ENBRODWY.TTF',\n",
       " 'C:\\\\WINDOWS\\\\Fonts\\\\YDWM05.TTF',\n",
       " 'C:\\\\Windows\\\\Fonts\\\\segoeuil.ttf',\n",
       " 'C:\\\\WINDOWS\\\\Fonts\\\\HYBDAL.TTF',\n",
       " 'C:\\\\Windows\\\\Fonts\\\\MB.TTF',\n",
       " 'C:\\\\Windows\\\\Fonts\\\\verdanaz.ttf',\n",
       " 'C:\\\\WINDOWS\\\\Fonts\\\\Candarali.ttf',\n",
       " 'C:\\\\WINDOWS\\\\Fonts\\\\ENGARM.TTF',\n",
       " 'C:\\\\WINDOWS\\\\Fonts\\\\couri.ttf',\n",
       " 'C:\\\\Windows\\\\Fonts\\\\msyhbd.ttc',\n",
       " 'C:\\\\WINDOWS\\\\Fonts\\\\HANBatangB.ttf',\n",
       " 'C:\\\\WINDOWS\\\\Fonts\\\\micross.ttf',\n",
       " 'C:\\\\Windows\\\\Fonts\\\\comicz.ttf',\n",
       " 'C:\\\\WINDOWS\\\\Fonts\\\\corbelb.ttf',\n",
       " 'C:\\\\WINDOWS\\\\Fonts\\\\corbelli.ttf',\n",
       " 'C:\\\\Windows\\\\Fonts\\\\msyh.ttc',\n",
       " 'C:\\\\Windows\\\\Fonts\\\\HYBDAL.TTF',\n",
       " 'C:\\\\WINDOWS\\\\Fonts\\\\ntailu.ttf',\n",
       " 'C:\\\\Windows\\\\Fonts\\\\HANCooljazzB.ttf',\n",
       " 'C:\\\\Windows\\\\Fonts\\\\gadugib.ttf',\n",
       " 'C:\\\\Windows\\\\Fonts\\\\sylfaen.ttf',\n",
       " 'C:\\\\Windows\\\\Fonts\\\\segoepr.ttf',\n",
       " 'C:\\\\WINDOWS\\\\Fonts\\\\malgunsl.ttf',\n",
       " 'C:\\\\WINDOWS\\\\Fonts\\\\HYMPRL.TTF',\n",
       " 'C:\\\\Windows\\\\Fonts\\\\ENSW721L.TTF',\n",
       " 'C:\\\\Windows\\\\Fonts\\\\HANSomaM.ttf',\n",
       " 'C:\\\\WINDOWS\\\\Fonts\\\\palab.ttf',\n",
       " 'C:\\\\WINDOWS\\\\Fonts\\\\simsunb.ttf',\n",
       " 'C:\\\\Windows\\\\Fonts\\\\YINP05.TTF',\n",
       " 'C:\\\\Windows\\\\Fonts\\\\Easop.ttf',\n",
       " 'C:\\\\WINDOWS\\\\Fonts\\\\NirmalaS.ttf',\n",
       " 'C:\\\\WINDOWS\\\\Fonts\\\\constani.ttf',\n",
       " 'C:\\\\WINDOWS\\\\Fonts\\\\HANYGO250.ttf',\n",
       " 'C:\\\\WINDOWS\\\\Fonts\\\\HANCooljazzB.ttf',\n",
       " 'C:\\\\Windows\\\\Fonts\\\\YuGothR.ttc',\n",
       " 'C:\\\\Windows\\\\Fonts\\\\ariali.ttf',\n",
       " 'C:\\\\Windows\\\\Fonts\\\\verdanab.ttf',\n",
       " 'C:\\\\WINDOWS\\\\Fonts\\\\MB.TTF',\n",
       " 'C:\\\\Windows\\\\Fonts\\\\Candaral.ttf',\n",
       " 'C:\\\\WINDOWS\\\\Fonts\\\\phagspa.ttf',\n",
       " 'C:\\\\WINDOWS\\\\Fonts\\\\HANYGO240.ttf',\n",
       " 'C:\\\\Windows\\\\Fonts\\\\MN.TTF',\n",
       " 'C:\\\\Windows\\\\Fonts\\\\phagspab.ttf',\n",
       " 'C:\\\\Windows\\\\Fonts\\\\HBATANG.TTF',\n",
       " 'C:\\\\WINDOWS\\\\Fonts\\\\MT.TTF',\n",
       " 'C:\\\\WINDOWS\\\\Fonts\\\\HANYheadB.ttf',\n",
       " 'C:\\\\Windows\\\\Fonts\\\\HANYheadB.ttf',\n",
       " 'C:\\\\Windows\\\\Fonts\\\\HYWULB.TTF',\n",
       " 'C:\\\\WINDOWS\\\\Fonts\\\\ENGARMI.TTF',\n",
       " 'C:\\\\Windows\\\\Fonts\\\\verdana.ttf',\n",
       " 'C:\\\\Windows\\\\Fonts\\\\msgothic.ttc',\n",
       " 'C:\\\\Windows\\\\Fonts\\\\msjhbd.ttc',\n",
       " 'C:\\\\Windows\\\\Fonts\\\\comicbd.ttf',\n",
       " 'C:\\\\Windows\\\\Fonts\\\\gulim.ttc',\n",
       " 'C:\\\\WINDOWS\\\\Fonts\\\\HYKANB.TTF',\n",
       " 'C:\\\\Windows\\\\Fonts\\\\NirmalaB.ttf',\n",
       " 'C:\\\\Windows\\\\Fonts\\\\corbeli.ttf',\n",
       " 'C:\\\\Windows\\\\Fonts\\\\mingliub.ttc',\n",
       " 'C:\\\\WINDOWS\\\\Fonts\\\\HYDNKB.TTF',\n",
       " 'C:\\\\WINDOWS\\\\Fonts\\\\HMKMG.TTF',\n",
       " 'C:\\\\WINDOWS\\\\Fonts\\\\ENHOBO.TTF',\n",
       " 'C:\\\\WINDOWS\\\\Fonts\\\\ahn_l.ttf',\n",
       " 'C:\\\\Windows\\\\Fonts\\\\ENORAT10.TTF',\n",
       " 'C:\\\\WINDOWS\\\\Fonts\\\\comic.ttf',\n",
       " 'C:\\\\WINDOWS\\\\Fonts\\\\ENCR10BI.TTF',\n",
       " 'C:\\\\Windows\\\\Fonts\\\\phagspa.ttf',\n",
       " 'C:\\\\Windows\\\\Fonts\\\\HANSaleB.ttf',\n",
       " 'C:\\\\WINDOWS\\\\Fonts\\\\YCHM08.TTF',\n",
       " 'C:\\\\Windows\\\\Fonts\\\\comic.ttf',\n",
       " 'C:\\\\WINDOWS\\\\Fonts\\\\HYGTRE.TTF',\n",
       " 'C:\\\\Windows\\\\Fonts\\\\seguisb.ttf',\n",
       " 'C:\\\\WINDOWS\\\\Fonts\\\\YWDA05.TTF',\n",
       " 'C:\\\\WINDOWS\\\\Fonts\\\\HYNAML.TTF',\n",
       " 'C:\\\\Windows\\\\Fonts\\\\ENSTEN.TTF',\n",
       " 'C:\\\\Windows\\\\Fonts\\\\HANBaekM.ttf',\n",
       " 'C:\\\\WINDOWS\\\\Fonts\\\\timesbi.ttf',\n",
       " 'C:\\\\WINDOWS\\\\Fonts\\\\ENBODB.TTF',\n",
       " 'C:\\\\Windows\\\\Fonts\\\\ENS721LI.TTF',\n",
       " 'C:\\\\WINDOWS\\\\Fonts\\\\marlett.ttf',\n",
       " 'C:\\\\Windows\\\\Fonts\\\\HANYheadM.ttf',\n",
       " 'C:\\\\Windows\\\\Fonts\\\\LeelawUI.ttf',\n",
       " 'C:\\\\Windows\\\\Fonts\\\\HANSaleM.ttf',\n",
       " 'C:\\\\WINDOWS\\\\Fonts\\\\HYNAMB.TTF',\n",
       " 'C:\\\\WINDOWS\\\\Fonts\\\\segoeuib.ttf',\n",
       " 'C:\\\\WINDOWS\\\\Fonts\\\\calibrili.ttf',\n",
       " 'C:\\\\WINDOWS\\\\Fonts\\\\ebrimabd.ttf',\n",
       " 'C:\\\\Windows\\\\Fonts\\\\ENBODB.TTF',\n",
       " 'C:\\\\Windows\\\\Fonts\\\\taileb.ttf',\n",
       " 'C:\\\\WINDOWS\\\\Fonts\\\\HMKMS.TTF',\n",
       " 'C:\\\\WINDOWS\\\\Fonts\\\\HANDotumB.ttf',\n",
       " 'C:\\\\WINDOWS\\\\Fonts\\\\HBATANG.TTF',\n",
       " 'C:\\\\WINDOWS\\\\Fonts\\\\Sitka.ttc',\n",
       " 'C:\\\\Windows\\\\Fonts\\\\segoeuib.ttf',\n",
       " 'C:\\\\Windows\\\\Fonts\\\\HANBatangB.ttf',\n",
       " 'C:\\\\Windows\\\\Fonts\\\\segoeprb.ttf',\n",
       " 'C:\\\\WINDOWS\\\\Fonts\\\\symbol.ttf',\n",
       " 'C:\\\\Windows\\\\Fonts\\\\calibril.ttf',\n",
       " 'C:\\\\Windows\\\\Fonts\\\\msyhl.ttc',\n",
       " 'C:\\\\Windows\\\\Fonts\\\\consolai.ttf',\n",
       " 'C:\\\\Windows\\\\Fonts\\\\calibrib.ttf',\n",
       " 'C:\\\\WINDOWS\\\\Fonts\\\\msyi.ttf',\n",
       " 'C:\\\\Windows\\\\Fonts\\\\HMKMM.TTF',\n",
       " 'C:\\\\WINDOWS\\\\Fonts\\\\HYWULB.TTF',\n",
       " 'C:\\\\Windows\\\\Fonts\\\\wingding.ttf',\n",
       " 'C:\\\\Windows\\\\Fonts\\\\arialbd.ttf',\n",
       " 'C:\\\\WINDOWS\\\\Fonts\\\\georgia.ttf',\n",
       " 'C:\\\\WINDOWS\\\\Fonts\\\\YBLA05.TTF',\n",
       " 'C:\\\\Windows\\\\Fonts\\\\HYGTRE.TTF',\n",
       " 'C:\\\\Windows\\\\Fonts\\\\PENHL.TTF',\n",
       " 'C:\\\\Windows\\\\Fonts\\\\ENCSCHB.TTF',\n",
       " 'C:\\\\WINDOWS\\\\Fonts\\\\ENCOBK.TTF',\n",
       " 'C:\\\\Windows\\\\Fonts\\\\YuGothM.ttc',\n",
       " 'C:\\\\Windows\\\\Fonts\\\\YCHM08.TTF',\n",
       " 'C:\\\\Windows\\\\Fonts\\\\HYBSRB.TTF',\n",
       " 'C:\\\\WINDOWS\\\\Fonts\\\\arialbd.ttf',\n",
       " 'C:\\\\Windows\\\\Fonts\\\\trebucbd.ttf',\n",
       " 'C:\\\\Windows\\\\Fonts\\\\MK.TTF',\n",
       " 'C:\\\\WINDOWS\\\\Fonts\\\\MN.TTF',\n",
       " 'C:\\\\WINDOWS\\\\Fonts\\\\msjh.ttc',\n",
       " 'C:\\\\WINDOWS\\\\Fonts\\\\Candaraz.ttf',\n",
       " 'C:\\\\WINDOWS\\\\Fonts\\\\segmdl2.ttf',\n",
       " 'C:\\\\Windows\\\\Fonts\\\\ntailub.ttf',\n",
       " 'C:\\\\Windows\\\\Fonts\\\\bahnschrift.ttf',\n",
       " 'C:\\\\Windows\\\\Fonts\\\\LeelUIsl.ttf',\n",
       " 'C:\\\\Windows\\\\Fonts\\\\YBMG05.TTF',\n",
       " 'C:\\\\Windows\\\\Fonts\\\\MH.TTF',\n",
       " 'C:\\\\WINDOWS\\\\Fonts\\\\ENITCNBK.TTF',\n",
       " 'C:\\\\WINDOWS\\\\Fonts\\\\comicz.ttf',\n",
       " 'C:\\\\WINDOWS\\\\Fonts\\\\mmrtext.ttf',\n",
       " 'C:\\\\WINDOWS\\\\Fonts\\\\calibrii.ttf',\n",
       " 'C:\\\\WINDOWS\\\\Fonts\\\\mingliub.ttc',\n",
       " 'C:\\\\Windows\\\\Fonts\\\\batang.ttc',\n",
       " 'C:\\\\WINDOWS\\\\Fonts\\\\YDUG05.TTF',\n",
       " 'C:\\\\Windows\\\\Fonts\\\\HYPORM.TTF',\n",
       " 'C:\\\\Windows\\\\Fonts\\\\micross.ttf',\n",
       " 'C:\\\\WINDOWS\\\\Fonts\\\\verdanab.ttf',\n",
       " 'C:\\\\WINDOWS\\\\Fonts\\\\MK.TTF',\n",
       " 'C:\\\\WINDOWS\\\\Fonts\\\\ENGDOSB.TTF',\n",
       " 'C:\\\\WINDOWS\\\\Fonts\\\\ariblk.ttf',\n",
       " 'C:\\\\WINDOWS\\\\Fonts\\\\HANBatangExt.ttf',\n",
       " 'C:\\\\Windows\\\\Fonts\\\\YINJ05.TTF',\n",
       " 'C:\\\\WINDOWS\\\\Fonts\\\\ntailub.ttf',\n",
       " 'C:\\\\WINDOWS\\\\Fonts\\\\YBUU02.TTF',\n",
       " 'C:\\\\WINDOWS\\\\Fonts\\\\MM.TTF',\n",
       " 'C:\\\\WINDOWS\\\\Fonts\\\\taileb.ttf',\n",
       " 'C:\\\\WINDOWS\\\\Fonts\\\\HANYheadM.ttf',\n",
       " 'C:\\\\Windows\\\\Fonts\\\\YSHN05.TTF',\n",
       " 'C:\\\\WINDOWS\\\\Fonts\\\\HYBSRB.TTF',\n",
       " 'C:\\\\WINDOWS\\\\Fonts\\\\simsun.ttc',\n",
       " 'C:\\\\Windows\\\\Fonts\\\\HANSolB.ttf',\n",
       " 'C:\\\\WINDOWS\\\\Fonts\\\\palai.ttf',\n",
       " 'C:\\\\WINDOWS\\\\Fonts\\\\seguihis.ttf',\n",
       " 'C:\\\\Windows\\\\Fonts\\\\YSOS07.TTF',\n",
       " 'C:\\\\WINDOWS\\\\Fonts\\\\ENBODBI.TTF',\n",
       " 'C:\\\\WINDOWS\\\\Fonts\\\\segoeuii.ttf',\n",
       " 'C:\\\\WINDOWS\\\\Fonts\\\\cambriab.ttf',\n",
       " 'C:\\\\Windows\\\\Fonts\\\\ENCR10B.TTF',\n",
       " 'C:\\\\WINDOWS\\\\Fonts\\\\HDOTUM.TTF',\n",
       " 'C:\\\\WINDOWS\\\\Fonts\\\\consolai.ttf',\n",
       " 'C:\\\\WINDOWS\\\\Fonts\\\\PENHL.TTF',\n",
       " 'C:\\\\Windows\\\\Fonts\\\\MP.TTF',\n",
       " 'C:\\\\WINDOWS\\\\Fonts\\\\HANSaleB.ttf',\n",
       " 'C:\\\\WINDOWS\\\\Fonts\\\\YBLO05.TTF',\n",
       " 'C:\\\\Windows\\\\Fonts\\\\Gaesung.ttf',\n",
       " 'C:\\\\Windows\\\\Fonts\\\\ENLIBRTY.TTF',\n",
       " 'C:\\\\WINDOWS\\\\Fonts\\\\YINP05.TTF',\n",
       " 'C:\\\\WINDOWS\\\\Fonts\\\\segoeprb.ttf',\n",
       " 'C:\\\\WINDOWS\\\\Fonts\\\\HYHWPEQ.TTF',\n",
       " 'C:\\\\WINDOWS\\\\Fonts\\\\HYMJRE.TTF',\n",
       " 'C:\\\\WINDOWS\\\\Fonts\\\\constanb.ttf',\n",
       " 'C:\\\\Windows\\\\Fonts\\\\YDOO08.TTF',\n",
       " 'C:\\\\Windows\\\\Fonts\\\\ENCR10BI.TTF',\n",
       " 'C:\\\\Windows\\\\Fonts\\\\trebuc.ttf',\n",
       " 'C:\\\\WINDOWS\\\\Fonts\\\\gadugib.ttf',\n",
       " 'C:\\\\WINDOWS\\\\Fonts\\\\mmrtextb.ttf',\n",
       " 'C:\\\\Windows\\\\Fonts\\\\cambriab.ttf',\n",
       " 'C:\\\\Windows\\\\Fonts\\\\Candarali.ttf',\n",
       " 'C:\\\\Windows\\\\Fonts\\\\HYTBRB.TTF',\n",
       " 'C:\\\\WINDOWS\\\\Fonts\\\\cambria.ttc',\n",
       " 'C:\\\\WINDOWS\\\\Fonts\\\\ENBLBK.TTF',\n",
       " 'C:\\\\WINDOWS\\\\Fonts\\\\segoescb.ttf',\n",
       " 'C:\\\\WINDOWS\\\\Fonts\\\\ENCSCHI.TTF',\n",
       " 'C:\\\\WINDOWS\\\\Fonts\\\\segoeui.ttf',\n",
       " 'C:\\\\WINDOWS\\\\Fonts\\\\ENCOBKI.TTF',\n",
       " 'C:\\\\WINDOWS\\\\Fonts\\\\constanz.ttf',\n",
       " 'C:\\\\Windows\\\\Fonts\\\\HANYGO250.ttf',\n",
       " 'C:\\\\Windows\\\\Fonts\\\\SitkaI.ttc',\n",
       " 'C:\\\\Windows\\\\Fonts\\\\pala.ttf',\n",
       " 'C:\\\\Windows\\\\Fonts\\\\segoeuisl.ttf',\n",
       " 'C:\\\\WINDOWS\\\\Fonts\\\\courbd.ttf',\n",
       " 'C:\\\\WINDOWS\\\\Fonts\\\\HANBaekB.ttf',\n",
       " 'C:\\\\WINDOWS\\\\Fonts\\\\YuGothL.ttc',\n",
       " 'C:\\\\WINDOWS\\\\Fonts\\\\HMKLS.TTF',\n",
       " 'C:\\\\WINDOWS\\\\Fonts\\\\HYSANB.TTF',\n",
       " 'C:\\\\Windows\\\\Fonts\\\\HYKANB.TTF',\n",
       " 'C:\\\\Windows\\\\Fonts\\\\HYMPRL.TTF',\n",
       " 'C:\\\\Windows\\\\Fonts\\\\HYSUPB.TTF',\n",
       " 'C:\\\\WINDOWS\\\\Fonts\\\\georgiab.ttf',\n",
       " 'C:\\\\Windows\\\\Fonts\\\\YBUU02.TTF',\n",
       " 'C:\\\\WINDOWS\\\\Fonts\\\\gadugi.ttf',\n",
       " 'C:\\\\Windows\\\\Fonts\\\\ntailu.ttf',\n",
       " 'C:\\\\WINDOWS\\\\Fonts\\\\YSOS07.TTF',\n",
       " 'C:\\\\WINDOWS\\\\Fonts\\\\seguisbi.ttf',\n",
       " 'C:\\\\Windows\\\\Fonts\\\\Gabriola.ttf',\n",
       " 'C:\\\\Windows\\\\Fonts\\\\corbelb.ttf',\n",
       " 'C:\\\\WINDOWS\\\\Fonts\\\\timesi.ttf',\n",
       " 'C:\\\\WINDOWS\\\\Fonts\\\\Candarab.ttf',\n",
       " 'C:\\\\WINDOWS\\\\Fonts\\\\ENCSCHB.TTF',\n",
       " 'C:\\\\Windows\\\\Fonts\\\\HANYGO230.ttf',\n",
       " 'C:\\\\WINDOWS\\\\Fonts\\\\YuGothR.ttc',\n",
       " 'C:\\\\Windows\\\\Fonts\\\\HYDNKM.TTF',\n",
       " 'C:\\\\WINDOWS\\\\Fonts\\\\ahn_b.ttf',\n",
       " 'C:\\\\Windows\\\\Fonts\\\\georgia.ttf',\n",
       " 'C:\\\\Windows\\\\Fonts\\\\ENCOBK.TTF',\n",
       " 'C:\\\\WINDOWS\\\\Fonts\\\\malgun.ttf',\n",
       " 'C:\\\\Windows\\\\Fonts\\\\mmrtextb.ttf',\n",
       " 'C:\\\\Windows\\\\Fonts\\\\georgiai.ttf',\n",
       " 'C:\\\\WINDOWS\\\\Fonts\\\\HYTBRB.TTF',\n",
       " 'C:\\\\Windows\\\\Fonts\\\\corbel.ttf',\n",
       " 'C:\\\\WINDOWS\\\\Fonts\\\\HANSolM.ttf',\n",
       " 'C:\\\\Windows\\\\Fonts\\\\segoeui.ttf',\n",
       " 'C:\\\\WINDOWS\\\\Fonts\\\\Nirmala.ttf',\n",
       " 'C:\\\\Windows\\\\Fonts\\\\TAENMR.TTF',\n",
       " 'C:\\\\Windows\\\\Fonts\\\\malgun.ttf',\n",
       " 'C:\\\\Windows\\\\Fonts\\\\HANCooljazzM.ttf',\n",
       " 'C:\\\\Windows\\\\Fonts\\\\ahn_l.ttf',\n",
       " 'C:\\\\Windows\\\\Fonts\\\\HYSNRL.TTF',\n",
       " 'C:\\\\Windows\\\\Fonts\\\\ENBODBKI.TTF',\n",
       " 'C:\\\\WINDOWS\\\\Fonts\\\\courbi.ttf',\n",
       " 'C:\\\\Windows\\\\Fonts\\\\courbi.ttf',\n",
       " 'C:\\\\WINDOWS\\\\Fonts\\\\HMKBP.TTF',\n",
       " 'C:\\\\Windows\\\\Fonts\\\\impact.ttf',\n",
       " 'C:\\\\WINDOWS\\\\Fonts\\\\HANBatang.ttf',\n",
       " 'C:\\\\Windows\\\\Fonts\\\\taile.ttf',\n",
       " 'C:\\\\Windows\\\\Fonts\\\\simsun.ttc',\n",
       " 'C:\\\\WINDOWS\\\\Fonts\\\\TAENMR.TTF',\n",
       " 'C:\\\\WINDOWS\\\\Fonts\\\\HYSNRL.TTF',\n",
       " 'C:\\\\Windows\\\\Fonts\\\\ENMUHB.TTF',\n",
       " 'C:\\\\WINDOWS\\\\Fonts\\\\arialbi.ttf',\n",
       " 'C:\\\\Windows\\\\Fonts\\\\HANDotumExt.ttf',\n",
       " 'C:\\\\Windows\\\\Fonts\\\\HMKBP.TTF',\n",
       " 'C:\\\\WINDOWS\\\\Fonts\\\\corbel.ttf',\n",
       " 'C:\\\\Windows\\\\Fonts\\\\calibri.ttf',\n",
       " 'C:\\\\Windows\\\\Fonts\\\\ENGARMB.TTF',\n",
       " 'C:\\\\WINDOWS\\\\Fonts\\\\comicbd.ttf',\n",
       " 'C:\\\\WINDOWS\\\\Fonts\\\\MH.TTF',\n",
       " 'C:\\\\Windows\\\\Fonts\\\\ENHOBO.TTF',\n",
       " 'C:\\\\WINDOWS\\\\Fonts\\\\segoesc.ttf',\n",
       " 'C:\\\\WINDOWS\\\\Fonts\\\\ENSTEN.TTF',\n",
       " 'C:\\\\WINDOWS\\\\Fonts\\\\trebucbd.ttf',\n",
       " 'C:\\\\Windows\\\\Fonts\\\\cambriai.ttf',\n",
       " 'C:\\\\Windows\\\\Fonts\\\\l_10646.ttf',\n",
       " 'C:\\\\Windows\\\\Fonts\\\\Candarai.ttf',\n",
       " 'C:\\\\Windows\\\\Fonts\\\\Nirmala.ttf',\n",
       " 'C:\\\\WINDOWS\\\\Fonts\\\\cour.ttf',\n",
       " 'C:\\\\Windows\\\\Fonts\\\\gadugi.ttf',\n",
       " 'C:\\\\WINDOWS\\\\Fonts\\\\framdit.ttf',\n",
       " 'C:\\\\WINDOWS\\\\Fonts\\\\Gaesung.ttf',\n",
       " 'C:\\\\WINDOWS\\\\Fonts\\\\tahomabd.ttf',\n",
       " 'C:\\\\Windows\\\\Fonts\\\\tahomabd.ttf',\n",
       " 'C:\\\\Windows\\\\Fonts\\\\HYNAMM.TTF',\n",
       " 'C:\\\\WINDOWS\\\\Fonts\\\\ENBODBK.TTF',\n",
       " 'C:\\\\Windows\\\\Fonts\\\\constani.ttf',\n",
       " 'C:\\\\WINDOWS\\\\Fonts\\\\ENCOSCPT.TTF',\n",
       " 'C:\\\\WINDOWS\\\\Fonts\\\\palabi.ttf',\n",
       " 'C:\\\\Windows\\\\Fonts\\\\seguibli.ttf',\n",
       " 'C:\\\\WINDOWS\\\\Fonts\\\\HANSaleM.ttf',\n",
       " 'C:\\\\WINDOWS\\\\Fonts\\\\verdana.ttf',\n",
       " 'C:\\\\WINDOWS\\\\Fonts\\\\YSHN05.TTF',\n",
       " 'C:\\\\Windows\\\\Fonts\\\\ENDOMCA.TTF',\n",
       " 'C:\\\\Windows\\\\Fonts\\\\HANBatang.ttf',\n",
       " 'C:\\\\WINDOWS\\\\Fonts\\\\calibri.ttf',\n",
       " 'C:\\\\WINDOWS\\\\Fonts\\\\ENBERNF.TTF',\n",
       " 'C:\\\\Windows\\\\Fonts\\\\corbelli.ttf',\n",
       " 'C:\\\\Windows\\\\Fonts\\\\HYKANM.TTF',\n",
       " 'C:\\\\WINDOWS\\\\Fonts\\\\HANSomaB.ttf',\n",
       " 'C:\\\\WINDOWS\\\\Fonts\\\\HMKMP.TTF',\n",
       " 'C:\\\\Windows\\\\Fonts\\\\seguisym.ttf',\n",
       " 'C:\\\\WINDOWS\\\\Fonts\\\\ENSW721L.TTF',\n",
       " 'C:\\\\Windows\\\\Fonts\\\\segoesc.ttf',\n",
       " 'C:\\\\WINDOWS\\\\Fonts\\\\HYWULM.TTF',\n",
       " 'C:\\\\Windows\\\\Fonts\\\\HYMJRE.TTF',\n",
       " 'C:\\\\WINDOWS\\\\Fonts\\\\verdanaz.ttf',\n",
       " 'C:\\\\WINDOWS\\\\Fonts\\\\ENBRUSH.TTF',\n",
       " 'C:\\\\Windows\\\\Fonts\\\\framd.ttf',\n",
       " 'C:\\\\Windows\\\\Fonts\\\\HYCYSM.TTF',\n",
       " 'C:\\\\Windows\\\\Fonts\\\\ENGARMBI.TTF',\n",
       " 'C:\\\\Windows\\\\Fonts\\\\NirmalaS.ttf',\n",
       " 'C:\\\\WINDOWS\\\\Fonts\\\\trebucit.ttf',\n",
       " 'C:\\\\WINDOWS\\\\Fonts\\\\HANYGO230.ttf',\n",
       " 'C:\\\\Windows\\\\Fonts\\\\mmrtext.ttf',\n",
       " 'C:\\\\Windows\\\\Fonts\\\\himalaya.ttf',\n",
       " 'C:\\\\WINDOWS\\\\Fonts\\\\batang.ttc',\n",
       " 'C:\\\\Windows\\\\Fonts\\\\trebucbi.ttf',\n",
       " 'C:\\\\WINDOWS\\\\Fonts\\\\ENPKAV.TTF',\n",
       " 'C:\\\\WINDOWS\\\\Fonts\\\\ENDOMCA.TTF',\n",
       " 'C:\\\\Windows\\\\Fonts\\\\HANSolM.ttf',\n",
       " 'C:\\\\WINDOWS\\\\Fonts\\\\msyhbd.ttc',\n",
       " 'C:\\\\Windows\\\\Fonts\\\\ENCSCHI.TTF',\n",
       " 'C:\\\\Windows\\\\Fonts\\\\georgiab.ttf',\n",
       " 'C:\\\\WINDOWS\\\\Fonts\\\\LeelawUI.ttf',\n",
       " 'C:\\\\WINDOWS\\\\Fonts\\\\ariali.ttf',\n",
       " 'C:\\\\Windows\\\\Fonts\\\\ENCOBKI.TTF',\n",
       " 'C:\\\\WINDOWS\\\\Fonts\\\\consolab.ttf',\n",
       " 'C:\\\\Windows\\\\Fonts\\\\YGGE05.TTF',\n",
       " 'C:\\\\Windows\\\\Fonts\\\\Art.ttf',\n",
       " 'C:\\\\Windows\\\\Fonts\\\\Sol.ttf',\n",
       " 'C:\\\\Windows\\\\Fonts\\\\ENBASKVL.TTF',\n",
       " 'C:\\\\WINDOWS\\\\Fonts\\\\impact.ttf',\n",
       " 'C:\\\\WINDOWS\\\\Fonts\\\\msyh.ttc',\n",
       " 'C:\\\\Windows\\\\Fonts\\\\consolab.ttf',\n",
       " 'C:\\\\WINDOWS\\\\Fonts\\\\HYPORM.TTF',\n",
       " 'C:\\\\WINDOWS\\\\Fonts\\\\ENCSCHBI.TTF',\n",
       " 'C:\\\\WINDOWS\\\\Fonts\\\\times.ttf',\n",
       " 'C:\\\\Windows\\\\Fonts\\\\Inkfree.ttf',\n",
       " 'C:\\\\WINDOWS\\\\Fonts\\\\Candaral.ttf',\n",
       " 'C:\\\\Windows\\\\Fonts\\\\cambriaz.ttf',\n",
       " 'C:\\\\WINDOWS\\\\Fonts\\\\comici.ttf',\n",
       " 'C:\\\\Windows\\\\Fonts\\\\HYGSRB.TTF',\n",
       " 'C:\\\\Windows\\\\Fonts\\\\lucon.ttf',\n",
       " 'C:\\\\WINDOWS\\\\Fonts\\\\ENBODBKI.TTF',\n",
       " 'C:\\\\WINDOWS\\\\Fonts\\\\YMAE07.TTF',\n",
       " 'C:\\\\WINDOWS\\\\Fonts\\\\MJ.TTF',\n",
       " 'C:\\\\Windows\\\\Fonts\\\\segoeuiz.ttf',\n",
       " 'C:\\\\Windows\\\\Fonts\\\\ENOCRB10.TTF',\n",
       " 'C:\\\\Windows\\\\Fonts\\\\timesbi.ttf',\n",
       " 'C:\\\\Windows\\\\Fonts\\\\seguili.ttf',\n",
       " 'C:\\\\Windows\\\\Fonts\\\\Candaraz.ttf',\n",
       " 'C:\\\\Windows\\\\Fonts\\\\ahn_m.ttf']"
      ]
     },
     "execution_count": 12,
     "metadata": {},
     "output_type": "execute_result"
    }
   ],
   "source": [
    "fm.findSystemFonts()"
   ]
  },
  {
   "cell_type": "code",
   "execution_count": 13,
   "id": "500bf228-5a25-4f27-8612-7ffe120efc04",
   "metadata": {},
   "outputs": [],
   "source": [
    "mpl.font_manager._rebuild()"
   ]
  },
  {
   "cell_type": "code",
   "execution_count": 14,
   "id": "ceed9199-2324-4519-8b76-78181d623bd8",
   "metadata": {},
   "outputs": [
    {
     "data": {
      "text/plain": [
       "[('NanumGothic',\n",
       "  'C:\\\\Users\\\\Changwan\\\\AppData\\\\Local\\\\Microsoft\\\\Windows\\\\Fonts\\\\NanumGothic.ttf')]"
      ]
     },
     "execution_count": 14,
     "metadata": {},
     "output_type": "execute_result"
    }
   ],
   "source": [
    "[(f.name,f.fname) for f in fm.fontManager.ttflist if 'Nanum' in f.name][:20]"
   ]
  },
  {
   "cell_type": "code",
   "execution_count": 77,
   "id": "cfc4da54-02f3-4461-acce-dbac862d8a52",
   "metadata": {},
   "outputs": [
    {
     "data": {
      "image/png": "[encoded data removed]",
      "text/plain": [
       "<Figure size 720x360 with 1 Axes>"
      ]
     },
     "metadata": {
      "needs_background": "light"
     },
     "output_type": "display_data"
    }
   ],
   "source": [
    "car_df = cardhangul.groupby('차')['신용등급'].mean()  # 차 유무에 따른 신용등급\n",
    "car_df = car_df.reset_index()\n",
    "car_df\n",
    "plt.figure(figsize=(10,5)) \n",
    "sns.barplot(data=car_df,x='차',y='신용등급') \n",
    "plt.ylim(1.515,1.524)\n",
    "plt.yticks(np.arange(1.505 ,1.530,0.005))\n",
    "plt.show()"
   ]
  },
  {
   "cell_type": "code",
   "execution_count": 79,
   "id": "07dfab20-7498-422d-881d-73cedbfa67ab",
   "metadata": {
    "tags": []
   },
   "outputs": [
    {
     "data": {
      "image/png": "[encoded data removed]",
      "text/plain": [
       "<Figure size 720x360 with 1 Axes>"
      ]
     },
     "metadata": {
      "needs_background": "light"
     },
     "output_type": "display_data"
    }
   ],
   "source": [
    "house_df = cardhangul.groupby('집')['신용등급'].mean() # 집소유에 따른 신용등급\n",
    "house_df = house_df.reset_index()\n",
    "house_df\n",
    "plt.figure(figsize=(10,5)) \n",
    "sns.barplot(data=house_df,x='집',y='신용등급') \n",
    "plt.ylim(1.515,1.524)\n",
    "plt.yticks(np.arange(1.505 ,1.530,0.005))\n",
    "plt.show()"
   ]
  },
  {
   "cell_type": "code",
   "execution_count": 83,
   "id": "d4f12509-8f83-4583-b834-458ea3c41896",
   "metadata": {},
   "outputs": [
    {
     "data": {
      "image/png": "[encoded data removed]",
      "text/plain": [
       "<Figure size 720x360 with 1 Axes>"
      ]
     },
     "metadata": {
      "needs_background": "light"
     },
     "output_type": "display_data"
    }
   ],
   "source": [
    "child_df = cardhangul.groupby('자녀 수')['신용등급'].mean() #자녀수에 따른 신용등급\n",
    "child_df = child_df.reset_index()\n",
    "child_df\n",
    "plt.figure(figsize=(10,5)) \n",
    "sns.barplot(data=child_df,x='자녀 수',y='신용등급') \n",
    "plt.ylim(1.3,2.1)\n",
    "plt.yticks(np.arange(1.3 ,2.1,0.1))\n",
    "plt.show()"
   ]
  },
  {
   "cell_type": "code",
   "execution_count": 18,
   "id": "7d07807f-4cb0-498d-9b8e-bbb8c0c0356b",
   "metadata": {
    "collapsed": true,
    "jupyter": {
     "outputs_hidden": true
    },
    "tags": []
   },
   "outputs": [
    {
     "data": {
      "text/plain": [
       "연간소득\n",
       "27000.0      1.500000\n",
       "29250.0      0.800000\n",
       "30150.0      2.000000\n",
       "31500.0      0.846154\n",
       "31531.5      2.000000\n",
       "               ...   \n",
       "945000.0     1.500000\n",
       "990000.0     1.666667\n",
       "1125000.0    1.500000\n",
       "1350000.0    2.000000\n",
       "1575000.0    2.000000\n",
       "Name: 신용등급, Length: 249, dtype: float64"
      ]
     },
     "execution_count": 18,
     "metadata": {},
     "output_type": "execute_result"
    }
   ],
   "source": [
    "cardhangul.groupby('연간소득')['신용등급'].mean() #연소득은 \n",
    "# if함수 써야될듯"
   ]
  },
  {
   "cell_type": "code",
   "execution_count": 85,
   "id": "364ce290-cacf-4cbe-ad86-bbee44e01b19",
   "metadata": {},
   "outputs": [
    {
     "data": {
      "image/png": "[encoded data removed]",
      "text/plain": [
       "<Figure size 720x360 with 1 Axes>"
      ]
     },
     "metadata": {
      "needs_background": "light"
     },
     "output_type": "display_data"
    }
   ],
   "source": [
    "sodic_df =cardhangul.groupby('소득분류')['신용등급'].mean() #소득 분류\n",
    "sodic_df = sodic_df.reset_index()\n",
    "sodic_df\n",
    "plt.figure(figsize=(10,5)) \n",
    "sns.barplot(data=sodic_df,x='소득분류',y='신용등급') \n",
    "plt.ylim(1.5,1.6)\n",
    "plt.yticks(np.arange(1.5,1.6,0.1))\n",
    "plt.show()\n",
    "# Commercial associate : 회사원\n",
    "# Pensioner : 퇴직후 연금수령자\n",
    "# State servant : 공무원\n",
    "# Student : 학생\n",
    "# Working : 그외 직업\n"
   ]
  },
  {
   "cell_type": "code",
   "execution_count": 86,
   "id": "036c3a42-639a-4480-b117-618c54e1d029",
   "metadata": {},
   "outputs": [
    {
     "data": {
      "image/png": "[encoded data removed]",
      "text/plain": [
       "<Figure size 720x360 with 1 Axes>"
      ]
     },
     "metadata": {
      "needs_background": "light"
     },
     "output_type": "display_data"
    }
   ],
   "source": [
    "edu_df =cardhangul.groupby('교육수준')['신용등급'].mean() # 교육수준에 따른 신용등급\n",
    "edu_df = edu_df.reset_index()\n",
    "edu_df\n",
    "plt.figure(figsize=(10,5)) \n",
    "sns.barplot(data=edu_df,x='교육수준',y='신용등급') \n",
    "plt.ylim(1.5,1.57)\n",
    "plt.yticks(np.arange(1.5,1.57,0.1))\n",
    "plt.show()"
   ]
  },
  {
   "cell_type": "code",
   "execution_count": 87,
   "id": "71429452-9711-4372-b2d5-faa6a967d711",
   "metadata": {},
   "outputs": [
    {
     "data": {
      "image/png": "[encoded data removed]",
      "text/plain": [
       "<Figure size 720x360 with 1 Axes>"
      ]
     },
     "metadata": {
      "needs_background": "light"
     },
     "output_type": "display_data"
    }
   ],
   "source": [
    "marry_df = cardhangul.groupby('결혼여부')['신용등급'].mean() # 결혼여부에 따른 신용등급\n",
    "marry_df = marry_df.reset_index()\n",
    "marry_df\n",
    "plt.figure(figsize=(10,5)) \n",
    "sns.barplot(data=marry_df,x='결혼여부',y='신용등급') \n",
    "plt.ylim(1.45,1.55)\n",
    "plt.yticks(np.arange(1.45,1.55,0.1))\n",
    "plt.show()"
   ]
  },
  {
   "cell_type": "code",
   "execution_count": 90,
   "id": "afce6fef-9a32-4570-8719-722f82b135d0",
   "metadata": {},
   "outputs": [
    {
     "data": {
      "image/png": "[encoded data removed]",
      "text/plain": [
       "<Figure size 1080x360 with 1 Axes>"
      ]
     },
     "metadata": {
      "needs_background": "light"
     },
     "output_type": "display_data"
    }
   ],
   "source": [
    "type_df = cardhangul.groupby('생활방식')['신용등급'].mean() # 생활방식에 따른 신용등급\n",
    "type_df = type_df.reset_index()\n",
    "type_df\n",
    "plt.figure(figsize=(15,5)) \n",
    "sns.barplot(data=type_df,x='생활방식',y='신용등급') \n",
    "plt.ylim(1.40,1.55)\n",
    "plt.yticks(np.arange(1.45,1.55,0.1))\n",
    "plt.show()"
   ]
  },
  {
   "cell_type": "code",
   "execution_count": 23,
   "id": "94c52fa9-edaf-4b2f-a864-9cdb7ca75da1",
   "metadata": {
    "collapsed": true,
    "jupyter": {
     "outputs_hidden": true
    },
    "tags": []
   },
   "outputs": [
    {
     "data": {
      "text/plain": [
       "출생일\n",
       "-25152    2.000000\n",
       "-25140    0.000000\n",
       "-25099    2.000000\n",
       "-25088    0.000000\n",
       "-24970    1.000000\n",
       "            ...   \n",
       "-8041     2.000000\n",
       "-7959     2.000000\n",
       "-7757     0.666667\n",
       "-7723     1.000000\n",
       "-7705     2.000000\n",
       "Name: 신용등급, Length: 6621, dtype: float64"
      ]
     },
     "execution_count": 23,
     "metadata": {},
     "output_type": "execute_result"
    }
   ],
   "source": [
    "cardhangul.groupby('출생일')['신용등급'].mean() #출생일 \n",
    "# 이것도 if 함수 써야함"
   ]
  },
  {
   "cell_type": "code",
   "execution_count": 24,
   "id": "ba41fa79-5dc0-44c4-b699-51f51eb01469",
   "metadata": {
    "collapsed": true,
    "jupyter": {
     "outputs_hidden": true
    },
    "tags": []
   },
   "outputs": [
    {
     "data": {
      "text/plain": [
       "취직일\n",
       "-15713     2.000000\n",
       "-15661     2.000000\n",
       "-15072     1.333333\n",
       "-15038     1.071429\n",
       "-14887     0.600000\n",
       "             ...   \n",
       "-70        2.000000\n",
       "-65        2.000000\n",
       "-43        1.000000\n",
       "-17        2.000000\n",
       " 365243    1.514196\n",
       "Name: 신용등급, Length: 3470, dtype: float64"
      ]
     },
     "execution_count": 24,
     "metadata": {},
     "output_type": "execute_result"
    }
   ],
   "source": [
    "cardhangul.groupby('취직일')['신용등급'].mean() # 취직연차?\n",
    "#if 함수사용"
   ]
  },
  {
   "cell_type": "code",
   "execution_count": 25,
   "id": "c640236a-c052-46b9-b0b9-5ac28f7c52c1",
   "metadata": {},
   "outputs": [
    {
     "data": {
      "text/plain": [
       "폰\n",
       "1    1.51956\n",
       "Name: 신용등급, dtype: float64"
      ]
     },
     "execution_count": 25,
     "metadata": {},
     "output_type": "execute_result"
    }
   ],
   "source": [
    "cardhangul.groupby('폰')['신용등급'].mean() # 폰여부\n",
    "# 핸드폰없는사람이 없음"
   ]
  },
  {
   "cell_type": "code",
   "execution_count": 93,
   "id": "8c52dbdc-c4df-4dfc-9290-32c3b452c3bd",
   "metadata": {
    "tags": []
   },
   "outputs": [
    {
     "data": {
      "image/png": "[encoded data removed]",
      "text/plain": [
       "<Figure size 720x360 with 1 Axes>"
      ]
     },
     "metadata": {
      "needs_background": "light"
     },
     "output_type": "display_data"
    }
   ],
   "source": [
    "workphone_df=cardhangul.groupby('업무용 폰')['신용등급'].mean() # 업무용 폰 여부\n",
    "workphone_df = workphone_df.reset_index()\n",
    "workphone_df\n",
    "plt.figure(figsize=(10,5)) \n",
    "sns.barplot(data=workphone_df,x='업무용 폰',y='신용등급') \n",
    "plt.ylim(1.51,1.525)\n",
    "plt.yticks(np.arange(1.51,1.525,0.01))\n",
    "plt.show()"
   ]
  },
  {
   "cell_type": "code",
   "execution_count": 95,
   "id": "3de9fd40-8b57-423d-ba20-bd33f2027e44",
   "metadata": {},
   "outputs": [
    {
     "data": {
      "image/png": "[encoded data removed]",
      "text/plain": [
       "<Figure size 720x360 with 1 Axes>"
      ]
     },
     "metadata": {
      "needs_background": "light"
     },
     "output_type": "display_data"
    }
   ],
   "source": [
    "tel_df=cardhangul.groupby('전화')['신용등급'].mean() # 전화 여부\n",
    "tel_df = tel_df.reset_index()\n",
    "tel_df\n",
    "plt.figure(figsize=(10,5)) \n",
    "sns.barplot(data=tel_df,x='전화',y='신용등급') \n",
    "plt.ylim(1.51,1.525)\n",
    "plt.yticks(np.arange(1.51,1.525,0.01))\n",
    "plt.show()"
   ]
  },
  {
   "cell_type": "code",
   "execution_count": 97,
   "id": "65582047-aee4-408e-8b21-ad6a485210a9",
   "metadata": {},
   "outputs": [
    {
     "data": {
      "image/png": "[encoded data removed]",
      "text/plain": [
       "<Figure size 720x360 with 1 Axes>"
      ]
     },
     "metadata": {
      "needs_background": "light"
     },
     "output_type": "display_data"
    }
   ],
   "source": [
    "email_df=cardhangul.groupby('이메일')['신용등급'].mean() #이메일 보유 유무\n",
    "email_df = email_df.reset_index()\n",
    "email_df\n",
    "plt.figure(figsize=(10,5)) \n",
    "sns.barplot(data=email_df,x='이메일',y='신용등급') \n",
    "plt.ylim(1.5,1.57)\n",
    "plt.yticks(np.arange(1.5,1.57,0.1))\n",
    "plt.show()"
   ]
  },
  {
   "cell_type": "code",
   "execution_count": 99,
   "id": "7ef84e86-dbbb-46a9-8749-8d4578ae58bd",
   "metadata": {},
   "outputs": [
    {
     "data": {
      "image/png": "[encoded data removed]",
      "text/plain": [
       "<Figure size 1440x360 with 1 Axes>"
      ]
     },
     "metadata": {
      "needs_background": "light"
     },
     "output_type": "display_data"
    }
   ],
   "source": [
    "job_df=cardhangul.groupby('직업')['신용등급'].mean() #직업에 따른     <<-- 직업을 보는게 가장좋을듯하다  변동값이 가장큼   \n",
    "job_df = job_df.reset_index()\n",
    "job_df\n",
    "plt.figure(figsize=(20,5)) \n",
    "sns.barplot(data=job_df,x='직업',y='신용등급') \n",
    "plt.ylim(1.4,1.8)\n",
    "plt.yticks(np.arange(1.4,1.8,0.1))\n",
    "plt.show()"
   ]
  },
  {
   "cell_type": "code",
   "execution_count": 100,
   "id": "25a4340f-3471-4fea-b2de-038e34c2565a",
   "metadata": {},
   "outputs": [
    {
     "data": {
      "image/png": "[encoded data removed]",
      "text/plain": [
       "<Figure size 1440x360 with 1 Axes>"
      ]
     },
     "metadata": {
      "needs_background": "light"
     },
     "output_type": "display_data"
    }
   ],
   "source": [
    "family_df=cardhangul.groupby('가족규모')['신용등급'].mean() #가족규모에 따른 신용등급 \n",
    "family_df = family_df.reset_index()\n",
    "family_df\n",
    "plt.figure(figsize=(20,5)) \n",
    "sns.barplot(data=family_df,x='가족규모',y='신용등급') \n",
    "plt.ylim(0.8,2.1)\n",
    "plt.yticks(np.arange(0.8,2.1,0.1))\n",
    "plt.show()"
   ]
  },
  {
   "cell_type": "code",
   "execution_count": 31,
   "id": "702a7bda-dad3-4aba-a6a8-8a5da7551a5a",
   "metadata": {
    "collapsed": true,
    "jupyter": {
     "outputs_hidden": true
    },
    "tags": []
   },
   "outputs": [
    {
     "data": {
      "text/plain": [
       "카드발급일\n",
       "-60.0    1.638298\n",
       "-59.0    1.623967\n",
       "-58.0    1.602459\n",
       "-57.0    1.644737\n",
       "-56.0    1.590551\n",
       "           ...   \n",
       "-4.0     1.307002\n",
       "-3.0     0.839798\n",
       "-2.0     0.820084\n",
       "-1.0     0.768675\n",
       " 0.0     0.640693\n",
       "Name: 신용등급, Length: 61, dtype: float64"
      ]
     },
     "execution_count": 31,
     "metadata": {},
     "output_type": "execute_result"
    }
   ],
   "source": [
    "cardhangul.groupby('카드발급일')['신용등급'].mean() #발급일에 따른 신용등급"
   ]
  },
  {
   "cell_type": "code",
   "execution_count": null,
   "id": "8d5eae31-256c-49b2-89c4-b4a668d6f722",
   "metadata": {},
   "outputs": [],
   "source": []
  }
 ],
 "metadata": {
  "kernelspec": {
   "display_name": "Python 3",
   "language": "python",
   "name": "python3"
  },
  "language_info": {
   "codemirror_mode": {
    "name": "ipython",
    "version": 3
   },
   "file_extension": ".py",
   "mimetype": "text/x-python",
   "name": "python",
   "nbconvert_exporter": "python",
   "pygments_lexer": "ipython3",
   "version": "3.8.8"
  }
 },
 "nbformat": 4,
 "nbformat_minor": 5
}
