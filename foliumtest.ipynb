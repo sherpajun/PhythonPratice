{
 "cells": [
  {
   "cell_type": "code",
   "execution_count": null,
   "id": "93122219-da79-468b-b5c6-57e8f108f5cf",
   "metadata": {},
   "outputs": [],
   "source": [
    "import folium"
   ]
  },
  {
   "cell_type": "code",
   "execution_count": null,
   "id": "74554433-3415-4265-8f17-f3ad1b75f285",
   "metadata": {},
   "outputs": [],
   "source": [
    "map = folium.Map(location=[35.1179352,129.0397286])\n",
    "map.save('map1.html')"
   ]
  },
  {
   "cell_type": "code",
   "execution_count": null,
   "id": "a89dff1f-628a-41ca-bd9f-faabd0b9ca0d",
   "metadata": {},
   "outputs": [],
   "source": [
    "map = folium.Map(location=[35.1179352,129.0397286],zoom_start=14)"
   ]
  },
  {
   "cell_type": "code",
   "execution_count": null,
   "id": "8241c2b6-2212-4cc4-8832-ddc0252ea32d",
   "metadata": {},
   "outputs": [],
   "source": [
    "folium.Marker([35.116323, 129.040787],popup='스타벅스').add_to(map)\n",
    "icon = folium.Icon(color='red',icon='bookmark')\n",
    "folium.Marker([35.115709, 129.042820],tooltip='롯데리아',icon=icon).add_to(map)\n",
    "map"
   ]
  },
  {
   "cell_type": "code",
   "execution_count": null,
   "id": "470515af-db6f-425e-a85d-dd7655b491da",
   "metadata": {
    "tags": []
   },
   "outputs": [],
   "source": [
    "lotto = [\n",
    "    {\"store\":\"담배\",\"loc\":[37.62585944357624,127.01847823823798]},   \n",
    "    {\"store\":\"화곡본마트\",\"loc\":[37.54248103738589,126.84414659211494]},   \n",
    "    {\"store\":\"용꿈돼지꿈\",\"loc\":[37.5447438346992,126.95223862043447]},   \n",
    "    {\"store\":\"일이오마켓\",\"loc\":[37.47943673430032,126.98346178441342]},   \n",
    "    {\"store\":\"여명슈퍼마켓\",\"loc\":[37.61432815661055,127.0415039221072]},   \n",
    "    {\"store\":\"5가로또레드탑\",\"loc\":[37.570756251987575,127.00235901546226]},   \n",
    "    {\"store\":\"복권세상\",\"loc\":[35.91885025656432,128.55034430109828]},   \n",
    "    {\"store\":\"복권전문점\",\"loc\":[37.50384327747725,126.71513104367074]},   \n",
    "    {\"store\":\"인현동지하가판\",\"loc\":[37.47627910055104,126.63147671205866]},   \n",
    "    {\"store\":\"CU(광주서동점)\",\"loc\":[35.14814807640179,126.90555219336346]},   \n",
    "    {\"store\":\"지산로또방\",\"loc\":[35.148338888178,126.93203920504686]},   \n",
    "    {\"store\":\"천사로또방\",\"loc\":[37.63618838692431,127.21107884503209]},   \n",
    "    {\"store\":\"오렌지통신\",\"loc\":[37.42889361993242,127.10232604117991]},   \n",
    "    {\"store\":\"여수복권방\",\"loc\":[37.418353650942116,127.12640523182601]},   \n",
    "    {\"store\":\"둘리복권방\",\"loc\":[37.34532813934063,126.73627994929885]},   \n",
    "    {\"store\":\"금성24시편의점\",\"loc\":[37.84401249737699,127.06236893072152]},   \n",
    "    {\"store\":\"GS25(청주주은점)\",\"loc\":[36.60987111587086,127.49134026856717]},   \n",
    "    {\"store\":\"장미슈퍼\",\"loc\":[36.276304155315685,126.90940713047799]},   \n",
    "    {\"store\":\"장미슈퍼\",\"loc\":[36.276304155315685,126.90940713047799]},   \n",
    "    {\"store\":\"아이24(수송점)\",\"loc\":[35.970108052787594,126.7189421934312]},   \n",
    "    {\"store\":\"탑로또\",\"loc\":[34.87844231008963,128.62803523643754]} \n",
    "]"
   ]
  },
  {
   "cell_type": "code",
   "execution_count": null,
   "id": "ccea4cc6-d848-4e10-8e82-2ff797ca9c22",
   "metadata": {
    "tags": []
   },
   "outputs": [],
   "source": [
    "x=0\n",
    "y=0\n",
    "for i in lotto:\n",
    "    x+=i['loc'][0]\n",
    "    y+=i['loc'][1]\n",
    "x = x/len(lotto)\n",
    "y = y/len(lotto)\n",
    "\n",
    "map = folium.Map(location=[x,y],zoom_start=8)\n",
    "\n",
    "for i in lotto:\n",
    "    folium.Marker([i['loc'][0],i['loc'][1]],tooltip=i['store']).add_to(map)\n",
    "\n",
    "map"
   ]
  },
  {
   "cell_type": "code",
   "execution_count": null,
   "id": "d7bb3ed4-0298-45b2-b62c-d485410ea26c",
   "metadata": {},
   "outputs": [],
   "source": [
    "from folium.plugins import MarkerCluster\n",
    "x=0\n",
    "y=0\n",
    "for i in lotto:\n",
    "    x+=i['loc'][0]\n",
    "    y+=i['loc'][1]\n",
    "x = x/len(lotto)\n",
    "y = y/len(lotto)\n",
    "\n",
    "map = folium.Map(location=[x,y],zoom_start=8)\n",
    "clu = MarkerCluster().add_to(map)\n",
    "for i in lotto:\n",
    "    folium.Marker([i['loc'][0],i['loc'][1]],tooltip=i['store']).add_to(clu)\n",
    "\n",
    "map"
   ]
  },
  {
   "cell_type": "raw",
   "id": "aa3f31d3-de3a-4036-a4de-cd3d0e7d6cb2",
   "metadata": {},
   "source": [
    "json"
   ]
  },
  {
   "cell_type": "code",
   "execution_count": null,
   "id": "13c28202-c22d-4eb7-adf0-2bd907b0e502",
   "metadata": {},
   "outputs": [],
   "source": [
    "import json\n",
    "\n",
    "map = folium.Map([36.325161, 128.011698],zoom_start=6)\n",
    "jsonData = open('HangJeongDong_ver20210701.geojson','r',encoding='utf8').read()"
   ]
  },
  {
   "cell_type": "code",
   "execution_count": null,
   "id": "82ceb293-0fc6-42f3-abf1-c32c20b490e5",
   "metadata": {},
   "outputs": [],
   "source": [
    "jsonData = json.loads(jsonData)"
   ]
  },
  {
   "cell_type": "code",
   "execution_count": null,
   "id": "8fa6e081-adc2-46e7-8f51-76951094b69e",
   "metadata": {
    "tags": []
   },
   "outputs": [],
   "source": [
    "jsonData"
   ]
  },
  {
   "cell_type": "code",
   "execution_count": null,
   "id": "1a907def-0ca1-45f9-be84-ce192568f315",
   "metadata": {},
   "outputs": [],
   "source": [
    "folium.GeoJson(jsonData).add_to(map)\n",
    "map"
   ]
  },
  {
   "cell_type": "raw",
   "id": "6fb07bb4-7942-4df4-af97-71f0e9a8c1fe",
   "metadata": {},
   "source": [
    "제주"
   ]
  },
  {
   "cell_type": "code",
   "execution_count": null,
   "id": "d59f894f-bb36-44a1-8a2f-485522259bf3",
   "metadata": {},
   "outputs": [],
   "source": [
    "import pandas as pd"
   ]
  },
  {
   "cell_type": "code",
   "execution_count": null,
   "id": "edd254f6-067f-4fc6-8049-42fc4ab041e6",
   "metadata": {},
   "outputs": [],
   "source": [
    "df = pd.read_csv('jeju.csv',encoding='cp949')"
   ]
  },
  {
   "cell_type": "code",
   "execution_count": null,
   "id": "75274185-406a-4fb8-8562-0d21a04830e8",
   "metadata": {
    "tags": []
   },
   "outputs": [],
   "source": [
    "df.info()"
   ]
  },
  {
   "cell_type": "code",
   "execution_count": null,
   "id": "bc2801e4-aba3-4838-8ef8-584497b83bec",
   "metadata": {},
   "outputs": [],
   "source": [
    "df.shape"
   ]
  },
  {
   "cell_type": "code",
   "execution_count": null,
   "id": "44915562-dec8-4c06-b197-25febf94f56c",
   "metadata": {},
   "outputs": [],
   "source": [
    "df.head(1)"
   ]
  },
  {
   "cell_type": "code",
   "execution_count": null,
   "id": "e7201997-6916-4d52-8573-3bceae8a9d84",
   "metadata": {},
   "outputs": [],
   "source": [
    "df.drop(columns='Unnamed: 8',inplace=True,axis=1)"
   ]
  },
  {
   "cell_type": "code",
   "execution_count": null,
   "id": "ac7407bb-f9da-43f4-8f3c-0f6401527429",
   "metadata": {},
   "outputs": [],
   "source": [
    "df.sample(1)"
   ]
  },
  {
   "cell_type": "code",
   "execution_count": null,
   "id": "5d08cb6b-60ea-492c-8c7f-1efcf4b9b604",
   "metadata": {},
   "outputs": [],
   "source": [
    "def get_geo(query):\n",
    "    import requests\n",
    "    REST_API_KEY= 'a4b886510e1fabe1a93cb3fa90bac644'\n",
    "    url = \"https://dapi.kakao.com/v2/local/search/keyword.json\"\n",
    "    qs ={\n",
    "        'query':query,\n",
    "        'category_group_code':'PO3'\n",
    "    }\n",
    "    headers = {\n",
    "        \"Authorization\": f'KakaoAK {REST_API_KEY}'\n",
    "        }\n",
    "\n",
    "    res = requests.get(url,params=qs, headers=headers)\n",
    "    res = res.json()\n",
    "    try:\n",
    "        x = res['documents'][0]['x']\n",
    "        y = res['documents'][0]['y']\n",
    "        return y,x\n",
    "    except:\n",
    "        return '결과없음'"
   ]
  },
  {
   "cell_type": "code",
   "execution_count": null,
   "id": "1c08aed2-47b3-4b1d-9af6-950c3cd89fc7",
   "metadata": {},
   "outputs": [],
   "source": [
    "query = '제주특별자치도 제주시 도두1길 9-1'\n",
    "get_geo(query)"
   ]
  },
  {
   "cell_type": "code",
   "execution_count": null,
   "id": "019647c5-42c4-43af-a221-4e847b318d2e",
   "metadata": {},
   "outputs": [],
   "source": [
    "df['주소'].sample()"
   ]
  },
  {
   "cell_type": "code",
   "execution_count": null,
   "id": "6a51d3dc-54ae-41d7-a0d6-0fc46c14c884",
   "metadata": {},
   "outputs": [],
   "source": [
    "df['주소'] = df['주소'].str.split('(').str.get(0).str.strip()"
   ]
  },
  {
   "cell_type": "code",
   "execution_count": null,
   "id": "0b65b4d9-b704-40b7-8047-943ea60cd8b3",
   "metadata": {
    "tags": []
   },
   "outputs": [],
   "source": [
    "df['loc'] = df['주소'].apply(get_geo)"
   ]
  },
  {
   "cell_type": "code",
   "execution_count": null,
   "id": "8d3ae68c-4b99-4f09-a6fe-dd927e001a73",
   "metadata": {
    "tags": []
   },
   "outputs": [],
   "source": [
    "map = folium.Map([33.385460, 126.568527],zoom_start=9)\n",
    "clu = MarkerCluster().add_to(map)\n",
    "for index, row in df.iterrows():\n",
    "    if row['loc'] != '결과없음':\n",
    "        folium.Marker(row['loc'],tooltip=row['읍면동']).add_to(clu)\n",
    "map"
   ]
  },
  {
   "cell_type": "code",
   "execution_count": null,
   "id": "d3a56481-f22c-4a54-b1e2-697660612e69",
   "metadata": {
    "tags": []
   },
   "outputs": [],
   "source": [
    "map = folium.Map([33.385460, 126.568527],zoom_start=9)\n",
    "jsondata = open('jeju-m.json','r').read()\n",
    "#print(jsondata)\n",
    "jsondata = json.loads(jsondata)\n",
    "folium.GeoJson(jsondata).add_to(map)\n",
    "map"
   ]
  },
  {
   "cell_type": "code",
   "execution_count": null,
   "id": "69c75276-3e77-4f97-a8d6-c0f1cc57c210",
   "metadata": {
    "tags": []
   },
   "outputs": [],
   "source": [
    "df['인구']=df['일반현황'].str.split('명').str.get(0).str.split('(').str.get(0).str.split('/').str.get(0).str.split('구').str.get(-1).str.strip().astype('int')\n",
    "df['인구'].dtype"
   ]
  },
  {
   "cell_type": "code",
   "execution_count": null,
   "id": "61754a8a-824c-42fa-8901-0805126e0622",
   "metadata": {},
   "outputs": [],
   "source": [
    "df.sample()"
   ]
  },
  {
   "cell_type": "raw",
   "id": "1a4aa926-319a-43bf-92b9-e14fe2c0f6fd",
   "metadata": {},
   "source": [
    "Jeju , Seogwipo"
   ]
  },
  {
   "cell_type": "code",
   "execution_count": null,
   "id": "bbe5203f-b3ca-4116-9cf2-37ed3aa6bf1d",
   "metadata": {},
   "outputs": [],
   "source": [
    "df['지역'] = df['지역'].replace(['제주시','서귀포시'],['Jeju','Seogwipo'])"
   ]
  },
  {
   "cell_type": "code",
   "execution_count": null,
   "id": "6321d0ab-338a-4a5f-9ccb-349fcc801d80",
   "metadata": {
    "tags": []
   },
   "outputs": [],
   "source": [
    "df.sample(3)"
   ]
  },
  {
   "cell_type": "code",
   "execution_count": null,
   "id": "fab864ab-b826-4db9-b63e-61aa4f3da7be",
   "metadata": {},
   "outputs": [],
   "source": [
    "df1 = df.groupby(['지역']).sum()"
   ]
  },
  {
   "cell_type": "code",
   "execution_count": null,
   "id": "03343b04-0bb6-46ba-877e-2fa47b5d1478",
   "metadata": {
    "tags": []
   },
   "outputs": [],
   "source": [
    "map = folium.Map([33.385460, 126.568527],zoom_start=9)\n",
    "jsondata = open('jeju-m.json','r').read()\n",
    "jsondata = json.loads(jsondata)\n",
    "folium.Choropleth(geo_data=jsondata,data=df1['인구'],columns=[df1.index,df1.인구],key_on='feature.id').add_to(map)\n",
    "map"
   ]
  },
  {
   "cell_type": "code",
   "execution_count": null,
   "id": "de79edb7-a5dc-440e-846a-4bf67ed15ca3",
   "metadata": {
    "tags": []
   },
   "outputs": [],
   "source": [
    "df.sample(2)"
   ]
  },
  {
   "cell_type": "code",
   "execution_count": null,
   "id": "3331df7f-1fc9-4791-a193-6f6ac3fc257b",
   "metadata": {
    "tags": []
   },
   "outputs": [],
   "source": [
    "df2=df.groupby(['읍면동']).sum()\n",
    "map = folium.Map([33.385460, 126.568527],zoom_start=9)\n",
    "jsondata = open('new_jeju.json','r').read()\n",
    "jsondata = json.loads(jsondata)\n",
    "bins=list(df2['인구'].quantile([0,0.1,0.2,0.3,0.4,0.5,0.7,0.8,0.9,1]))\n",
    "folium.Choropleth(geo_data=jsondata,data=df2['인구'],columns=[df2.index,df2['인구']],key_on='feature.id',\n",
    "                  bins=bins,fill_color='YlGnBu',fill_opacity=0.8, legend_name='제주 인구 현황').add_to(map)\n",
    "map"
   ]
  },
  {
   "cell_type": "code",
   "execution_count": null,
   "id": "b4fca8da-c3cd-4a43-ad0f-4e85a9d7c1cf",
   "metadata": {},
   "outputs": [],
   "source": []
  },
  {
   "cell_type": "code",
   "execution_count": null,
   "id": "93b46513-fb13-4777-92ff-0b458e0a2136",
   "metadata": {},
   "outputs": [],
   "source": []
  }
 ],
 "metadata": {
  "kernelspec": {
   "display_name": "Python 3",
   "language": "python",
   "name": "python3"
  },
  "language_info": {
   "codemirror_mode": {
    "name": "ipython",
    "version": 3
   },
   "file_extension": ".py",
   "mimetype": "text/x-python",
   "name": "python",
   "nbconvert_exporter": "python",
   "pygments_lexer": "ipython3",
   "version": "3.8.8"
  }
 },
 "nbformat": 4,
 "nbformat_minor": 5
}
