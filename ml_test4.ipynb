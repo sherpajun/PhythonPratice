{
 "cells": [
  {
   "cell_type": "code",
   "execution_count": 1,
   "id": "263a1d8a-a3e2-43a5-a100-c5ac56b06329",
   "metadata": {},
   "outputs": [],
   "source": [
    "from sklearn.base import BaseEstimator"
   ]
  },
  {
   "cell_type": "code",
   "execution_count": 9,
   "id": "bd98569f-65a4-4520-b9ee-02ec295e02e5",
   "metadata": {},
   "outputs": [],
   "source": [
    "class MyDummyClassifier(BaseEstimator):\n",
    "    def fit(self,X,y=None):\n",
    "        pass\n",
    "    def predict(self,X):\n",
    "        pred = np.zeros((X.shape[0],1))\n",
    "        for i in range(X.shape[0]):\n",
    "            if X['Sex'].iloc[i]==1: #남자\n",
    "                pred[i] = 0 #사망\n",
    "            else:\n",
    "                pred[i] = 1 #생존\n",
    "        return pred"
   ]
  },
  {
   "cell_type": "code",
   "execution_count": 10,
   "id": "2303e7be-1d70-4b5c-929c-a4c91d2f81a0",
   "metadata": {},
   "outputs": [],
   "source": [
    "import pandas as pd\n",
    "from sklearn.model_selection import train_test_split\n",
    "from sklearn.metrics import accuracy_score\n",
    "from sklearn.preprocessing import LabelEncoder\n",
    "import numpy as np"
   ]
  },
  {
   "cell_type": "code",
   "execution_count": 11,
   "id": "88b459b2-956b-4bf7-bf3e-67a191b1bd75",
   "metadata": {},
   "outputs": [
    {
     "data": {
      "text/plain": [
       "0.7877094972067039"
      ]
     },
     "execution_count": 11,
     "metadata": {},
     "output_type": "execute_result"
    }
   ],
   "source": [
    "def fillna(df):\n",
    "    df['Age'].fillna(df['Age'].mean(),inplace=True)\n",
    "    df['Cabin'].fillna('N',inplace=True)\n",
    "    df['Embarked'].fillna('N',inplace=True)\n",
    "    df['Fare'].fillna(0,inplace=True)\n",
    "    return df\n",
    "\n",
    "def drop_features(df):\n",
    "    df.drop(['PassengerId','Name','Ticket'],axis=1,inplace=True)\n",
    "    return df\n",
    "\n",
    "def format_features(df):\n",
    "    df['Cabin'] = df['Cabin'].str[:1]\n",
    "    features=['Sex','Cabin','Embarked']\n",
    "    for feature in features:\n",
    "        le=LabelEncoder()\n",
    "        le=le.fit(df[feature])\n",
    "        df[feature]=le.transform(df[feature])\n",
    "    return df\n",
    "\n",
    "def tranform_features(df):\n",
    "    df = fillna(df)\n",
    "    df = drop_features(df)\n",
    "    df = format_features(df)\n",
    "    return df\n",
    "\n",
    "titanic_df = pd.read_csv('titanic_train.csv')\n",
    "\n",
    "y_titanic_df = titanic_df['Survived']\n",
    "X_titanic_df = titanic_df.drop('Survived',axis=1)\n",
    "X_titanic_df = tranform_features(X_titanic_df)\n",
    "X_train,X_test,y_train,y_test = train_test_split(X_titanic_df,y_titanic_df,test_size=0.2,random_state=0)\n",
    "\n",
    "myclf = MyDummyClassifier()\n",
    "myclf.fit(X_train,y_train)\n",
    "pred = myclf.predict(X_test)\n",
    "accuracy_score(y_test,pred)"
   ]
  },
  {
   "cell_type": "code",
   "execution_count": 12,
   "id": "3b5d7b14-7ec6-4a62-bf18-8eba4f8bede5",
   "metadata": {},
   "outputs": [],
   "source": [
    "from sklearn.datasets import load_digits"
   ]
  },
  {
   "cell_type": "code",
   "execution_count": 13,
   "id": "70aebb4c-a18d-4364-b2f5-5fc47efe7f1f",
   "metadata": {},
   "outputs": [],
   "source": [
    "class MyFakeClassifier(BaseEstimator):\n",
    "    def fit(self,X,y):\n",
    "        pass\n",
    "    def predict(self,X):\n",
    "        return np.zeros((len(X),1),dtype=bool)"
   ]
  },
  {
   "cell_type": "code",
   "execution_count": 14,
   "id": "015f2ed5-316b-45a2-9045-e9dde26832c3",
   "metadata": {},
   "outputs": [],
   "source": [
    "digits = load_digits()"
   ]
  },
  {
   "cell_type": "code",
   "execution_count": 15,
   "id": "6f0d3dbf-5177-49c7-bf3b-e989a66e0571",
   "metadata": {
    "collapsed": true,
    "jupyter": {
     "outputs_hidden": true
    },
    "tags": []
   },
   "outputs": [
    {
     "data": {
      "text/plain": [
       "{'data': array([[ 0.,  0.,  5., ...,  0.,  0.,  0.],\n",
       "        [ 0.,  0.,  0., ..., 10.,  0.,  0.],\n",
       "        [ 0.,  0.,  0., ..., 16.,  9.,  0.],\n",
       "        ...,\n",
       "        [ 0.,  0.,  1., ...,  6.,  0.,  0.],\n",
       "        [ 0.,  0.,  2., ..., 12.,  0.,  0.],\n",
       "        [ 0.,  0., 10., ..., 12.,  1.,  0.]]),\n",
       " 'target': array([0, 1, 2, ..., 8, 9, 8]),\n",
       " 'frame': None,\n",
       " 'feature_names': ['pixel_0_0',\n",
       "  'pixel_0_1',\n",
       "  'pixel_0_2',\n",
       "  'pixel_0_3',\n",
       "  'pixel_0_4',\n",
       "  'pixel_0_5',\n",
       "  'pixel_0_6',\n",
       "  'pixel_0_7',\n",
       "  'pixel_1_0',\n",
       "  'pixel_1_1',\n",
       "  'pixel_1_2',\n",
       "  'pixel_1_3',\n",
       "  'pixel_1_4',\n",
       "  'pixel_1_5',\n",
       "  'pixel_1_6',\n",
       "  'pixel_1_7',\n",
       "  'pixel_2_0',\n",
       "  'pixel_2_1',\n",
       "  'pixel_2_2',\n",
       "  'pixel_2_3',\n",
       "  'pixel_2_4',\n",
       "  'pixel_2_5',\n",
       "  'pixel_2_6',\n",
       "  'pixel_2_7',\n",
       "  'pixel_3_0',\n",
       "  'pixel_3_1',\n",
       "  'pixel_3_2',\n",
       "  'pixel_3_3',\n",
       "  'pixel_3_4',\n",
       "  'pixel_3_5',\n",
       "  'pixel_3_6',\n",
       "  'pixel_3_7',\n",
       "  'pixel_4_0',\n",
       "  'pixel_4_1',\n",
       "  'pixel_4_2',\n",
       "  'pixel_4_3',\n",
       "  'pixel_4_4',\n",
       "  'pixel_4_5',\n",
       "  'pixel_4_6',\n",
       "  'pixel_4_7',\n",
       "  'pixel_5_0',\n",
       "  'pixel_5_1',\n",
       "  'pixel_5_2',\n",
       "  'pixel_5_3',\n",
       "  'pixel_5_4',\n",
       "  'pixel_5_5',\n",
       "  'pixel_5_6',\n",
       "  'pixel_5_7',\n",
       "  'pixel_6_0',\n",
       "  'pixel_6_1',\n",
       "  'pixel_6_2',\n",
       "  'pixel_6_3',\n",
       "  'pixel_6_4',\n",
       "  'pixel_6_5',\n",
       "  'pixel_6_6',\n",
       "  'pixel_6_7',\n",
       "  'pixel_7_0',\n",
       "  'pixel_7_1',\n",
       "  'pixel_7_2',\n",
       "  'pixel_7_3',\n",
       "  'pixel_7_4',\n",
       "  'pixel_7_5',\n",
       "  'pixel_7_6',\n",
       "  'pixel_7_7'],\n",
       " 'target_names': array([0, 1, 2, 3, 4, 5, 6, 7, 8, 9]),\n",
       " 'images': array([[[ 0.,  0.,  5., ...,  1.,  0.,  0.],\n",
       "         [ 0.,  0., 13., ..., 15.,  5.,  0.],\n",
       "         [ 0.,  3., 15., ..., 11.,  8.,  0.],\n",
       "         ...,\n",
       "         [ 0.,  4., 11., ..., 12.,  7.,  0.],\n",
       "         [ 0.,  2., 14., ..., 12.,  0.,  0.],\n",
       "         [ 0.,  0.,  6., ...,  0.,  0.,  0.]],\n",
       " \n",
       "        [[ 0.,  0.,  0., ...,  5.,  0.,  0.],\n",
       "         [ 0.,  0.,  0., ...,  9.,  0.,  0.],\n",
       "         [ 0.,  0.,  3., ...,  6.,  0.,  0.],\n",
       "         ...,\n",
       "         [ 0.,  0.,  1., ...,  6.,  0.,  0.],\n",
       "         [ 0.,  0.,  1., ...,  6.,  0.,  0.],\n",
       "         [ 0.,  0.,  0., ..., 10.,  0.,  0.]],\n",
       " \n",
       "        [[ 0.,  0.,  0., ..., 12.,  0.,  0.],\n",
       "         [ 0.,  0.,  3., ..., 14.,  0.,  0.],\n",
       "         [ 0.,  0.,  8., ..., 16.,  0.,  0.],\n",
       "         ...,\n",
       "         [ 0.,  9., 16., ...,  0.,  0.,  0.],\n",
       "         [ 0.,  3., 13., ..., 11.,  5.,  0.],\n",
       "         [ 0.,  0.,  0., ..., 16.,  9.,  0.]],\n",
       " \n",
       "        ...,\n",
       " \n",
       "        [[ 0.,  0.,  1., ...,  1.,  0.,  0.],\n",
       "         [ 0.,  0., 13., ...,  2.,  1.,  0.],\n",
       "         [ 0.,  0., 16., ..., 16.,  5.,  0.],\n",
       "         ...,\n",
       "         [ 0.,  0., 16., ..., 15.,  0.,  0.],\n",
       "         [ 0.,  0., 15., ..., 16.,  0.,  0.],\n",
       "         [ 0.,  0.,  2., ...,  6.,  0.,  0.]],\n",
       " \n",
       "        [[ 0.,  0.,  2., ...,  0.,  0.,  0.],\n",
       "         [ 0.,  0., 14., ..., 15.,  1.,  0.],\n",
       "         [ 0.,  4., 16., ..., 16.,  7.,  0.],\n",
       "         ...,\n",
       "         [ 0.,  0.,  0., ..., 16.,  2.,  0.],\n",
       "         [ 0.,  0.,  4., ..., 16.,  2.,  0.],\n",
       "         [ 0.,  0.,  5., ..., 12.,  0.,  0.]],\n",
       " \n",
       "        [[ 0.,  0., 10., ...,  1.,  0.,  0.],\n",
       "         [ 0.,  2., 16., ...,  1.,  0.,  0.],\n",
       "         [ 0.,  0., 15., ..., 15.,  0.,  0.],\n",
       "         ...,\n",
       "         [ 0.,  4., 16., ..., 16.,  6.,  0.],\n",
       "         [ 0.,  8., 16., ..., 16.,  8.,  0.],\n",
       "         [ 0.,  1.,  8., ..., 12.,  1.,  0.]]]),\n",
       " 'DESCR': \".. _digits_dataset:\\n\\nOptical recognition of handwritten digits dataset\\n--------------------------------------------------\\n\\n**Data Set Characteristics:**\\n\\n    :Number of Instances: 1797\\n    :Number of Attributes: 64\\n    :Attribute Information: 8x8 image of integer pixels in the range 0..16.\\n    :Missing Attribute Values: None\\n    :Creator: E. Alpaydin (alpaydin '@' boun.edu.tr)\\n    :Date: July; 1998\\n\\nThis is a copy of the test set of the UCI ML hand-written digits datasets\\nhttps://archive.ics.uci.edu/ml/datasets/Optical+Recognition+of+Handwritten+Digits\\n\\nThe data set contains images of hand-written digits: 10 classes where\\neach class refers to a digit.\\n\\nPreprocessing programs made available by NIST were used to extract\\nnormalized bitmaps of handwritten digits from a preprinted form. From a\\ntotal of 43 people, 30 contributed to the training set and different 13\\nto the test set. 32x32 bitmaps are divided into nonoverlapping blocks of\\n4x4 and the number of on pixels are counted in each block. This generates\\nan input matrix of 8x8 where each element is an integer in the range\\n0..16. This reduces dimensionality and gives invariance to small\\ndistortions.\\n\\nFor info on NIST preprocessing routines, see M. D. Garris, J. L. Blue, G.\\nT. Candela, D. L. Dimmick, J. Geist, P. J. Grother, S. A. Janet, and C.\\nL. Wilson, NIST Form-Based Handprint Recognition System, NISTIR 5469,\\n1994.\\n\\n.. topic:: References\\n\\n  - C. Kaynak (1995) Methods of Combining Multiple Classifiers and Their\\n    Applications to Handwritten Digit Recognition, MSc Thesis, Institute of\\n    Graduate Studies in Science and Engineering, Bogazici University.\\n  - E. Alpaydin, C. Kaynak (1998) Cascading Classifiers, Kybernetika.\\n  - Ken Tang and Ponnuthurai N. Suganthan and Xi Yao and A. Kai Qin.\\n    Linear dimensionalityreduction using relevance weighted LDA. School of\\n    Electrical and Electronic Engineering Nanyang Technological University.\\n    2005.\\n  - Claudio Gentile. A New Approximate Maximal Margin Classification\\n    Algorithm. NIPS. 2000.\\n\"}"
      ]
     },
     "execution_count": 15,
     "metadata": {},
     "output_type": "execute_result"
    }
   ],
   "source": [
    "digits"
   ]
  },
  {
   "cell_type": "code",
   "execution_count": 16,
   "id": "450dcb53-c90b-4fdc-b1d4-6ee1b4b59ab4",
   "metadata": {},
   "outputs": [],
   "source": [
    "y = (digits.target==7).astype(int)"
   ]
  },
  {
   "cell_type": "code",
   "execution_count": 17,
   "id": "482800f1-e7ac-45d1-a4da-2e1a15929edf",
   "metadata": {},
   "outputs": [
    {
     "data": {
      "text/plain": [
       "array([0, 0, 0, ..., 0, 0, 0])"
      ]
     },
     "execution_count": 17,
     "metadata": {},
     "output_type": "execute_result"
    }
   ],
   "source": [
    "y"
   ]
  },
  {
   "cell_type": "code",
   "execution_count": 18,
   "id": "1e58e51c-0b81-4443-8e29-c80663cdd822",
   "metadata": {},
   "outputs": [],
   "source": [
    "X_train,X_test,y_train,y_test=train_test_split(digits.data,y,random_state=11)"
   ]
  },
  {
   "cell_type": "code",
   "execution_count": 19,
   "id": "ced1f9f1-dda7-404d-ad99-a41506abfe80",
   "metadata": {},
   "outputs": [
    {
     "data": {
      "text/plain": [
       "(450,)"
      ]
     },
     "execution_count": 19,
     "metadata": {},
     "output_type": "execute_result"
    }
   ],
   "source": [
    "y_test.shape"
   ]
  },
  {
   "cell_type": "code",
   "execution_count": 20,
   "id": "f0d148a0-bffc-4bd8-afb8-fadeeea4b44f",
   "metadata": {},
   "outputs": [
    {
     "data": {
      "text/plain": [
       "0    405\n",
       "1     45\n",
       "dtype: int64"
      ]
     },
     "execution_count": 20,
     "metadata": {},
     "output_type": "execute_result"
    }
   ],
   "source": [
    "pd.Series(y_test).value_counts()"
   ]
  },
  {
   "cell_type": "code",
   "execution_count": 21,
   "id": "9578106c-e8ec-4d91-9c59-bfa06066aae4",
   "metadata": {},
   "outputs": [
    {
     "data": {
      "text/plain": [
       "0.9"
      ]
     },
     "execution_count": 21,
     "metadata": {},
     "output_type": "execute_result"
    }
   ],
   "source": [
    "fakeclf = MyFakeClassifier()\n",
    "fakeclf.fit(X_train,y_train)\n",
    "pred = fakeclf.predict(X_test)\n",
    "accuracy_score(y_test,pred)"
   ]
  },
  {
   "cell_type": "code",
   "execution_count": 22,
   "id": "c70f35df-e0be-404e-bf1b-80c03daa9023",
   "metadata": {},
   "outputs": [],
   "source": [
    "from sklearn.metrics import confusion_matrix"
   ]
  },
  {
   "cell_type": "code",
   "execution_count": 23,
   "id": "35b4a048-7bbd-4ce8-8d65-3f441c9f4047",
   "metadata": {},
   "outputs": [
    {
     "data": {
      "text/plain": [
       "array([[405,   0],\n",
       "       [ 45,   0]], dtype=int64)"
      ]
     },
     "execution_count": 23,
     "metadata": {},
     "output_type": "execute_result"
    }
   ],
   "source": [
    "confusion_matrix(y_test,pred)"
   ]
  },
  {
   "cell_type": "code",
   "execution_count": 24,
   "id": "4abc4b72-4b46-4629-b79a-86767cc7a72d",
   "metadata": {},
   "outputs": [],
   "source": [
    "from sklearn.metrics import accuracy_score,precision_score,recall_score,confusion_matrix"
   ]
  },
  {
   "cell_type": "code",
   "execution_count": 25,
   "id": "b9296315-7c6b-4222-be15-bcabd91eae7f",
   "metadata": {},
   "outputs": [],
   "source": [
    "def get_clf_eval(y_test,pred):\n",
    "    confusion = confusion_matrix(y_test,pred)\n",
    "    accuracy = accuracy_score(y_test,pred)\n",
    "    precision = precision_score(y_test,pred)\n",
    "    recall = recall_score(y_test,pred)\n",
    "    print('오차행렬')\n",
    "    print(confusion)\n",
    "    print(f'정확도:{accuracy:.4f} 정밀도:{precision:.4f} 재현율:{recall:.4f}')"
   ]
  },
  {
   "cell_type": "code",
   "execution_count": 26,
   "id": "acfd90e9-867f-4279-b08b-54629cb777ff",
   "metadata": {},
   "outputs": [],
   "source": [
    "titanic_df = pd.read_csv('titanic_train.csv')\n",
    "\n",
    "y_titanic_df = titanic_df['Survived']\n",
    "X_titanic_df = titanic_df.drop('Survived',axis=1)\n",
    "X_titanic_df = tranform_features(X_titanic_df)\n",
    "X_train,X_test,y_train,y_test = train_test_split(X_titanic_df,y_titanic_df,test_size=0.2,random_state=0)"
   ]
  },
  {
   "cell_type": "code",
   "execution_count": 27,
   "id": "116c0db5-1787-4da9-aa7e-486647a5b714",
   "metadata": {
    "tags": []
   },
   "outputs": [
    {
     "name": "stdout",
     "output_type": "stream",
     "text": [
      "오차행렬\n",
      "[[92 18]\n",
      " [16 53]]\n",
      "정확도:0.8101 정밀도:0.7465 재현율:0.7681\n"
     ]
    },
    {
     "name": "stderr",
     "output_type": "stream",
     "text": [
      "C:\\Users\\admin\\anaconda3\\lib\\site-packages\\sklearn\\linear_model\\_logistic.py:763: ConvergenceWarning: lbfgs failed to converge (status=1):\n",
      "STOP: TOTAL NO. of ITERATIONS REACHED LIMIT.\n",
      "\n",
      "Increase the number of iterations (max_iter) or scale the data as shown in:\n",
      "    https://scikit-learn.org/stable/modules/preprocessing.html\n",
      "Please also refer to the documentation for alternative solver options:\n",
      "    https://scikit-learn.org/stable/modules/linear_model.html#logistic-regression\n",
      "  n_iter_i = _check_optimize_result(\n"
     ]
    }
   ],
   "source": [
    "from sklearn.linear_model import LogisticRegression\n",
    "lr_clf = LogisticRegression()\n",
    "lr_clf.fit(X_train,y_train)\n",
    "pred=lr_clf.predict(X_test)\n",
    "get_clf_eval(y_test,pred)"
   ]
  },
  {
   "cell_type": "code",
   "execution_count": 28,
   "id": "862cf8dd-778f-4297-8c5c-7e76dc286d46",
   "metadata": {
    "tags": []
   },
   "outputs": [
    {
     "name": "stdout",
     "output_type": "stream",
     "text": [
      "오차행렬\n",
      "[[110   0]\n",
      " [ 69   0]]\n",
      "정확도:0.6145 정밀도:0.0000 재현율:0.0000\n"
     ]
    },
    {
     "name": "stderr",
     "output_type": "stream",
     "text": [
      "C:\\Users\\admin\\anaconda3\\lib\\site-packages\\sklearn\\metrics\\_classification.py:1245: UndefinedMetricWarning: Precision is ill-defined and being set to 0.0 due to no predicted samples. Use `zero_division` parameter to control this behavior.\n",
      "  _warn_prf(average, modifier, msg_start, len(result))\n"
     ]
    }
   ],
   "source": [
    "fakeclf = MyFakeClassifier()\n",
    "fakeclf.fit(X_train,y_train)\n",
    "pred = fakeclf.predict(X_test)\n",
    "get_clf_eval(y_test,pred)"
   ]
  },
  {
   "cell_type": "code",
   "execution_count": 29,
   "id": "7b97a789-8bb6-4089-b41c-2bbb8a89b320",
   "metadata": {
    "collapsed": true,
    "jupyter": {
     "outputs_hidden": true
    },
    "tags": []
   },
   "outputs": [
    {
     "data": {
      "text/plain": [
       "array([[False],\n",
       "       [False],\n",
       "       [False],\n",
       "       [False],\n",
       "       [False],\n",
       "       [False],\n",
       "       [False],\n",
       "       [False],\n",
       "       [False],\n",
       "       [False],\n",
       "       [False],\n",
       "       [False],\n",
       "       [False],\n",
       "       [False],\n",
       "       [False],\n",
       "       [False],\n",
       "       [False],\n",
       "       [False],\n",
       "       [False],\n",
       "       [False],\n",
       "       [False],\n",
       "       [False],\n",
       "       [False],\n",
       "       [False],\n",
       "       [False],\n",
       "       [False],\n",
       "       [False],\n",
       "       [False],\n",
       "       [False],\n",
       "       [False],\n",
       "       [False],\n",
       "       [False],\n",
       "       [False],\n",
       "       [False],\n",
       "       [False],\n",
       "       [False],\n",
       "       [False],\n",
       "       [False],\n",
       "       [False],\n",
       "       [False],\n",
       "       [False],\n",
       "       [False],\n",
       "       [False],\n",
       "       [False],\n",
       "       [False],\n",
       "       [False],\n",
       "       [False],\n",
       "       [False],\n",
       "       [False],\n",
       "       [False],\n",
       "       [False],\n",
       "       [False],\n",
       "       [False],\n",
       "       [False],\n",
       "       [False],\n",
       "       [False],\n",
       "       [False],\n",
       "       [False],\n",
       "       [False],\n",
       "       [False],\n",
       "       [False],\n",
       "       [False],\n",
       "       [False],\n",
       "       [False],\n",
       "       [False],\n",
       "       [False],\n",
       "       [False],\n",
       "       [False],\n",
       "       [False],\n",
       "       [False],\n",
       "       [False],\n",
       "       [False],\n",
       "       [False],\n",
       "       [False],\n",
       "       [False],\n",
       "       [False],\n",
       "       [False],\n",
       "       [False],\n",
       "       [False],\n",
       "       [False],\n",
       "       [False],\n",
       "       [False],\n",
       "       [False],\n",
       "       [False],\n",
       "       [False],\n",
       "       [False],\n",
       "       [False],\n",
       "       [False],\n",
       "       [False],\n",
       "       [False],\n",
       "       [False],\n",
       "       [False],\n",
       "       [False],\n",
       "       [False],\n",
       "       [False],\n",
       "       [False],\n",
       "       [False],\n",
       "       [False],\n",
       "       [False],\n",
       "       [False],\n",
       "       [False],\n",
       "       [False],\n",
       "       [False],\n",
       "       [False],\n",
       "       [False],\n",
       "       [False],\n",
       "       [False],\n",
       "       [False],\n",
       "       [False],\n",
       "       [False],\n",
       "       [False],\n",
       "       [False],\n",
       "       [False],\n",
       "       [False],\n",
       "       [False],\n",
       "       [False],\n",
       "       [False],\n",
       "       [False],\n",
       "       [False],\n",
       "       [False],\n",
       "       [False],\n",
       "       [False],\n",
       "       [False],\n",
       "       [False],\n",
       "       [False],\n",
       "       [False],\n",
       "       [False],\n",
       "       [False],\n",
       "       [False],\n",
       "       [False],\n",
       "       [False],\n",
       "       [False],\n",
       "       [False],\n",
       "       [False],\n",
       "       [False],\n",
       "       [False],\n",
       "       [False],\n",
       "       [False],\n",
       "       [False],\n",
       "       [False],\n",
       "       [False],\n",
       "       [False],\n",
       "       [False],\n",
       "       [False],\n",
       "       [False],\n",
       "       [False],\n",
       "       [False],\n",
       "       [False],\n",
       "       [False],\n",
       "       [False],\n",
       "       [False],\n",
       "       [False],\n",
       "       [False],\n",
       "       [False],\n",
       "       [False],\n",
       "       [False],\n",
       "       [False],\n",
       "       [False],\n",
       "       [False],\n",
       "       [False],\n",
       "       [False],\n",
       "       [False],\n",
       "       [False],\n",
       "       [False],\n",
       "       [False],\n",
       "       [False],\n",
       "       [False],\n",
       "       [False],\n",
       "       [False],\n",
       "       [False],\n",
       "       [False],\n",
       "       [False],\n",
       "       [False],\n",
       "       [False],\n",
       "       [False],\n",
       "       [False],\n",
       "       [False],\n",
       "       [False],\n",
       "       [False]])"
      ]
     },
     "execution_count": 29,
     "metadata": {},
     "output_type": "execute_result"
    }
   ],
   "source": [
    "pred"
   ]
  },
  {
   "cell_type": "code",
   "execution_count": 30,
   "id": "e92c0500-d6a2-4bc3-a309-bb0fadb83a42",
   "metadata": {
    "collapsed": true,
    "jupyter": {
     "outputs_hidden": true
    },
    "tags": []
   },
   "outputs": [
    {
     "data": {
      "text/plain": [
       "array([[0.85127656, 0.14872344],\n",
       "       [0.89229967, 0.10770033],\n",
       "       [0.93311939, 0.06688061],\n",
       "       [0.05349063, 0.94650937],\n",
       "       [0.31332509, 0.68667491],\n",
       "       [0.49059842, 0.50940158],\n",
       "       [0.0822201 , 0.9177799 ],\n",
       "       [0.06469866, 0.93530134],\n",
       "       [0.41255002, 0.58744998],\n",
       "       [0.29149245, 0.70850755],\n",
       "       [0.91284628, 0.08715372],\n",
       "       [0.26908456, 0.73091544],\n",
       "       [0.88018451, 0.11981549],\n",
       "       [0.09166818, 0.90833182],\n",
       "       [0.03353731, 0.96646269],\n",
       "       [0.23062761, 0.76937239],\n",
       "       [0.86101337, 0.13898663],\n",
       "       [0.76364171, 0.23635829],\n",
       "       [0.91228723, 0.08771277],\n",
       "       [0.63771463, 0.36228537],\n",
       "       [0.66798355, 0.33201645],\n",
       "       [0.0532712 , 0.9467288 ],\n",
       "       [0.88018639, 0.11981361],\n",
       "       [0.56675265, 0.43324735],\n",
       "       [0.29665533, 0.70334467],\n",
       "       [0.1037613 , 0.8962387 ],\n",
       "       [0.90140969, 0.09859031],\n",
       "       [0.29727631, 0.70272369],\n",
       "       [0.16926061, 0.83073939],\n",
       "       [0.39591645, 0.60408355],\n",
       "       [0.86932196, 0.13067804],\n",
       "       [0.3623199 , 0.6376801 ],\n",
       "       [0.8847846 , 0.1152154 ],\n",
       "       [0.48881812, 0.51118188],\n",
       "       [0.92266832, 0.07733168],\n",
       "       [0.41097757, 0.58902243],\n",
       "       [0.9363439 , 0.0636561 ],\n",
       "       [0.75600581, 0.24399419],\n",
       "       [0.73070892, 0.26929108],\n",
       "       [0.90421488, 0.09578512],\n",
       "       [0.77598406, 0.22401594],\n",
       "       [0.82530401, 0.17469599],\n",
       "       [0.89134431, 0.10865569],\n",
       "       [0.95442895, 0.04557105],\n",
       "       [0.10584072, 0.89415928],\n",
       "       [0.89225231, 0.10774769],\n",
       "       [0.89225231, 0.10774769],\n",
       "       [0.04730172, 0.95269828],\n",
       "       [0.83212784, 0.16787216],\n",
       "       [0.80869811, 0.19130189],\n",
       "       [0.50612198, 0.49387802],\n",
       "       [0.35461608, 0.64538392],\n",
       "       [0.10945158, 0.89054842],\n",
       "       [0.83935892, 0.16064108],\n",
       "       [0.40217075, 0.59782925],\n",
       "       [0.83985586, 0.16014414],\n",
       "       [0.7954751 , 0.2045249 ],\n",
       "       [0.58761896, 0.41238104],\n",
       "       [0.92856861, 0.07143139],\n",
       "       [0.94049076, 0.05950924],\n",
       "       [0.80589877, 0.19410123],\n",
       "       [0.42851109, 0.57148891],\n",
       "       [0.16695877, 0.83304123],\n",
       "       [0.47412388, 0.52587612],\n",
       "       [0.37639392, 0.62360608],\n",
       "       [0.89024135, 0.10975865],\n",
       "       [0.14404468, 0.85595532],\n",
       "       [0.76339172, 0.23660828],\n",
       "       [0.10095031, 0.89904969],\n",
       "       [0.03909533, 0.96090467],\n",
       "       [0.21209422, 0.78790578],\n",
       "       [0.75278382, 0.24721618],\n",
       "       [0.53909615, 0.46090385],\n",
       "       [0.89223119, 0.10776881],\n",
       "       [0.86875172, 0.13124828],\n",
       "       [0.43565713, 0.56434287],\n",
       "       [0.62197202, 0.37802798],\n",
       "       [0.58823645, 0.41176355],\n",
       "       [0.90896494, 0.09103506],\n",
       "       [0.69795828, 0.30204172],\n",
       "       [0.91411126, 0.08588874],\n",
       "       [0.84267511, 0.15732489],\n",
       "       [0.23980515, 0.76019485],\n",
       "       [0.82120278, 0.17879722],\n",
       "       [0.86801732, 0.13198268],\n",
       "       [0.04472998, 0.95527002],\n",
       "       [0.07691465, 0.92308535],\n",
       "       [0.71130351, 0.28869649],\n",
       "       [0.20153543, 0.79846457],\n",
       "       [0.35007295, 0.64992705],\n",
       "       [0.48611844, 0.51388156],\n",
       "       [0.83935892, 0.16064108],\n",
       "       [0.59306506, 0.40693494],\n",
       "       [0.07920674, 0.92079326],\n",
       "       [0.46972987, 0.53027013],\n",
       "       [0.85257592, 0.14742408],\n",
       "       [0.17580797, 0.82419203],\n",
       "       [0.95802987, 0.04197013],\n",
       "       [0.82907801, 0.17092199],\n",
       "       [0.37326845, 0.62673155],\n",
       "       [0.97063571, 0.02936429],\n",
       "       [0.93226095, 0.06773905],\n",
       "       [0.82215859, 0.17784141],\n",
       "       [0.88865673, 0.11134327],\n",
       "       [0.46066508, 0.53933492],\n",
       "       [0.53693679, 0.46306321],\n",
       "       [0.18016141, 0.81983859],\n",
       "       [0.56821013, 0.43178987],\n",
       "       [0.79799143, 0.20200857],\n",
       "       [0.43392101, 0.56607899],\n",
       "       [0.94792979, 0.05207021],\n",
       "       [0.05459398, 0.94540602],\n",
       "       [0.8950823 , 0.1049177 ],\n",
       "       [0.37066651, 0.62933349],\n",
       "       [0.64194052, 0.35805948],\n",
       "       [0.18008776, 0.81991224],\n",
       "       [0.40331429, 0.59668571],\n",
       "       [0.03134554, 0.96865446],\n",
       "       [0.92806291, 0.07193709],\n",
       "       [0.41669813, 0.58330187],\n",
       "       [0.88541193, 0.11458807],\n",
       "       [0.88007804, 0.11992196],\n",
       "       [0.84493476, 0.15506524],\n",
       "       [0.66151546, 0.33848454],\n",
       "       [0.90507634, 0.09492366],\n",
       "       [0.68140937, 0.31859063],\n",
       "       [0.85257667, 0.14742333],\n",
       "       [0.90937   , 0.09063   ],\n",
       "       [0.77188675, 0.22811325],\n",
       "       [0.89263477, 0.10736523],\n",
       "       [0.26437972, 0.73562028],\n",
       "       [0.85060147, 0.14939853],\n",
       "       [0.87134588, 0.12865412],\n",
       "       [0.36464722, 0.63535278],\n",
       "       [0.85221131, 0.14778869],\n",
       "       [0.85060147, 0.14939853],\n",
       "       [0.91592821, 0.08407179],\n",
       "       [0.57592087, 0.42407913],\n",
       "       [0.89948805, 0.10051195],\n",
       "       [0.71343831, 0.28656169],\n",
       "       [0.75534814, 0.24465186],\n",
       "       [0.0871205 , 0.9128795 ],\n",
       "       [0.89223119, 0.10776881],\n",
       "       [0.24030227, 0.75969773],\n",
       "       [0.18677248, 0.81322752],\n",
       "       [0.31522819, 0.68477181],\n",
       "       [0.77090399, 0.22909601],\n",
       "       [0.36873989, 0.63126011],\n",
       "       [0.07834847, 0.92165153],\n",
       "       [0.89214724, 0.10785276],\n",
       "       [0.71900829, 0.28099171],\n",
       "       [0.37221795, 0.62778205],\n",
       "       [0.44588314, 0.55411686],\n",
       "       [0.88934212, 0.11065788],\n",
       "       [0.08724665, 0.91275335],\n",
       "       [0.73977982, 0.26022018],\n",
       "       [0.45825484, 0.54174516],\n",
       "       [0.93049172, 0.06950828],\n",
       "       [0.34323364, 0.65676636],\n",
       "       [0.21575771, 0.78424229],\n",
       "       [0.89225231, 0.10774769],\n",
       "       [0.79207821, 0.20792179],\n",
       "       [0.2083493 , 0.7916507 ],\n",
       "       [0.68651209, 0.31348791],\n",
       "       [0.83046211, 0.16953789],\n",
       "       [0.85683918, 0.14316082],\n",
       "       [0.95399672, 0.04600328],\n",
       "       [0.85603346, 0.14396654],\n",
       "       [0.86630387, 0.13369613],\n",
       "       [0.82725454, 0.17274546],\n",
       "       [0.95393441, 0.04606559],\n",
       "       [0.08727149, 0.91272851],\n",
       "       [0.89234074, 0.10765926],\n",
       "       [0.89134431, 0.10865569],\n",
       "       [0.16702253, 0.83297747],\n",
       "       [0.89223119, 0.10776881],\n",
       "       [0.06616555, 0.93383445],\n",
       "       [0.86124694, 0.13875306],\n",
       "       [0.83932929, 0.16067071]])"
      ]
     },
     "execution_count": 30,
     "metadata": {},
     "output_type": "execute_result"
    }
   ],
   "source": [
    "pred_proba = lr_clf.predict_proba(X_test)\n",
    "pred_proba"
   ]
  },
  {
   "cell_type": "code",
   "execution_count": 31,
   "id": "64da44ad-587b-4e6d-acf9-8b2e52b67d38",
   "metadata": {},
   "outputs": [],
   "source": [
    "pred = lr_clf.predict(X_test)"
   ]
  },
  {
   "cell_type": "code",
   "execution_count": 32,
   "id": "06d38dd5-8f02-4012-9b07-e1dbc1f4b62b",
   "metadata": {},
   "outputs": [
    {
     "data": {
      "text/plain": [
       "(179, 2)"
      ]
     },
     "execution_count": 32,
     "metadata": {},
     "output_type": "execute_result"
    }
   ],
   "source": [
    "pred_proba.shape"
   ]
  },
  {
   "cell_type": "code",
   "execution_count": 33,
   "id": "83c2df00-e8ae-4165-801e-e334eb8146a1",
   "metadata": {},
   "outputs": [
    {
     "data": {
      "text/plain": [
       "(179,)"
      ]
     },
     "execution_count": 33,
     "metadata": {},
     "output_type": "execute_result"
    }
   ],
   "source": [
    "pred.shape"
   ]
  },
  {
   "cell_type": "code",
   "execution_count": 34,
   "id": "e8532417-0373-4938-bf32-fc5b887b4350",
   "metadata": {
    "collapsed": true,
    "jupyter": {
     "outputs_hidden": true
    },
    "tags": []
   },
   "outputs": [
    {
     "data": {
      "text/plain": [
       "array([[0.85127656, 0.14872344],\n",
       "       [0.89229967, 0.10770033],\n",
       "       [0.93311939, 0.06688061]])"
      ]
     },
     "execution_count": 34,
     "metadata": {},
     "output_type": "execute_result"
    }
   ],
   "source": [
    "pred_proba[:3]"
   ]
  },
  {
   "cell_type": "code",
   "execution_count": 36,
   "id": "5a1ec0a0-c345-4fb0-8526-ba854dbb2a0a",
   "metadata": {},
   "outputs": [],
   "source": [
    "pred_proba_result = np.concatenate([pred_proba,pred.reshape(-1,1)],axis=1)"
   ]
  },
  {
   "cell_type": "code",
   "execution_count": 38,
   "id": "09377728-f01c-4372-be2e-1592aa158b35",
   "metadata": {
    "tags": []
   },
   "outputs": [
    {
     "data": {
      "text/plain": [
       "array([[0.85127656, 0.14872344, 0.        ],\n",
       "       [0.89229967, 0.10770033, 0.        ],\n",
       "       [0.93311939, 0.06688061, 0.        ],\n",
       "       [0.05349063, 0.94650937, 1.        ],\n",
       "       [0.31332509, 0.68667491, 1.        ]])"
      ]
     },
     "execution_count": 38,
     "metadata": {},
     "output_type": "execute_result"
    }
   ],
   "source": [
    "pred_proba_result[:5]"
   ]
  },
  {
   "cell_type": "code",
   "execution_count": 39,
   "id": "54d8556d-b84a-4c02-8479-8650f8343fb4",
   "metadata": {},
   "outputs": [],
   "source": [
    "from sklearn.preprocessing import Binarizer"
   ]
  },
  {
   "cell_type": "code",
   "execution_count": 41,
   "id": "c6e5008b-60d3-44b9-b980-47d685d1493b",
   "metadata": {},
   "outputs": [
    {
     "data": {
      "text/plain": [
       "array([[0., 0., 1.],\n",
       "       [1., 0., 0.],\n",
       "       [0., 0., 1.]])"
      ]
     },
     "execution_count": 41,
     "metadata": {},
     "output_type": "execute_result"
    }
   ],
   "source": [
    "X = [[1,-1,2],\n",
    "     [2,0,0],\n",
    "     [0,1.1,1.2]]\n",
    "binarizer = Binarizer(threshold=1.1)\n",
    "binarizer.fit_transform(X)"
   ]
  },
  {
   "cell_type": "code",
   "execution_count": 46,
   "id": "9a6cc740-e63f-423a-94c1-aafc59ce6048",
   "metadata": {
    "tags": []
   },
   "outputs": [],
   "source": [
    "custom_threshold = 0.5\n",
    "pred_proba_1 = pred_proba[:,1].reshape(-1,1)\n",
    "custom_predict = Binarizer(threshold=custom_threshold).fit_transform(pred_proba_1)"
   ]
  },
  {
   "cell_type": "code",
   "execution_count": 47,
   "id": "de3a9d63-6d01-4b9b-b2bd-600c9a0d8f72",
   "metadata": {
    "collapsed": true,
    "jupyter": {
     "outputs_hidden": true
    },
    "tags": []
   },
   "outputs": [
    {
     "name": "stdout",
     "output_type": "stream",
     "text": [
      "오차행렬\n",
      "[[92 18]\n",
      " [16 53]]\n",
      "정확도:0.8101 정밀도:0.7465 재현율:0.7681\n"
     ]
    }
   ],
   "source": [
    "get_clf_eval(y_test,custom_predict)"
   ]
  },
  {
   "cell_type": "code",
   "execution_count": 50,
   "id": "5017b631-b266-448c-b998-5937c3490575",
   "metadata": {
    "collapsed": true,
    "jupyter": {
     "outputs_hidden": true
    },
    "tags": []
   },
   "outputs": [
    {
     "name": "stdout",
     "output_type": "stream",
     "text": [
      "오차행렬\n",
      "[[99 11]\n",
      " [25 44]]\n",
      "정확도:0.7989 정밀도:0.8000 재현율:0.6377\n"
     ]
    }
   ],
   "source": [
    "custom_threshold = 0.6\n",
    "pred_proba_1 = pred_proba[:,1].reshape(-1,1)\n",
    "custom_predict = Binarizer(threshold=custom_threshold).fit_transform(pred_proba_1)\n",
    "get_clf_eval(y_test,custom_predict)"
   ]
  },
  {
   "cell_type": "code",
   "execution_count": 51,
   "id": "8d080c10-e092-44d2-837f-953126972ca0",
   "metadata": {
    "collapsed": true,
    "jupyter": {
     "outputs_hidden": true
    },
    "tags": []
   },
   "outputs": [
    {
     "name": "stdout",
     "output_type": "stream",
     "text": [
      "오차행렬\n",
      "[[105   5]\n",
      " [ 32  37]]\n",
      "정확도:0.7933 정밀도:0.8810 재현율:0.5362\n"
     ]
    }
   ],
   "source": [
    "custom_threshold = 0.7\n",
    "pred_proba_1 = pred_proba[:,1].reshape(-1,1)\n",
    "custom_predict = Binarizer(threshold=custom_threshold).fit_transform(pred_proba_1)\n",
    "get_clf_eval(y_test,custom_predict)"
   ]
  },
  {
   "cell_type": "code",
   "execution_count": null,
   "id": "8fff29f7-f7a7-4eef-adbe-4fcf293018c9",
   "metadata": {},
   "outputs": [],
   "source": []
  }
 ],
 "metadata": {
  "kernelspec": {
   "display_name": "Python 3",
   "language": "python",
   "name": "python3"
  },
  "language_info": {
   "codemirror_mode": {
    "name": "ipython",
    "version": 3
   },
   "file_extension": ".py",
   "mimetype": "text/x-python",
   "name": "python",
   "nbconvert_exporter": "python",
   "pygments_lexer": "ipython3",
   "version": "3.8.8"
  }
 },
 "nbformat": 4,
 "nbformat_minor": 5
}
