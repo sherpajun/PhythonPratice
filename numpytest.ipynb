{
 "cells": [
  {
   "cell_type": "code",
   "execution_count": 1,
   "id": "01e010ad-71ff-40f7-9604-abb667d63684",
   "metadata": {},
   "outputs": [],
   "source": [
    "import numpy as np"
   ]
  },
  {
   "cell_type": "code",
   "execution_count": 2,
   "id": "f2080c6a-b28b-475a-9db3-d526272a5aaa",
   "metadata": {},
   "outputs": [],
   "source": [
    "array1 = np.array([1,2,3,4,5])#1차원 배열"
   ]
  },
  {
   "cell_type": "code",
   "execution_count": 3,
   "id": "1752c9c8-8b6b-4a45-a723-9a01530115ad",
   "metadata": {},
   "outputs": [
    {
     "data": {
      "text/plain": [
       "array([1, 2, 3, 4, 5])"
      ]
     },
     "execution_count": 3,
     "metadata": {},
     "output_type": "execute_result"
    }
   ],
   "source": [
    "array1"
   ]
  },
  {
   "cell_type": "code",
   "execution_count": 4,
   "id": "74df9ba6-c162-401f-82b0-a096f84398fe",
   "metadata": {},
   "outputs": [
    {
     "data": {
      "text/plain": [
       "numpy.ndarray"
      ]
     },
     "execution_count": 4,
     "metadata": {},
     "output_type": "execute_result"
    }
   ],
   "source": [
    "type(array1)#데이터 타입"
   ]
  },
  {
   "cell_type": "code",
   "execution_count": 6,
   "id": "51a11db3-ee7d-4570-b583-05524e91422c",
   "metadata": {},
   "outputs": [
    {
     "data": {
      "text/plain": [
       "(5,)"
      ]
     },
     "execution_count": 6,
     "metadata": {},
     "output_type": "execute_result"
    }
   ],
   "source": [
    "array1.shape#1차원일 경우 "
   ]
  },
  {
   "cell_type": "raw",
   "id": "2a90f823-5cdd-466f-9df6-af3a1d5a495b",
   "metadata": {},
   "source": []
  },
  {
   "cell_type": "code",
   "execution_count": 7,
   "id": "c69d780d-5271-4a7c-b03d-265f08323409",
   "metadata": {},
   "outputs": [],
   "source": [
    "array2=np.array([[1,2,3],[2,3,4]])#2차원 배열"
   ]
  },
  {
   "cell_type": "code",
   "execution_count": 8,
   "id": "d03bb647-6c2e-4068-a629-5d5e550da998",
   "metadata": {},
   "outputs": [
    {
     "data": {
      "text/plain": [
       "numpy.ndarray"
      ]
     },
     "execution_count": 8,
     "metadata": {},
     "output_type": "execute_result"
    }
   ],
   "source": [
    "type(array2)"
   ]
  },
  {
   "cell_type": "code",
   "execution_count": 9,
   "id": "ebcc8f91-9154-4a6b-8403-c307323851ff",
   "metadata": {},
   "outputs": [
    {
     "data": {
      "text/plain": [
       "(2, 3)"
      ]
     },
     "execution_count": 9,
     "metadata": {},
     "output_type": "execute_result"
    }
   ],
   "source": [
    "array2.shape"
   ]
  },
  {
   "cell_type": "code",
   "execution_count": 12,
   "id": "52627596-8067-43bd-9018-f65c37707e1e",
   "metadata": {},
   "outputs": [],
   "source": [
    "array3=np.array([[[1,2,3],[2,3,4]],[[1,2,3],[4,5,6]]])"
   ]
  },
  {
   "cell_type": "code",
   "execution_count": 13,
   "id": "2f8242ed-cf8e-4ab5-83de-af7a7f03f9d7",
   "metadata": {},
   "outputs": [
    {
     "data": {
      "text/plain": [
       "(2, 2, 3)"
      ]
     },
     "execution_count": 13,
     "metadata": {},
     "output_type": "execute_result"
    }
   ],
   "source": [
    "array3.shape#3차원"
   ]
  },
  {
   "cell_type": "code",
   "execution_count": 14,
   "id": "462f3077-8c99-4f1d-855e-2eeb81d24ae4",
   "metadata": {},
   "outputs": [
    {
     "data": {
      "text/plain": [
       "1"
      ]
     },
     "execution_count": 14,
     "metadata": {},
     "output_type": "execute_result"
    }
   ],
   "source": [
    "array1.ndim#1차원확인"
   ]
  },
  {
   "cell_type": "code",
   "execution_count": 15,
   "id": "f8fd5fc8-275f-46fb-a5de-37020e6521bf",
   "metadata": {},
   "outputs": [
    {
     "data": {
      "text/plain": [
       "2"
      ]
     },
     "execution_count": 15,
     "metadata": {},
     "output_type": "execute_result"
    }
   ],
   "source": [
    "array2.ndim#2차원확인"
   ]
  },
  {
   "cell_type": "code",
   "execution_count": 16,
   "id": "a2561f33-53f6-42b5-8c55-811472f7876c",
   "metadata": {},
   "outputs": [
    {
     "data": {
      "text/plain": [
       "3"
      ]
     },
     "execution_count": 16,
     "metadata": {},
     "output_type": "execute_result"
    }
   ],
   "source": [
    "array3.ndim#3차원 확인"
   ]
  },
  {
   "cell_type": "code",
   "execution_count": 17,
   "id": "b7699c8e-78a1-4598-861b-85beb488b94c",
   "metadata": {},
   "outputs": [
    {
     "data": {
      "text/plain": [
       "dtype('int32')"
      ]
     },
     "execution_count": 17,
     "metadata": {},
     "output_type": "execute_result"
    }
   ],
   "source": [
    "array1.dtype #배열의 형태를 나타낼수 있다."
   ]
  },
  {
   "cell_type": "code",
   "execution_count": 3,
   "id": "c3d26756-7ffe-4d00-b3e3-424fc8bfdcb2",
   "metadata": {},
   "outputs": [],
   "source": [
    "list2=[1,2,'test']\n",
    "array2 = np.array(list2)"
   ]
  },
  {
   "cell_type": "code",
   "execution_count": 4,
   "id": "714c8ea3-bd2b-4358-91de-d047234b68c5",
   "metadata": {},
   "outputs": [
    {
     "data": {
      "text/plain": [
       "array(['1', '2', 'test'], dtype='<U11')"
      ]
     },
     "execution_count": 4,
     "metadata": {},
     "output_type": "execute_result"
    }
   ],
   "source": [
    "array2#데이터 값이 혼용 되어 있을시 나오는 값"
   ]
  },
  {
   "cell_type": "code",
   "execution_count": 5,
   "id": "754ccb0d-2053-4220-acdc-3a8464b24064",
   "metadata": {},
   "outputs": [
    {
     "data": {
      "text/plain": [
       "dtype('<U11')"
      ]
     },
     "execution_count": 5,
     "metadata": {},
     "output_type": "execute_result"
    }
   ],
   "source": [
    "array2.dtype"
   ]
  },
  {
   "cell_type": "code",
   "execution_count": 7,
   "id": "b82b7188-cd28-4356-be98-f5e5ffbcf3d1",
   "metadata": {},
   "outputs": [],
   "source": [
    "array_int = np.array([1,2,3])\n",
    "array_float =array_int.astype('float64') #데이터 타입을 바꾸겟다."
   ]
  },
  {
   "cell_type": "code",
   "execution_count": 8,
   "id": "4a2904ed-f3bd-44b6-8482-f5cb699ec19b",
   "metadata": {},
   "outputs": [
    {
     "data": {
      "text/plain": [
       "dtype('int32')"
      ]
     },
     "execution_count": 8,
     "metadata": {},
     "output_type": "execute_result"
    }
   ],
   "source": [
    "array_int.dtype"
   ]
  },
  {
   "cell_type": "code",
   "execution_count": 9,
   "id": "9311ce5a-7bfe-4fc8-914b-44d5e1d03716",
   "metadata": {},
   "outputs": [
    {
     "data": {
      "text/plain": [
       "dtype('float64')"
      ]
     },
     "execution_count": 9,
     "metadata": {},
     "output_type": "execute_result"
    }
   ],
   "source": [
    "array_float.dtype"
   ]
  },
  {
   "cell_type": "code",
   "execution_count": 10,
   "id": "f1017f01-7af0-412a-8cef-91f151563eaf",
   "metadata": {},
   "outputs": [
    {
     "data": {
      "text/plain": [
       "array([0, 1, 2, 3, 4, 5, 6, 7, 8, 9])"
      ]
     },
     "execution_count": 10,
     "metadata": {},
     "output_type": "execute_result"
    }
   ],
   "source": [
    "np.arange(10)#1차원"
   ]
  },
  {
   "cell_type": "code",
   "execution_count": 12,
   "id": "2b4ffa89-11b6-4c58-8e62-c171990a5dfa",
   "metadata": {},
   "outputs": [
    {
     "data": {
      "text/plain": [
       "array([[[0, 0, 0],\n",
       "        [0, 0, 0],\n",
       "        [0, 0, 0]],\n",
       "\n",
       "       [[0, 0, 0],\n",
       "        [0, 0, 0],\n",
       "        [0, 0, 0]],\n",
       "\n",
       "       [[0, 0, 0],\n",
       "        [0, 0, 0],\n",
       "        [0, 0, 0]]])"
      ]
     },
     "execution_count": 12,
     "metadata": {},
     "output_type": "execute_result"
    }
   ],
   "source": [
    "np.zeros((3,3,3),dtype='int32')#기본이 float 형태인데 int로 바꾸엇다."
   ]
  },
  {
   "cell_type": "code",
   "execution_count": 13,
   "id": "9233f54a-5a33-43c6-8013-47b92ee52c92",
   "metadata": {},
   "outputs": [
    {
     "data": {
      "text/plain": [
       "array([[[1, 1, 1],\n",
       "        [1, 1, 1],\n",
       "        [1, 1, 1]],\n",
       "\n",
       "       [[1, 1, 1],\n",
       "        [1, 1, 1],\n",
       "        [1, 1, 1]],\n",
       "\n",
       "       [[1, 1, 1],\n",
       "        [1, 1, 1],\n",
       "        [1, 1, 1]]])"
      ]
     },
     "execution_count": 13,
     "metadata": {},
     "output_type": "execute_result"
    }
   ],
   "source": [
    "np.ones((3,3,3),dtype='int32')#배열 안의 값을 1로 채웠다."
   ]
  },
  {
   "cell_type": "code",
   "execution_count": 14,
   "id": "d0e0407d-7775-4f0f-8f9f-999c3dfc470e",
   "metadata": {},
   "outputs": [
    {
     "data": {
      "text/plain": [
       "array([0, 1, 2, 3, 4, 5, 6, 7, 8, 9])"
      ]
     },
     "execution_count": 14,
     "metadata": {},
     "output_type": "execute_result"
    }
   ],
   "source": [
    "array1 = np.arange(10)\n",
    "array1"
   ]
  },
  {
   "cell_type": "code",
   "execution_count": 16,
   "id": "5ceb79d7-8805-4c5a-acb8-28a4b4a6f49f",
   "metadata": {},
   "outputs": [
    {
     "data": {
      "text/plain": [
       "array([[0, 1],\n",
       "       [2, 3],\n",
       "       [4, 5],\n",
       "       [6, 7],\n",
       "       [8, 9]])"
      ]
     },
     "execution_count": 16,
     "metadata": {},
     "output_type": "execute_result"
    }
   ],
   "source": [
    "array1.reshape(5,2)#데이터의 값가 일치해야한다.갯수가 다 들어가야함."
   ]
  },
  {
   "cell_type": "code",
   "execution_count": 21,
   "id": "794df206-4692-4e4d-a40d-615687360797",
   "metadata": {},
   "outputs": [],
   "source": [
    "array1=array1.reshape(-1,5)"
   ]
  },
  {
   "cell_type": "code",
   "execution_count": 22,
   "id": "4967df87-5cb0-42c4-abee-54f07266d28d",
   "metadata": {},
   "outputs": [
    {
     "data": {
      "text/plain": [
       "array([[0, 1, 2, 3, 4],\n",
       "       [5, 6, 7, 8, 9]])"
      ]
     },
     "execution_count": 22,
     "metadata": {},
     "output_type": "execute_result"
    }
   ],
   "source": [
    "array1"
   ]
  },
  {
   "cell_type": "code",
   "execution_count": 23,
   "id": "b1668ef9-1d4f-45e6-8900-3c60a2f30cd3",
   "metadata": {},
   "outputs": [
    {
     "data": {
      "text/plain": [
       "[[0, 1, 2, 3, 4], [5, 6, 7, 8, 9]]"
      ]
     },
     "execution_count": 23,
     "metadata": {},
     "output_type": "execute_result"
    }
   ],
   "source": [
    "array1.tolist()#리스트 형식으로 뽑아준다."
   ]
  },
  {
   "cell_type": "code",
   "execution_count": 30,
   "id": "b717c756-c475-43a0-956d-b0d9cb4d7261",
   "metadata": {},
   "outputs": [],
   "source": [
    "array1 = np.arange(1,10)"
   ]
  },
  {
   "cell_type": "code",
   "execution_count": 27,
   "id": "3a664c70-160d-424f-8ee5-4a760d8dcafa",
   "metadata": {},
   "outputs": [
    {
     "data": {
      "text/plain": [
       "array([ 1,  2,  3,  4,  5,  6,  7,  8,  9, 10])"
      ]
     },
     "execution_count": 27,
     "metadata": {},
     "output_type": "execute_result"
    }
   ],
   "source": [
    "array1"
   ]
  },
  {
   "cell_type": "code",
   "execution_count": 28,
   "id": "6413aefe-a098-4d86-b617-265cbc52d209",
   "metadata": {},
   "outputs": [
    {
     "data": {
      "text/plain": [
       "3"
      ]
     },
     "execution_count": 28,
     "metadata": {},
     "output_type": "execute_result"
    }
   ],
   "source": [
    "array1[2]"
   ]
  },
  {
   "cell_type": "code",
   "execution_count": 29,
   "id": "657627c2-8adf-4598-a821-a00616b93ae0",
   "metadata": {},
   "outputs": [
    {
     "data": {
      "text/plain": [
       "9"
      ]
     },
     "execution_count": 29,
     "metadata": {},
     "output_type": "execute_result"
    }
   ],
   "source": [
    "array1[-2]"
   ]
  },
  {
   "cell_type": "code",
   "execution_count": 31,
   "id": "01500fd1-1921-4987-9648-6245cf88a7d3",
   "metadata": {},
   "outputs": [],
   "source": [
    "array2= array1.reshape(3,3)"
   ]
  },
  {
   "cell_type": "code",
   "execution_count": 32,
   "id": "3cf90984-bfaf-476d-8dd0-4517d2487453",
   "metadata": {},
   "outputs": [
    {
     "data": {
      "text/plain": [
       "array([[1, 2, 3],\n",
       "       [4, 5, 6],\n",
       "       [7, 8, 9]])"
      ]
     },
     "execution_count": 32,
     "metadata": {},
     "output_type": "execute_result"
    }
   ],
   "source": [
    "array2"
   ]
  },
  {
   "cell_type": "code",
   "execution_count": 34,
   "id": "6378f5ed-f466-4c48-b7ca-65d1c0a84213",
   "metadata": {},
   "outputs": [
    {
     "data": {
      "text/plain": [
       "5"
      ]
     },
     "execution_count": 34,
     "metadata": {},
     "output_type": "execute_result"
    }
   ],
   "source": [
    "array2[1,1]"
   ]
  },
  {
   "cell_type": "code",
   "execution_count": 35,
   "id": "873b44de-4471-4f01-858d-fdcc2361aaac",
   "metadata": {},
   "outputs": [
    {
     "data": {
      "text/plain": [
       "array([[5]])"
      ]
     },
     "execution_count": 35,
     "metadata": {},
     "output_type": "execute_result"
    }
   ],
   "source": [
    "array2[1:2,1:2]"
   ]
  },
  {
   "cell_type": "code",
   "execution_count": 36,
   "id": "056d1f80-8369-4acc-afd4-58c96ab64691",
   "metadata": {},
   "outputs": [
    {
     "data": {
      "text/plain": [
       "array([3, 1, 9, 5])"
      ]
     },
     "execution_count": 36,
     "metadata": {},
     "output_type": "execute_result"
    }
   ],
   "source": [
    "org_array = np.array([3,1,9,5])\n",
    "org_array"
   ]
  },
  {
   "cell_type": "code",
   "execution_count": 37,
   "id": "e0eb13f2-b93f-4f12-b776-59e3d98d5908",
   "metadata": {},
   "outputs": [
    {
     "data": {
      "text/plain": [
       "array([1, 3, 5, 9])"
      ]
     },
     "execution_count": 37,
     "metadata": {},
     "output_type": "execute_result"
    }
   ],
   "source": [
    "np.sort(org_array)#정렬 할 수 있다."
   ]
  },
  {
   "cell_type": "code",
   "execution_count": 38,
   "id": "43e4a46f-7eb6-4bc3-b46a-4a337dcdc189",
   "metadata": {},
   "outputs": [
    {
     "data": {
      "text/plain": [
       "array([3, 1, 9, 5])"
      ]
     },
     "execution_count": 38,
     "metadata": {},
     "output_type": "execute_result"
    }
   ],
   "source": [
    "org_array"
   ]
  },
  {
   "cell_type": "code",
   "execution_count": 39,
   "id": "43044227-6a03-4d80-a36b-8872b4c6d391",
   "metadata": {},
   "outputs": [],
   "source": [
    "org_array.sort()#원본을 sort 하면 정리한 값 이 리턴된다."
   ]
  },
  {
   "cell_type": "code",
   "execution_count": 40,
   "id": "0801de7d-4c1a-4a2c-a181-46b273c3c9a3",
   "metadata": {},
   "outputs": [
    {
     "data": {
      "text/plain": [
       "array([1, 3, 5, 9])"
      ]
     },
     "execution_count": 40,
     "metadata": {},
     "output_type": "execute_result"
    }
   ],
   "source": [
    "org_array"
   ]
  },
  {
   "cell_type": "code",
   "execution_count": 41,
   "id": "725ec49c-be11-4cb1-818e-873458ad2fc2",
   "metadata": {},
   "outputs": [
    {
     "data": {
      "text/plain": [
       "array([9, 5, 3, 1])"
      ]
     },
     "execution_count": 41,
     "metadata": {},
     "output_type": "execute_result"
    }
   ],
   "source": [
    "np.sort(org_array)[::-1]#역순 정렬"
   ]
  },
  {
   "cell_type": "code",
   "execution_count": 42,
   "id": "691d22d8-4613-4462-90f9-48ac4a069e41",
   "metadata": {},
   "outputs": [
    {
     "data": {
      "text/plain": [
       "array([1, 0, 3, 2], dtype=int64)"
      ]
     },
     "execution_count": 42,
     "metadata": {},
     "output_type": "execute_result"
    }
   ],
   "source": [
    "org_array = np.array([3,1,9,5])\n",
    "np.argsort(org_array)"
   ]
  },
  {
   "cell_type": "code",
   "execution_count": 43,
   "id": "441f0555-50bc-49ba-8a50-d3e27b316c1c",
   "metadata": {},
   "outputs": [
    {
     "data": {
      "text/plain": [
       "2"
      ]
     },
     "execution_count": 43,
     "metadata": {},
     "output_type": "execute_result"
    }
   ],
   "source": [
    "np.argmax(org_array)"
   ]
  },
  {
   "cell_type": "code",
   "execution_count": 44,
   "id": "ff827dcc-6dfa-4c6e-85f4-c37a9e24c9a8",
   "metadata": {},
   "outputs": [],
   "source": [
    "A = np.array([[1,2,3],[4,5,6]])\n",
    "B = np.array([[7,8],[9,10],[11,12]])"
   ]
  },
  {
   "cell_type": "code",
   "execution_count": 45,
   "id": "b3288c19-835e-46ae-9410-63dc0a7acd38",
   "metadata": {},
   "outputs": [
    {
     "data": {
      "text/plain": [
       "array([[1, 2, 3],\n",
       "       [4, 5, 6]])"
      ]
     },
     "execution_count": 45,
     "metadata": {},
     "output_type": "execute_result"
    }
   ],
   "source": [
    "A"
   ]
  },
  {
   "cell_type": "code",
   "execution_count": 46,
   "id": "69459ce5-2fc0-40fc-8ed1-2b47d06f21f2",
   "metadata": {},
   "outputs": [
    {
     "data": {
      "text/plain": [
       "array([[ 7,  8],\n",
       "       [ 9, 10],\n",
       "       [11, 12]])"
      ]
     },
     "execution_count": 46,
     "metadata": {},
     "output_type": "execute_result"
    }
   ],
   "source": [
    "B"
   ]
  },
  {
   "cell_type": "code",
   "execution_count": 47,
   "id": "b8ab9f5c-bba6-43da-8021-2165a5cf23c4",
   "metadata": {},
   "outputs": [
    {
     "data": {
      "text/plain": [
       "array([[ 58,  64],\n",
       "       [139, 154]])"
      ]
     },
     "execution_count": 47,
     "metadata": {},
     "output_type": "execute_result"
    }
   ],
   "source": [
    "np.dot(A,B) #행렬의 곱"
   ]
  },
  {
   "cell_type": "code",
   "execution_count": 48,
   "id": "e2ae2937-68da-47d2-b1bc-7f1a201cf38a",
   "metadata": {},
   "outputs": [
    {
     "data": {
      "text/plain": [
       "array([[ 39,  54,  69],\n",
       "       [ 49,  68,  87],\n",
       "       [ 59,  82, 105]])"
      ]
     },
     "execution_count": 48,
     "metadata": {},
     "output_type": "execute_result"
    }
   ],
   "source": [
    "np.dot(B,A) # 행렬의 곱"
   ]
  },
  {
   "cell_type": "code",
   "execution_count": null,
   "id": "33ae1f68-35a4-4060-a861-20fadf08e7d7",
   "metadata": {},
   "outputs": [],
   "source": []
  }
 ],
 "metadata": {
  "kernelspec": {
   "display_name": "Python 3",
   "language": "python",
   "name": "python3"
  },
  "language_info": {
   "codemirror_mode": {
    "name": "ipython",
    "version": 3
   },
   "file_extension": ".py",
   "mimetype": "text/x-python",
   "name": "python",
   "nbconvert_exporter": "python",
   "pygments_lexer": "ipython3",
   "version": "3.8.8"
  }
 },
 "nbformat": 4,
 "nbformat_minor": 5
}
