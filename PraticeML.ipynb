{
 "cells": [
  {
   "cell_type": "code",
   "execution_count": 8,
   "id": "1893ce19-be00-4df5-b53f-56b6fbbe3272",
   "metadata": {},
   "outputs": [],
   "source": [
    "import json\n",
    "import pandas as pd\n",
    "import sklearn\n",
    "import numpy as np\n",
    "from sklearn.preprocessing import LabelEncoder"
   ]
  },
  {
   "cell_type": "code",
   "execution_count": 11,
   "id": "fc69632c-f7a6-48a0-853b-a37e0949791c",
   "metadata": {},
   "outputs": [
    {
     "name": "stdout",
     "output_type": "stream",
     "text": [
      "                              행정구역 2020년_거주자 인구수  2020년_세대수  2020년_세대당 인구  \\\n",
      "0              서울특별시  (1100000000)     9,505,868  4,294,290          2.21   \n",
      "1           서울특별시 종로구 (1111000000)       144,017     70,734          2.04   \n",
      "2      서울특별시 종로구 청운효자동(1111051500)        12,057      5,098          2.37   \n",
      "3        서울특별시 종로구 사직동(1111053000)         9,080      4,431          2.05   \n",
      "4        서울특별시 종로구 삼청동(1111054000)         2,492      1,220          2.04   \n",
      "...                            ...           ...        ...           ...   \n",
      "3841  제주특별자치도 서귀포시 서홍동(5013058000)        10,572      4,321          2.45   \n",
      "3842  제주특별자치도 서귀포시 대륜동(5013059000)        14,651      6,402          2.29   \n",
      "3843  제주특별자치도 서귀포시 대천동(5013060000)        13,851      6,328          2.19   \n",
      "3844  제주특별자치도 서귀포시 중문동(5013061000)        11,522      5,473          2.11   \n",
      "3845  제주특별자치도 서귀포시 예래동(5013062000)         3,897      1,949          2.00   \n",
      "\n",
      "     2020년_남자 인구수 2020년_여자 인구수  2020년_남여 비율  \n",
      "0       4,623,790    4,882,078         0.95  \n",
      "1          70,140       73,877         0.95  \n",
      "2           5,628        6,429         0.88  \n",
      "3           4,085        4,995         0.82  \n",
      "4           1,211        1,281         0.95  \n",
      "...           ...          ...          ...  \n",
      "3841        5,227        5,345         0.98  \n",
      "3842        7,403        7,248         1.02  \n",
      "3843        7,064        6,787         1.04  \n",
      "3844        5,938        5,584         1.06  \n",
      "3845        2,002        1,895         1.06  \n",
      "\n",
      "[3846 rows x 7 columns]\n"
     ]
    }
   ],
   "source": [
    "df=pd.read_csv('202012_202012_주민등록인구및세대현황_연간.csv',encoding='cp949')\n",
    "print (df) "
   ]
  },
  {
   "cell_type": "code",
   "execution_count": 12,
   "id": "05f8b299-d6dc-44a4-8ce3-a4b0de456d29",
   "metadata": {},
   "outputs": [
    {
     "name": "stdout",
     "output_type": "stream",
     "text": [
      "<class 'pandas.core.frame.DataFrame'>\n",
      "RangeIndex: 3846 entries, 0 to 3845\n",
      "Data columns (total 7 columns):\n",
      " #   Column         Non-Null Count  Dtype  \n",
      "---  ------         --------------  -----  \n",
      " 0   행정구역           3846 non-null   object \n",
      " 1   2020년_거주자 인구수  3846 non-null   object \n",
      " 2   2020년_세대수      3846 non-null   object \n",
      " 3   2020년_세대당 인구   3846 non-null   float64\n",
      " 4   2020년_남자 인구수   3846 non-null   object \n",
      " 5   2020년_여자 인구수   3846 non-null   object \n",
      " 6   2020년_남여 비율    3846 non-null   float64\n",
      "dtypes: float64(2), object(5)\n",
      "memory usage: 210.5+ KB\n"
     ]
    }
   ],
   "source": [
    "df.info()"
   ]
  },
  {
   "cell_type": "code",
   "execution_count": 13,
   "id": "45105ab2-cb3b-46f3-b16a-9228ba632d9e",
   "metadata": {},
   "outputs": [],
   "source": [
    "X_train = np.array(['행정구역','2020년_거주자 인구수','2020년_남여 비율'])\n",
    "X_test = np.array(['행정구역','2020년_거주자 인구수','2020년_남여 비율'])"
   ]
  },
  {
   "cell_type": "code",
   "execution_count": 14,
   "id": "816c1e2f-06b3-4f79-a982-cd68f2e4e5c6",
   "metadata": {},
   "outputs": [],
   "source": [
    "encoder = LabelEncoder()\n",
    "encoder.fit(X_train)\n",
    "X_train_encoded=encoder.transform(X_train)\n",
    "for label in np.unique(X_test):\n",
    "    if label not in encoder.classes_:\n",
    "        encoder.classes_=np.append(encoder.classes_,label)\n",
    "X_test_encoded = encoder.transform(X_test)"
   ]
  },
  {
   "cell_type": "code",
   "execution_count": 15,
   "id": "1b22a161-9a6e-43c1-8430-f7956a6f11bd",
   "metadata": {},
   "outputs": [
    {
     "name": "stdout",
     "output_type": "stream",
     "text": [
      "['2020년_거주자 인구수' '2020년_남여 비율' '행정구역']\n"
     ]
    }
   ],
   "source": [
    "print(encoder.classes_)"
   ]
  },
  {
   "cell_type": "code",
   "execution_count": 16,
   "id": "057d0165-f235-495c-a3cc-a981bc4c2d73",
   "metadata": {},
   "outputs": [
    {
     "name": "stdout",
     "output_type": "stream",
     "text": [
      "['행정구역' '2020년_거주자 인구수' '2020년_남여 비율'] ==> [2 0 1]\n"
     ]
    }
   ],
   "source": [
    "print(X_test,\"==>\",X_test_encoded)"
   ]
  },
  {
   "cell_type": "code",
   "execution_count": 17,
   "id": "df28e00e-1fc5-411f-a843-8b78274a4de5",
   "metadata": {},
   "outputs": [
    {
     "name": "stdout",
     "output_type": "stream",
     "text": [
      "['2020년_거주자 인구수' '2020년_남여 비율' '행정구역']\n"
     ]
    }
   ],
   "source": [
    "print(encoder.inverse_transform([0,1,2]))"
   ]
  },
  {
   "cell_type": "code",
   "execution_count": 18,
   "id": "46813e3d-8c06-44a6-a7a0-a3613277582d",
   "metadata": {},
   "outputs": [
    {
     "data": {
      "text/html": [
       "<div>\n",
       "<style scoped>\n",
       "    .dataframe tbody tr th:only-of-type {\n",
       "        vertical-align: middle;\n",
       "    }\n",
       "\n",
       "    .dataframe tbody tr th {\n",
       "        vertical-align: top;\n",
       "    }\n",
       "\n",
       "    .dataframe thead th {\n",
       "        text-align: right;\n",
       "    }\n",
       "</style>\n",
       "<table border=\"1\" class=\"dataframe\">\n",
       "  <thead>\n",
       "    <tr style=\"text-align: right;\">\n",
       "      <th></th>\n",
       "      <th>행정구역</th>\n",
       "      <th>2020년_거주자 인구수</th>\n",
       "      <th>2020년_세대수</th>\n",
       "      <th>2020년_세대당 인구</th>\n",
       "      <th>2020년_남자 인구수</th>\n",
       "      <th>2020년_여자 인구수</th>\n",
       "      <th>2020년_남여 비율</th>\n",
       "    </tr>\n",
       "  </thead>\n",
       "  <tbody>\n",
       "    <tr>\n",
       "      <th>2093</th>\n",
       "      <td>충청북도 청주시 상당구 남일면(4311134000)</td>\n",
       "      <td>6,819</td>\n",
       "      <td>3,109</td>\n",
       "      <td>2.19</td>\n",
       "      <td>3,442</td>\n",
       "      <td>3,377</td>\n",
       "      <td>1.02</td>\n",
       "    </tr>\n",
       "  </tbody>\n",
       "</table>\n",
       "</div>"
      ],
      "text/plain": [
       "                              행정구역 2020년_거주자 인구수 2020년_세대수  2020년_세대당 인구  \\\n",
       "2093  충청북도 청주시 상당구 남일면(4311134000)         6,819     3,109          2.19   \n",
       "\n",
       "     2020년_남자 인구수 2020년_여자 인구수  2020년_남여 비율  \n",
       "2093        3,442        3,377         1.02  "
      ]
     },
     "execution_count": 18,
     "metadata": {},
     "output_type": "execute_result"
    }
   ],
   "source": [
    "df.sample()"
   ]
  },
  {
   "cell_type": "code",
   "execution_count": 21,
   "id": "44d2130b-a115-4319-adf2-a359c740e246",
   "metadata": {},
   "outputs": [],
   "source": [
    "df_new=df.drop(['2020년_세대수','2020년_세대당 인구','2020년_남자 인구수','2020년_여자 인구수'],axis=1)"
   ]
  },
  {
   "cell_type": "code",
   "execution_count": 22,
   "id": "0f8112a8-ceec-4628-be6b-884985b14a74",
   "metadata": {},
   "outputs": [
    {
     "data": {
      "text/html": [
       "<div>\n",
       "<style scoped>\n",
       "    .dataframe tbody tr th:only-of-type {\n",
       "        vertical-align: middle;\n",
       "    }\n",
       "\n",
       "    .dataframe tbody tr th {\n",
       "        vertical-align: top;\n",
       "    }\n",
       "\n",
       "    .dataframe thead th {\n",
       "        text-align: right;\n",
       "    }\n",
       "</style>\n",
       "<table border=\"1\" class=\"dataframe\">\n",
       "  <thead>\n",
       "    <tr style=\"text-align: right;\">\n",
       "      <th></th>\n",
       "      <th>행정구역</th>\n",
       "      <th>2020년_거주자 인구수</th>\n",
       "      <th>2020년_남여 비율</th>\n",
       "    </tr>\n",
       "  </thead>\n",
       "  <tbody>\n",
       "    <tr>\n",
       "      <th>0</th>\n",
       "      <td>서울특별시  (1100000000)</td>\n",
       "      <td>9,505,868</td>\n",
       "      <td>0.95</td>\n",
       "    </tr>\n",
       "    <tr>\n",
       "      <th>1</th>\n",
       "      <td>서울특별시 종로구 (1111000000)</td>\n",
       "      <td>144,017</td>\n",
       "      <td>0.95</td>\n",
       "    </tr>\n",
       "    <tr>\n",
       "      <th>2</th>\n",
       "      <td>서울특별시 종로구 청운효자동(1111051500)</td>\n",
       "      <td>12,057</td>\n",
       "      <td>0.88</td>\n",
       "    </tr>\n",
       "    <tr>\n",
       "      <th>3</th>\n",
       "      <td>서울특별시 종로구 사직동(1111053000)</td>\n",
       "      <td>9,080</td>\n",
       "      <td>0.82</td>\n",
       "    </tr>\n",
       "    <tr>\n",
       "      <th>4</th>\n",
       "      <td>서울특별시 종로구 삼청동(1111054000)</td>\n",
       "      <td>2,492</td>\n",
       "      <td>0.95</td>\n",
       "    </tr>\n",
       "    <tr>\n",
       "      <th>...</th>\n",
       "      <td>...</td>\n",
       "      <td>...</td>\n",
       "      <td>...</td>\n",
       "    </tr>\n",
       "    <tr>\n",
       "      <th>3841</th>\n",
       "      <td>제주특별자치도 서귀포시 서홍동(5013058000)</td>\n",
       "      <td>10,572</td>\n",
       "      <td>0.98</td>\n",
       "    </tr>\n",
       "    <tr>\n",
       "      <th>3842</th>\n",
       "      <td>제주특별자치도 서귀포시 대륜동(5013059000)</td>\n",
       "      <td>14,651</td>\n",
       "      <td>1.02</td>\n",
       "    </tr>\n",
       "    <tr>\n",
       "      <th>3843</th>\n",
       "      <td>제주특별자치도 서귀포시 대천동(5013060000)</td>\n",
       "      <td>13,851</td>\n",
       "      <td>1.04</td>\n",
       "    </tr>\n",
       "    <tr>\n",
       "      <th>3844</th>\n",
       "      <td>제주특별자치도 서귀포시 중문동(5013061000)</td>\n",
       "      <td>11,522</td>\n",
       "      <td>1.06</td>\n",
       "    </tr>\n",
       "    <tr>\n",
       "      <th>3845</th>\n",
       "      <td>제주특별자치도 서귀포시 예래동(5013062000)</td>\n",
       "      <td>3,897</td>\n",
       "      <td>1.06</td>\n",
       "    </tr>\n",
       "  </tbody>\n",
       "</table>\n",
       "<p>3846 rows × 3 columns</p>\n",
       "</div>"
      ],
      "text/plain": [
       "                              행정구역 2020년_거주자 인구수  2020년_남여 비율\n",
       "0              서울특별시  (1100000000)     9,505,868         0.95\n",
       "1           서울특별시 종로구 (1111000000)       144,017         0.95\n",
       "2      서울특별시 종로구 청운효자동(1111051500)        12,057         0.88\n",
       "3        서울특별시 종로구 사직동(1111053000)         9,080         0.82\n",
       "4        서울특별시 종로구 삼청동(1111054000)         2,492         0.95\n",
       "...                            ...           ...          ...\n",
       "3841  제주특별자치도 서귀포시 서홍동(5013058000)        10,572         0.98\n",
       "3842  제주특별자치도 서귀포시 대륜동(5013059000)        14,651         1.02\n",
       "3843  제주특별자치도 서귀포시 대천동(5013060000)        13,851         1.04\n",
       "3844  제주특별자치도 서귀포시 중문동(5013061000)        11,522         1.06\n",
       "3845  제주특별자치도 서귀포시 예래동(5013062000)         3,897         1.06\n",
       "\n",
       "[3846 rows x 3 columns]"
      ]
     },
     "execution_count": 22,
     "metadata": {},
     "output_type": "execute_result"
    }
   ],
   "source": [
    "df_new"
   ]
  },
  {
   "cell_type": "code",
   "execution_count": 23,
   "id": "12f628cc-11b1-4096-a92e-f1b37238f226",
   "metadata": {},
   "outputs": [
    {
     "name": "stdout",
     "output_type": "stream",
     "text": [
      "<class 'pandas.core.frame.DataFrame'>\n",
      "RangeIndex: 3846 entries, 0 to 3845\n",
      "Data columns (total 3 columns):\n",
      " #   Column         Non-Null Count  Dtype  \n",
      "---  ------         --------------  -----  \n",
      " 0   행정구역           3846 non-null   object \n",
      " 1   2020년_거주자 인구수  3846 non-null   object \n",
      " 2   2020년_남여 비율    3846 non-null   float64\n",
      "dtypes: float64(1), object(2)\n",
      "memory usage: 90.3+ KB\n"
     ]
    }
   ],
   "source": [
    "df_new.info()"
   ]
  },
  {
   "cell_type": "code",
   "execution_count": null,
   "id": "a9230783-252b-4cd1-9c1b-ce53135c20c1",
   "metadata": {},
   "outputs": [],
   "source": []
  }
 ],
 "metadata": {
  "kernelspec": {
   "display_name": "Python 3",
   "language": "python",
   "name": "python3"
  },
  "language_info": {
   "codemirror_mode": {
    "name": "ipython",
    "version": 3
   },
   "file_extension": ".py",
   "mimetype": "text/x-python",
   "name": "python",
   "nbconvert_exporter": "python",
   "pygments_lexer": "ipython3",
   "version": "3.8.8"
  }
 },
 "nbformat": 4,
 "nbformat_minor": 5
}
